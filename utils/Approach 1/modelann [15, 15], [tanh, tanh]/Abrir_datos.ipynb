{
 "cells": [
  {
   "cell_type": "markdown",
   "metadata": {},
   "source": [
    "# Practica Final de ML1.\n",
    "\n",
    "Usamos un dataset sacado de https://archive.ics.uci.edu/dataset/203/yearpredictionmsd,  con aprox medio millon de instances y noventa atributos donde 12 son sobre el timbre medio y los otros 78 sobre la desviacion estandar del timbre. Nuestro objetivo es, con todos estos datos, determinar el año de la canción  (+ info sobre el dataset y como poder entrenarlo aqui https://samyzaf.com/ML/song_year/song_year.html). Cargamos el dataset, primero como un DataFrame para ver la distribución de los datos y a continuación como array. \n",
    "\n",
    "*** No es necesario en ppio guardar los modelos, guardar simplemente los outputs de los modelos***"
   ]
  },
  {
   "cell_type": "code",
   "execution_count": 1,
   "metadata": {},
   "outputs": [
    {
     "data": {
      "text/html": [
       "<div><div style = \"float: left;\"><span>91×7 DataFrame</span></div><div style = \"float: right;\"><span style = \"font-style: italic;\">66 rows omitted</span></div><div style = \"clear: both;\"></div></div><div class = \"data-frame\" style = \"overflow-x: scroll;\"><table class = \"data-frame\" style = \"margin-bottom: 6px;\"><thead><tr class = \"header\"><th class = \"rowNumber\" style = \"font-weight: bold; text-align: right;\">Row</th><th style = \"text-align: left;\">variable</th><th style = \"text-align: left;\">mean</th><th style = \"text-align: left;\">min</th><th style = \"text-align: left;\">median</th><th style = \"text-align: left;\">max</th><th style = \"text-align: left;\">nmissing</th><th style = \"text-align: left;\">eltype</th></tr><tr class = \"subheader headerLastRow\"><th class = \"rowNumber\" style = \"font-weight: bold; text-align: right;\"></th><th title = \"Symbol\" style = \"text-align: left;\">Symbol</th><th title = \"Float64\" style = \"text-align: left;\">Float64</th><th title = \"Real\" style = \"text-align: left;\">Real</th><th title = \"Float64\" style = \"text-align: left;\">Float64</th><th title = \"Real\" style = \"text-align: left;\">Real</th><th title = \"Int64\" style = \"text-align: left;\">Int64</th><th title = \"DataType\" style = \"text-align: left;\">DataType</th></tr></thead><tbody><tr><td class = \"rowNumber\" style = \"font-weight: bold; text-align: right;\">1</td><td style = \"text-align: left;\">2001</td><td style = \"text-align: right;\">1998.4</td><td style = \"text-align: right;\">1922</td><td style = \"text-align: right;\">2002.0</td><td style = \"text-align: right;\">2011</td><td style = \"text-align: right;\">0</td><td style = \"text-align: left;\">Int64</td></tr><tr><td class = \"rowNumber\" style = \"font-weight: bold; text-align: right;\">2</td><td style = \"text-align: left;\">49.94357</td><td style = \"text-align: right;\">43.3871</td><td style = \"text-align: right;\">1.749</td><td style = \"text-align: right;\">44.2585</td><td style = \"text-align: right;\">61.9701</td><td style = \"text-align: right;\">0</td><td style = \"text-align: left;\">Float64</td></tr><tr><td class = \"rowNumber\" style = \"font-weight: bold; text-align: right;\">3</td><td style = \"text-align: left;\">21.47114</td><td style = \"text-align: right;\">1.28952</td><td style = \"text-align: right;\">-337.092</td><td style = \"text-align: right;\">8.41773</td><td style = \"text-align: right;\">384.066</td><td style = \"text-align: right;\">0</td><td style = \"text-align: left;\">Float64</td></tr><tr><td class = \"rowNumber\" style = \"font-weight: bold; text-align: right;\">4</td><td style = \"text-align: left;\">73.07750</td><td style = \"text-align: right;\">8.65822</td><td style = \"text-align: right;\">-301.005</td><td style = \"text-align: right;\">10.4762</td><td style = \"text-align: right;\">322.851</td><td style = \"text-align: right;\">0</td><td style = \"text-align: left;\">Float64</td></tr><tr><td class = \"rowNumber\" style = \"font-weight: bold; text-align: right;\">5</td><td style = \"text-align: left;\">8.74861</td><td style = \"text-align: right;\">1.16411</td><td style = \"text-align: right;\">-154.184</td><td style = \"text-align: right;\">-0.652855</td><td style = \"text-align: right;\">335.772</td><td style = \"text-align: right;\">0</td><td style = \"text-align: left;\">Float64</td></tr><tr><td class = \"rowNumber\" style = \"font-weight: bold; text-align: right;\">6</td><td style = \"text-align: left;\">-17.40628</td><td style = \"text-align: right;\">-6.55358</td><td style = \"text-align: right;\">-181.953</td><td style = \"text-align: right;\">-6.00777</td><td style = \"text-align: right;\">262.069</td><td style = \"text-align: right;\">0</td><td style = \"text-align: left;\">Float64</td></tr><tr><td class = \"rowNumber\" style = \"font-weight: bold; text-align: right;\">7</td><td style = \"text-align: left;\">-13.09905</td><td style = \"text-align: right;\">-9.52197</td><td style = \"text-align: right;\">-81.7943</td><td style = \"text-align: right;\">-11.1884</td><td style = \"text-align: right;\">166.237</td><td style = \"text-align: right;\">0</td><td style = \"text-align: left;\">Float64</td></tr><tr><td class = \"rowNumber\" style = \"font-weight: bold; text-align: right;\">8</td><td style = \"text-align: left;\">-25.01202</td><td style = \"text-align: right;\">-2.39105</td><td style = \"text-align: right;\">-188.214</td><td style = \"text-align: right;\">-2.04663</td><td style = \"text-align: right;\">172.403</td><td style = \"text-align: right;\">0</td><td style = \"text-align: left;\">Float64</td></tr><tr><td class = \"rowNumber\" style = \"font-weight: bold; text-align: right;\">9</td><td style = \"text-align: left;\">-12.23257</td><td style = \"text-align: right;\">-1.79322</td><td style = \"text-align: right;\">-72.5038</td><td style = \"text-align: right;\">-1.73642</td><td style = \"text-align: right;\">126.741</td><td style = \"text-align: right;\">0</td><td style = \"text-align: left;\">Float64</td></tr><tr><td class = \"rowNumber\" style = \"font-weight: bold; text-align: right;\">10</td><td style = \"text-align: left;\">7.83089</td><td style = \"text-align: right;\">3.72787</td><td style = \"text-align: right;\">-126.479</td><td style = \"text-align: right;\">3.82231</td><td style = \"text-align: right;\">146.298</td><td style = \"text-align: right;\">0</td><td style = \"text-align: left;\">Float64</td></tr><tr><td class = \"rowNumber\" style = \"font-weight: bold; text-align: right;\">11</td><td style = \"text-align: left;\">-2.46783</td><td style = \"text-align: right;\">1.88239</td><td style = \"text-align: right;\">-41.6317</td><td style = \"text-align: right;\">1.78353</td><td style = \"text-align: right;\">60.3454</td><td style = \"text-align: right;\">0</td><td style = \"text-align: left;\">Float64</td></tr><tr><td class = \"rowNumber\" style = \"font-weight: bold; text-align: right;\">12</td><td style = \"text-align: left;\">3.32136</td><td style = \"text-align: right;\">-0.146534</td><td style = \"text-align: right;\">-69.6809</td><td style = \"text-align: right;\">-0.09795</td><td style = \"text-align: right;\">88.0208</td><td style = \"text-align: right;\">0</td><td style = \"text-align: left;\">Float64</td></tr><tr><td class = \"rowNumber\" style = \"font-weight: bold; text-align: right;\">13</td><td style = \"text-align: left;\">-2.31521</td><td style = \"text-align: right;\">2.54607</td><td style = \"text-align: right;\">-94.042</td><td style = \"text-align: right;\">2.3137</td><td style = \"text-align: right;\">87.9132</td><td style = \"text-align: right;\">0</td><td style = \"text-align: left;\">Float64</td></tr><tr><td style = \"text-align: right;\">&vellip;</td><td style = \"text-align: right;\">&vellip;</td><td style = \"text-align: right;\">&vellip;</td><td style = \"text-align: right;\">&vellip;</td><td style = \"text-align: right;\">&vellip;</td><td style = \"text-align: right;\">&vellip;</td><td style = \"text-align: right;\">&vellip;</td><td style = \"text-align: right;\">&vellip;</td></tr><tr><td class = \"rowNumber\" style = \"font-weight: bold; text-align: right;\">80</td><td style = \"text-align: left;\">-54.32125</td><td style = \"text-align: right;\">-104.975</td><td style = \"text-align: right;\">-8390.04</td><td style = \"text-align: right;\">-71.4087</td><td style = \"text-align: right;\">5188.33</td><td style = \"text-align: right;\">0</td><td style = \"text-align: left;\">Float64</td></tr><tr><td class = \"rowNumber\" style = \"font-weight: bold; text-align: right;\">81</td><td style = \"text-align: left;\">40.14786</td><td style = \"text-align: right;\">26.9624</td><td style = \"text-align: right;\">-4754.94</td><td style = \"text-align: right;\">26.8964</td><td style = \"text-align: right;\">3735.03</td><td style = \"text-align: right;\">0</td><td style = \"text-align: left;\">Float64</td></tr><tr><td class = \"rowNumber\" style = \"font-weight: bold; text-align: right;\">82</td><td style = \"text-align: left;\">13.01620</td><td style = \"text-align: right;\">15.7554</td><td style = \"text-align: right;\">-437.722</td><td style = \"text-align: right;\">9.17185</td><td style = \"text-align: right;\">840.973</td><td style = \"text-align: right;\">0</td><td style = \"text-align: left;\">Float64</td></tr><tr><td class = \"rowNumber\" style = \"font-weight: bold; text-align: right;\">83</td><td style = \"text-align: left;\">-54.40548</td><td style = \"text-align: right;\">-73.4615</td><td style = \"text-align: right;\">-4402.38</td><td style = \"text-align: right;\">-53.0891</td><td style = \"text-align: right;\">4469.45</td><td style = \"text-align: right;\">0</td><td style = \"text-align: left;\">Float64</td></tr><tr><td class = \"rowNumber\" style = \"font-weight: bold; text-align: right;\">84</td><td style = \"text-align: left;\">58.99367</td><td style = \"text-align: right;\">41.5424</td><td style = \"text-align: right;\">-1810.69</td><td style = \"text-align: right;\">28.7906</td><td style = \"text-align: right;\">3210.7</td><td style = \"text-align: right;\">0</td><td style = \"text-align: left;\">Float64</td></tr><tr><td class = \"rowNumber\" style = \"font-weight: bold; text-align: right;\">85</td><td style = \"text-align: left;\">15.37344</td><td style = \"text-align: right;\">37.9342</td><td style = \"text-align: right;\">-3098.35</td><td style = \"text-align: right;\">33.6238</td><td style = \"text-align: right;\">1734.08</td><td style = \"text-align: right;\">0</td><td style = \"text-align: left;\">Float64</td></tr><tr><td class = \"rowNumber\" style = \"font-weight: bold; text-align: right;\">86</td><td style = \"text-align: left;\">1.11144</td><td style = \"text-align: right;\">0.31575</td><td style = \"text-align: right;\">-341.789</td><td style = \"text-align: right;\">0.82083</td><td style = \"text-align: right;\">260.545</td><td style = \"text-align: right;\">0</td><td style = \"text-align: left;\">Float64</td></tr><tr><td class = \"rowNumber\" style = \"font-weight: bold; text-align: right;\">87</td><td style = \"text-align: left;\">-23.08793</td><td style = \"text-align: right;\">17.6693</td><td style = \"text-align: right;\">-3168.92</td><td style = \"text-align: right;\">15.5985</td><td style = \"text-align: right;\">3662.07</td><td style = \"text-align: right;\">0</td><td style = \"text-align: left;\">Float64</td></tr><tr><td class = \"rowNumber\" style = \"font-weight: bold; text-align: right;\">88</td><td style = \"text-align: left;\">68.40795</td><td style = \"text-align: right;\">-26.3155</td><td style = \"text-align: right;\">-4319.99</td><td style = \"text-align: right;\">-21.2042</td><td style = \"text-align: right;\">2833.61</td><td style = \"text-align: right;\">0</td><td style = \"text-align: left;\">Float64</td></tr><tr><td class = \"rowNumber\" style = \"font-weight: bold; text-align: right;\">89</td><td style = \"text-align: left;\">-1.82223</td><td style = \"text-align: right;\">4.45865</td><td style = \"text-align: right;\">-236.039</td><td style = \"text-align: right;\">3.11764</td><td style = \"text-align: right;\">463.42</td><td style = \"text-align: right;\">0</td><td style = \"text-align: left;\">Float64</td></tr><tr><td class = \"rowNumber\" style = \"font-weight: bold; text-align: right;\">90</td><td style = \"text-align: left;\">-27.46348</td><td style = \"text-align: right;\">20.0352</td><td style = \"text-align: right;\">-7458.38</td><td style = \"text-align: right;\">7.75991</td><td style = \"text-align: right;\">7393.4</td><td style = \"text-align: right;\">0</td><td style = \"text-align: left;\">Float64</td></tr><tr><td class = \"rowNumber\" style = \"font-weight: bold; text-align: right;\">91</td><td style = \"text-align: left;\">2.26327</td><td style = \"text-align: right;\">1.3291</td><td style = \"text-align: right;\">-381.424</td><td style = \"text-align: right;\">0.053015</td><td style = \"text-align: right;\">677.9</td><td style = \"text-align: right;\">0</td><td style = \"text-align: left;\">Float64</td></tr></tbody></table></div>"
      ],
      "text/latex": [
       "\\begin{tabular}{r|ccccccc}\n",
       "\t& variable & mean & min & median & max & nmissing & eltype\\\\\n",
       "\t\\hline\n",
       "\t& Symbol & Float64 & Real & Float64 & Real & Int64 & DataType\\\\\n",
       "\t\\hline\n",
       "\t1 & 2001 & 1998.4 & 1922 & 2002.0 & 2011 & 0 & Int64 \\\\\n",
       "\t2 & 49.94357 & 43.3871 & 1.749 & 44.2585 & 61.9701 & 0 & Float64 \\\\\n",
       "\t3 & 21.47114 & 1.28952 & -337.092 & 8.41773 & 384.066 & 0 & Float64 \\\\\n",
       "\t4 & 73.07750 & 8.65822 & -301.005 & 10.4762 & 322.851 & 0 & Float64 \\\\\n",
       "\t5 & 8.74861 & 1.16411 & -154.184 & -0.652855 & 335.772 & 0 & Float64 \\\\\n",
       "\t6 & -17.40628 & -6.55358 & -181.953 & -6.00777 & 262.069 & 0 & Float64 \\\\\n",
       "\t7 & -13.09905 & -9.52197 & -81.7943 & -11.1884 & 166.237 & 0 & Float64 \\\\\n",
       "\t8 & -25.01202 & -2.39105 & -188.214 & -2.04663 & 172.403 & 0 & Float64 \\\\\n",
       "\t9 & -12.23257 & -1.79322 & -72.5038 & -1.73642 & 126.741 & 0 & Float64 \\\\\n",
       "\t10 & 7.83089 & 3.72787 & -126.479 & 3.82231 & 146.298 & 0 & Float64 \\\\\n",
       "\t11 & -2.46783 & 1.88239 & -41.6317 & 1.78353 & 60.3454 & 0 & Float64 \\\\\n",
       "\t12 & 3.32136 & -0.146534 & -69.6809 & -0.09795 & 88.0208 & 0 & Float64 \\\\\n",
       "\t13 & -2.31521 & 2.54607 & -94.042 & 2.3137 & 87.9132 & 0 & Float64 \\\\\n",
       "\t14 & 10.20556 & 33.7141 & 0.13283 & 29.0952 & 549.765 & 0 & Float64 \\\\\n",
       "\t15 & 611.10913 & 2439.36 & 8.4742 & 2009.31 & 65735.8 & 0 & Float64 \\\\\n",
       "\t16 & 951.08960 & 1967.74 & 21.2143 & 1687.79 & 36816.8 & 0 & Float64 \\\\\n",
       "\t17 & 698.11428 & 1514.86 & 17.8579 & 1240.77 & 31849.5 & 0 & Float64 \\\\\n",
       "\t18 & 408.98485 & 910.982 & 12.1504 & 817.275 & 19865.9 & 0 & Float64 \\\\\n",
       "\t19 & 383.70912 & 879.148 & 5.51771 & 739.487 & 16831.9 & 0 & Float64 \\\\\n",
       "\t20 & 326.51512 & 603.738 & 19.8088 & 541.535 & 11901.7 & 0 & Float64 \\\\\n",
       "\t21 & 238.11327 & 517.58 & 6.25487 & 444.777 & 9569.78 & 0 & Float64 \\\\\n",
       "\t22 & 251.42414 & 393.962 & 6.18376 & 349.743 & 9616.62 & 0 & Float64 \\\\\n",
       "\t23 & 187.17351 & 325.733 & 15.3075 & 292.736 & 3721.87 & 0 & Float64 \\\\\n",
       "\t24 & 100.42652 & 288.885 & 6.11644 & 242.081 & 6737.12 & 0 & Float64 \\\\\n",
       "\t$\\dots$ & $\\dots$ & $\\dots$ & $\\dots$ & $\\dots$ & $\\dots$ & $\\dots$ & $\\dots$ \\\\\n",
       "\\end{tabular}\n"
      ],
      "text/plain": [
       "\u001b[1m91×7 DataFrame\u001b[0m\n",
       "\u001b[1m Row \u001b[0m│\u001b[1m variable  \u001b[0m\u001b[1m mean       \u001b[0m\u001b[1m min        \u001b[0m\u001b[1m median      \u001b[0m\u001b[1m max       \u001b[0m\u001b[1m nmissing \u001b[0m\u001b[1m el\u001b[0m ⋯\n",
       "     │\u001b[90m Symbol    \u001b[0m\u001b[90m Float64    \u001b[0m\u001b[90m Real       \u001b[0m\u001b[90m Float64     \u001b[0m\u001b[90m Real      \u001b[0m\u001b[90m Int64    \u001b[0m\u001b[90m Da\u001b[0m ⋯\n",
       "─────┼──────────────────────────────────────────────────────────────────────────\n",
       "   1 │ 2001       1998.4       1922       2002.0       2011              0  In ⋯\n",
       "   2 │ 49.94357     43.3871       1.749     44.2585      61.9701         0  Fl\n",
       "   3 │ 21.47114      1.28952   -337.092      8.41773    384.066          0  Fl\n",
       "   4 │ 73.07750      8.65822   -301.005     10.4762     322.851          0  Fl\n",
       "   5 │ 8.74861       1.16411   -154.184     -0.652855   335.772          0  Fl ⋯\n",
       "   6 │ -17.40628    -6.55358   -181.953     -6.00777    262.069          0  Fl\n",
       "   7 │ -13.09905    -9.52197    -81.7943   -11.1884     166.237          0  Fl\n",
       "   8 │ -25.01202    -2.39105   -188.214     -2.04663    172.403          0  Fl\n",
       "  ⋮  │     ⋮          ⋮           ⋮            ⋮           ⋮         ⋮         ⋱\n",
       "  85 │ 15.37344     37.9342   -3098.35      33.6238    1734.08           0  Fl ⋯\n",
       "  86 │ 1.11144       0.31575   -341.789      0.82083    260.545          0  Fl\n",
       "  87 │ -23.08793    17.6693   -3168.92      15.5985    3662.07           0  Fl\n",
       "  88 │ 68.40795    -26.3155   -4319.99     -21.2042    2833.61           0  Fl\n",
       "  89 │ -1.82223      4.45865   -236.039      3.11764    463.42           0  Fl ⋯\n",
       "  90 │ -27.46348    20.0352   -7458.38       7.75991   7393.4            0  Fl\n",
       "  91 │ 2.26327       1.3291    -381.424      0.053015   677.9            0  Fl\n",
       "\u001b[36m                                                    1 column and 76 rows omitted\u001b[0m"
      ]
     },
     "metadata": {},
     "output_type": "display_data"
    }
   ],
   "source": [
    "using Downloads;\n",
    "using DelimitedFiles;\n",
    "using CSV;\n",
    "using DataFrames;\n",
    "using StatsBase;\n",
    "\n",
    "data = CSV.File(\"YearPredictionMSD.txt\") |> DataFrame;\n",
    "describe(data)"
   ]
  },
  {
   "cell_type": "code",
   "execution_count": 2,
   "metadata": {},
   "outputs": [],
   "source": [
    "data_or = readdlm(\"YearPredictionMSD.txt\", ',');\n",
    "# data = filter(year -> year > 1965, data[:,1]);\n",
    "# data = filter(year -> year < 2010, data[:,1]);\n",
    "targets = data_or[:,1];\n",
    "targets = round.(Int,targets);\n",
    "index = ((targets .> 1995) .& (targets .< 2011))\n",
    "data = data_or[index,:];\n",
    "print(size(data))"
   ]
  },
  {
   "cell_type": "code",
   "execution_count": 3,
   "metadata": {},
   "outputs": [
    {
     "name": "stdout",
     "output_type": "stream",
     "text": [
      "(371763, 91)"
     ]
    },
    {
     "name": "stdout",
     "output_type": "stream",
     "text": [
      "(75000, 91)"
     ]
    }
   ],
   "source": [
    "unique_years = unique(data[:,1]);\n",
    "new_data = [];\n",
    "for year in unique_years\n",
    "    year_data = data[(data[:,1] .== year), :];\n",
    "    index = collect(1:size(year_data,1));\n",
    "    index_reduced = StatsBase.sample(1:size(year_data,1), 5000, replace=false)\n",
    "    year_data = data[index_reduced, :];\n",
    "    new_data = vcat(new_data, year_data)\n",
    "end\n",
    "print(size(new_data))"
   ]
  },
  {
   "cell_type": "markdown",
   "metadata": {},
   "source": [
    "Una vez definido en un array los datos para nuestro modelo, deberemos determinar como intentaremos resolver nuestro problema, determinar el año de la canción. Para resolver este problema deberemos tener cuatro formas de tratar los datos diferentes, en nuestro caso usaremos:\n",
    "\n",
    "1. El dataset entero (modificando el validation set etc).\n",
    "2. Reducir el dataset con alguno de los metodos de la unit 8. (PCA media 0 y std 1).\n",
    "3. Hacer agrupaciones nosotros individuales (usamos los datos de media y de std individualmente).\n",
    "\n",
    "En principio deberíamos realizar la normalización de todos los datos (si nos sobra tiempo podemos probar a no usar la normalización)."
   ]
  },
  {
   "cell_type": "code",
   "execution_count": 4,
   "metadata": {},
   "outputs": [
    {
     "data": {
      "text/plain": [
       "trainClassEnsemble (generic function with 1 method)"
      ]
     },
     "metadata": {},
     "output_type": "display_data"
    }
   ],
   "source": [
    "include(\"functions_finalproject.jl\");\n",
    "\n",
    "#CAMBIAR EL ACCURACY PARA CALCULARLO BIEN"
   ]
  },
  {
   "cell_type": "markdown",
   "metadata": {},
   "source": [
    "## Modelo con el dataset entero"
   ]
  },
  {
   "cell_type": "markdown",
   "metadata": {},
   "source": [
    "Cargamos el dataset entero y definimos los output como la primera columan y los inputr el resto. Debido a la variabilidad de los datos normalizamos los datos con media 0 y desviación estandar 1. Para hacer esto necesitamos cargar las funciones desarrolladas en los anteriores temas. (Tener en cuenta que al tener tantos años diferentes el dataset no tiene muchas canciones para cada año, importante para el crossvalidation, igual en algun fold no tenemos representates de todos los años, hay que quitar el assert de la funcion)"
   ]
  },
  {
   "cell_type": "code",
   "execution_count": 5,
   "metadata": {},
   "outputs": [],
   "source": [
    "targets = new_data[:,1];\n",
    "inputs = Matrix{Float32}(new_data[:,2:91]);\n",
    "\n",
    "inputs = convert(Array{Float32, 2},normalizeZeroMean!(inputs));\n",
    "@assert isa(inputs, Array{<:Float32,2})\n",
    "\n",
    "# output_data = oneHotEncoding(output_data);\n",
    "# @assert isa(output_data, AbstractArray{Bool,2})\n",
    "\n",
    "#Using random seed so we can repeat the results\n",
    "Random.seed!(123);\n",
    "\n",
    "#We divide the model in 10 subsets\n",
    "k = 10\n",
    "index = crossvalidation(targets, k);"
   ]
  },
  {
   "cell_type": "markdown",
   "metadata": {},
   "source": [
    "### ANN"
   ]
  },
  {
   "cell_type": "markdown",
   "metadata": {},
   "source": [
    "Probamos primero una ANN con una capa oculta simplemente para probar las diferentes transferFunctions (tanh, hardtanh, celu, elu, gelu, hardsigmoid, hardswish, relu, leakyrelu... https://fluxml.ai/Flux.jl/stable/models/activation/#man-activations , https://machinelearningmastery.com/choose-an-activation-function-for-deep-learning/ https://mlnotebook.github.io/post/transfer-functions/) en principio tomaremos relu, sigmoid y tanh (más usadas, buscar hardtanh pq es mas barata computacionalmente) y comparamos el resultado. Despues aumentamos el tamaño de las ANN (15,30,90) para esa transfer function y aplicamos dos capas ocultas. "
   ]
  },
  {
   "cell_type": "code",
   "execution_count": 9,
   "metadata": {},
   "outputs": [],
   "source": [
    "#Cargar un modelo:\n",
    "folder_path = \"modelann [15], [NNlib.softmax]\"\n",
    "\n",
    "# File path to load the model from inside the folder\n",
    "model_file_path = joinpath(folder_path, \"annmodel10.jld2\")\n",
    "\n",
    "ann_model = nothing\n",
    "\n",
    "\n",
    "# Load the model from the JLD file\n",
    "loaded_model = jldopen(model_file_path) do file\n",
    "     global ann_model\n",
    "     ann_model = read(file, \"model\")\n",
    "end\n",
    "\n",
    "\n",
    "ann_model(inputs')"
   ]
  },
  {
   "cell_type": "code",
   "execution_count": 6,
   "metadata": {},
   "outputs": [
    {
     "name": "stdout",
     "output_type": "stream",
     "text": [
      " \n",
      "------------------------------------------------------------------------------------------------------------------\n",
      "-------------------------------------------------- FOLD: 1 -------------------------------------------------------\n",
      "------------------------------------------------------------------------------------------------------------------"
     ]
    },
    {
     "name": "stdout",
     "output_type": "stream",
     "text": [
      "\n",
      "Epoch 0: train loss : 2.850375: validation loss : 2.8389282: test loss :2.8525362"
     ]
    },
    {
     "name": "stdout",
     "output_type": "stream",
     "text": [
      "\n",
      "Epoch 454: train loss: 2.4457738: validation loss :2.4985514: test loss :2.508011\n"
     ]
    },
    {
     "name": "stdout",
     "output_type": "stream",
     "text": [
      " \n",
      "Metrics: \n",
      "Weighted sensivity: 0.16227018385291767\n",
      "Weighted specificity: 0.921836473362547\n",
      "Weighted precision: 0.150270797972149\n",
      "Weighted F-score: 0.14647673842453565\n",
      "Accuracy: 0.16227018385291767\n",
      " \n",
      "------------------------------------------------------------------------------------------------------------------\n",
      "-------------------------------------------------- FOLD: 2 -------------------------------------------------------\n",
      "------------------------------------------------------------------------------------------------------------------\n"
     ]
    },
    {
     "name": "stdout",
     "output_type": "stream",
     "text": [
      "Epoch 0: train loss : 2.728574: validation loss : 2.73129: test loss :2.7256362\n"
     ]
    },
    {
     "name": "stdout",
     "output_type": "stream",
     "text": [
      "Epoch 419: train loss: 2.4437618: validation loss :2.4894743: test loss :2.5104327\n",
      " \n",
      "Metrics: \n",
      "Weighted sensivity: 0.1636242504996669\n",
      "Weighted specificity: 0.9226025279032005\n",
      "Weighted precision: 0.1565714008940176\n",
      "Weighted F-score: 0.15028901985569432\n",
      "Accuracy: 0.1636242504996669\n",
      " "
     ]
    },
    {
     "name": "stdout",
     "output_type": "stream",
     "text": [
      "\n",
      "------------------------------------------------------------------------------------------------------------------\n",
      "-------------------------------------------------- FOLD: 3 -------------------------------------------------------\n",
      "------------------------------------------------------------------------------------------------------------------\n",
      "Epoch 0: train loss : 2.8095796: validation loss : 2.8091407: test loss :2.808501"
     ]
    },
    {
     "name": "stdout",
     "output_type": "stream",
     "text": [
      "\n",
      "Epoch 890: train loss: 2.434398: validation loss :2.4954414: test loss :2.4848316\n",
      " \n",
      "Metrics: \n",
      "Weighted sensivity: 0.1704197201865423\n",
      "Weighted specificity: 0.9226545540457529\n",
      "Weighted precision: 0.1608347625795416\n",
      "Weighted F-score: 0.1535260250587919\n",
      "Accuracy: 0.1704197201865423\n",
      " \n",
      "------------------------------------------------------------------------------------------------------------------\n",
      "-------------------------------------------------- FOLD: 4 -------------------------------------------------------\n",
      "------------------------------------------------------------------------------------------------------------------"
     ]
    },
    {
     "name": "stdout",
     "output_type": "stream",
     "text": [
      "\n",
      "Epoch 0: train loss : 2.915867: validation loss : 2.911205: test loss :2.9158163"
     ]
    },
    {
     "name": "stdout",
     "output_type": "stream",
     "text": [
      "\n",
      "Epoch 597: train loss: 2.4366004: validation loss :2.5070796: test loss :2.504541\n",
      " \n",
      "Metrics: \n",
      "Weighted sensivity: 0.16735509660226516\n",
      "Weighted specificity: 0.9231757898201449\n",
      "Weighted precision: 0.16146915166340858\n",
      "Weighted F-score: 0.15764438694084248\n",
      "Accuracy: 0.16735509660226516\n",
      " \n",
      "------------------------------------------------------------------------------------------------------------------\n",
      "-------------------------------------------------- FOLD: 5 -------------------------------------------------------\n",
      "------------------------------------------------------------------------------------------------------------------\n",
      "Epoch 0: train loss : 2.8635406: validation loss : 2.8598506: test loss :2.8652565"
     ]
    },
    {
     "name": "stdout",
     "output_type": "stream",
     "text": [
      "\n",
      "Epoch 835: train loss: 2.4285314: validation loss :2.5052335: test loss :2.4983966\n",
      " \n",
      "Metrics: \n",
      "Weighted sensivity: 0.17317690974536729\n",
      "Weighted specificity: 0.9232383595269104\n",
      "Weighted precision: 0.16316748576455267\n",
      "Weighted F-score: 0.16059877453934146\n",
      "Accuracy: 0.17317690974536729\n",
      " \n",
      "------------------------------------------------------------------------------------------------------------------\n",
      "-------------------------------------------------- FOLD: 6 -------------------------------------------------------\n",
      "------------------------------------------------------------------------------------------------------------------\n",
      "Epoch 0: train loss : 2.844437: validation loss : 2.840472: test loss :2.8432577"
     ]
    },
    {
     "name": "stdout",
     "output_type": "stream",
     "text": [
      "\n",
      "Epoch 432: train loss: 2.4532003: validation loss :2.5040393: test loss :2.495515\n",
      " \n",
      "Metrics: \n",
      "Weighted sensivity: 0.1650886784904654\n",
      "Weighted specificity: 0.9225831729741499\n",
      "Weighted precision: 0.15697199000697037\n",
      "Weighted F-score: 0.1548163314375312\n",
      "Accuracy: 0.1650886784904654\n",
      " \n",
      "------------------------------------------------------------------------------------------------------------------\n",
      "-------------------------------------------------- FOLD: 7 -------------------------------------------------------\n",
      "------------------------------------------------------------------------------------------------------------------\n",
      "Epoch 0: train loss : 2.9361806: validation loss : 2.930007: test loss :2.9375885"
     ]
    },
    {
     "name": "stdout",
     "output_type": "stream",
     "text": [
      "\n",
      "Epoch 524: train loss: 2.4457064: validation loss :2.50071: test loss :2.5073497\n",
      " \n",
      "Metrics: \n",
      "Weighted sensivity: 0.16604427847425982\n",
      "Weighted specificity: 0.9214812153432581\n",
      "Weighted precision: 0.16189996736802462\n",
      "Weighted F-score: 0.15350403423991058\n",
      "Accuracy: 0.16604427847425982\n",
      " \n",
      "------------------------------------------------------------------------------------------------------------------\n",
      "-------------------------------------------------- FOLD: 8 -------------------------------------------------------\n",
      "------------------------------------------------------------------------------------------------------------------\n",
      "Epoch 0: train loss : 3.0034876: validation loss : 2.9988809: test loss :3.0018253\n"
     ]
    },
    {
     "name": "stdout",
     "output_type": "stream",
     "text": [
      "Epoch 457: train loss: 2.4502368: validation loss :2.5043194: test loss :2.5113842\n",
      " \n",
      "Metrics: \n",
      "Weighted sensivity: 0.15877251501000667\n",
      "Weighted specificity: 0.9210370311916647\n",
      "Weighted precision: 0.15011922691046423\n",
      "Weighted F-score: 0.14573913153780763\n",
      "Accuracy: 0.15877251501000667\n",
      " \n",
      "------------------------------------------------------------------------------------------------------------------\n",
      "-------------------------------------------------- FOLD: 9 -------------------------------------------------------\n",
      "------------------------------------------------------------------------------------------------------------------\n"
     ]
    },
    {
     "name": "stdout",
     "output_type": "stream",
     "text": [
      "Epoch 0: train loss : 2.8087926: validation loss : 2.8031049: test loss :2.8099847\n"
     ]
    },
    {
     "name": "stdout",
     "output_type": "stream",
     "text": [
      "Epoch 1000: train loss: 2.4295409: validation loss :2.4979007: test loss :2.5070488\n",
      " \n",
      "Metrics: \n",
      "Weighted sensivity: 0.17002535699986654\n",
      "Weighted specificity: 0.9215269028438408\n",
      "Weighted precision: 0.1601343730228092\n",
      "Weighted F-score: 0.151721200547509\n",
      "Accuracy: 0.17002535699986654\n",
      " \n",
      "------------------------------------------------------------------------------------------------------------------\n",
      "-------------------------------------------------- FOLD: 10 -------------------------------------------------------\n",
      "------------------------------------------------------------------------------------------------------------------\n",
      "Epoch 0: train loss : 2.849176: validation loss : 2.8468428: test loss :2.849953"
     ]
    },
    {
     "name": "stdout",
     "output_type": "stream",
     "text": [
      "\n",
      "Epoch 1000: train loss: 2.426623: validation loss :2.4943767: test loss :2.5058749\n",
      " \n",
      "Metrics: \n",
      "Weighted sensivity: 0.16295208861604163\n",
      "Weighted specificity: 0.9211946786261279\n",
      "Weighted precision: 0.1565836563586285\n",
      "Weighted F-score: 0.14755900543677056\n",
      "Accuracy: 0.16295208861604163\n"
     ]
    }
   ],
   "source": [
    "# MODELO 1 (SI SE EJECUTA MAS DE UNA VEZ SE SOBREESCRIBE EL CODIGO)\n",
    "Random.seed!(123);\n",
    "\n",
    "parameters_ann = Dict(\"topology\" => [15], \"transferFunctions\" => fill(softmax, 1), \"learningRate\" => 0.01, \"repetitionsTraining\" => 1, \"validationRatio\" => 0.0, \"maxEpochsVal\" => 20);\n",
    "\n",
    "modelos = modelCrossValidation(:ANN, parameters_ann, inputs, targets, index);\n",
    "#8 minutos"
   ]
  },
  {
   "cell_type": "code",
   "execution_count": 7,
   "metadata": {},
   "outputs": [
    {
     "name": "stdout",
     "output_type": "stream",
     "text": [
      " \n",
      "------------------------------------------------------------------------------------------------------------------\n",
      "-------------------------------------------------- FOLD: 1 -------------------------------------------------------\n",
      "------------------------------------------------------------------------------------------------------------------\n",
      "Epoch 0: train loss : 2.850375: validation loss : 2.8389282: test loss :2.8525362"
     ]
    },
    {
     "name": "stdout",
     "output_type": "stream",
     "text": [
      "\n",
      "Epoch 454: train loss: 2.4457738: validation loss :2.4985514: test loss :2.508011\n",
      " \n",
      "Metrics: \n",
      "Weighted sensivity: 0.16227018385291767\n",
      "Weighted specificity: 0.921836473362547\n",
      "Weighted precision: 0.150270797972149\n",
      "Weighted F-score: 0.14647673842453565\n",
      "Accuracy: 0.16227018385291767\n",
      " \n",
      "------------------------------------------------------------------------------------------------------------------\n",
      "-------------------------------------------------- FOLD: 2 -------------------------------------------------------\n",
      "------------------------------------------------------------------------------------------------------------------\n"
     ]
    },
    {
     "name": "stdout",
     "output_type": "stream",
     "text": [
      "Epoch 0: train loss : 2.728574: validation loss : 2.73129: test loss :2.7256362\n"
     ]
    },
    {
     "name": "stdout",
     "output_type": "stream",
     "text": [
      "Epoch 419: train loss: 2.4437618: validation loss :2.4894743: test loss :2.5104327\n",
      " \n",
      "Metrics: \n",
      "Weighted sensivity: 0.1636242504996669\n",
      "Weighted specificity: 0.9226025279032005\n",
      "Weighted precision: 0.1565714008940176\n",
      "Weighted F-score: 0.15028901985569432\n",
      "Accuracy: 0.1636242504996669\n",
      " \n",
      "------------------------------------------------------------------------------------------------------------------\n",
      "-------------------------------------------------- FOLD: 3 -------------------------------------------------------\n",
      "------------------------------------------------------------------------------------------------------------------\n"
     ]
    },
    {
     "name": "stdout",
     "output_type": "stream",
     "text": [
      "Epoch 0: train loss : 2.8095796: validation loss : 2.8091407: test loss :2.808501\n"
     ]
    },
    {
     "name": "stdout",
     "output_type": "stream",
     "text": [
      "Epoch 890: train loss: 2.434398: validation loss :2.4954414: test loss :2.4848316\n",
      " \n",
      "Metrics: \n",
      "Weighted sensivity: 0.1704197201865423\n",
      "Weighted specificity: 0.9226545540457529\n",
      "Weighted precision: 0.1608347625795416\n",
      "Weighted F-score: 0.1535260250587919\n",
      "Accuracy: 0.1704197201865423\n",
      " \n",
      "------------------------------------------------------------------------------------------------------------------\n",
      "-------------------------------------------------- FOLD: 4 -------------------------------------------------------\n",
      "------------------------------------------------------------------------------------------------------------------"
     ]
    },
    {
     "name": "stdout",
     "output_type": "stream",
     "text": [
      "\n",
      "Epoch 0: train loss : 2.915867: validation loss : 2.911205: test loss :2.9158163"
     ]
    },
    {
     "name": "stdout",
     "output_type": "stream",
     "text": [
      "\n",
      "Epoch 597: train loss: 2.4366004: validation loss :2.5070796: test loss :2.504541\n",
      " \n",
      "Metrics: \n",
      "Weighted sensivity: 0.16735509660226516\n",
      "Weighted specificity: 0.9231757898201449\n",
      "Weighted precision: 0.16146915166340858\n",
      "Weighted F-score: 0.15764438694084248\n",
      "Accuracy: 0.16735509660226516\n",
      " \n",
      "------------------------------------------------------------------------------------------------------------------\n",
      "-------------------------------------------------- FOLD: 5 -------------------------------------------------------\n",
      "------------------------------------------------------------------------------------------------------------------\n"
     ]
    },
    {
     "name": "stdout",
     "output_type": "stream",
     "text": [
      "Epoch 0: train loss : 2.8635406: validation loss : 2.8598506: test loss :2.8652565\n"
     ]
    },
    {
     "name": "stdout",
     "output_type": "stream",
     "text": [
      "Epoch 835: train loss: 2.4285314: validation loss :2.5052335: test loss :2.4983966\n",
      " \n",
      "Metrics: \n",
      "Weighted sensivity: 0.17317690974536729\n",
      "Weighted specificity: 0.9232383595269104\n",
      "Weighted precision: 0.16316748576455267\n",
      "Weighted F-score: 0.16059877453934146\n",
      "Accuracy: 0.17317690974536729\n",
      " \n",
      "------------------------------------------------------------------------------------------------------------------\n",
      "-------------------------------------------------- FOLD: 6 -------------------------------------------------------\n",
      "------------------------------------------------------------------------------------------------------------------"
     ]
    },
    {
     "name": "stdout",
     "output_type": "stream",
     "text": [
      "\n",
      "Epoch 0: train loss : 2.844437: validation loss : 2.840472: test loss :2.8432577\n"
     ]
    },
    {
     "name": "stdout",
     "output_type": "stream",
     "text": [
      "Epoch 432: train loss: 2.4532003: validation loss :2.5040393: test loss :2.495515\n",
      " \n",
      "Metrics: \n",
      "Weighted sensivity: 0.1650886784904654\n",
      "Weighted specificity: 0.9225831729741499\n",
      "Weighted precision: 0.15697199000697037\n",
      "Weighted F-score: 0.1548163314375312\n",
      "Accuracy: 0.1650886784904654\n",
      " \n",
      "------------------------------------------------------------------------------------------------------------------\n",
      "-------------------------------------------------- FOLD: 7 -------------------------------------------------------\n",
      "------------------------------------------------------------------------------------------------------------------\n",
      "Epoch 0: train loss : 2.9361806: validation loss : 2.930007: test loss :2.9375885\n"
     ]
    },
    {
     "name": "stdout",
     "output_type": "stream",
     "text": [
      "Epoch 524: train loss: 2.4457064: validation loss :2.50071: test loss :2.5073497\n",
      " \n",
      "Metrics: \n",
      "Weighted sensivity: 0.16604427847425982\n",
      "Weighted specificity: 0.9214812153432581\n",
      "Weighted precision: 0.16189996736802462\n",
      "Weighted F-score: 0.15350403423991058\n",
      "Accuracy: 0.16604427847425982\n",
      " \n",
      "------------------------------------------------------------------------------------------------------------------\n",
      "-------------------------------------------------- FOLD: 8 -------------------------------------------------------\n",
      "------------------------------------------------------------------------------------------------------------------\n",
      "Epoch 0: train loss : 3.0034876: validation loss : 2.9988809: test loss :3.0018253\n"
     ]
    },
    {
     "name": "stdout",
     "output_type": "stream",
     "text": [
      "Epoch 457: train loss: 2.4502368: validation loss :2.5043194: test loss :2.5113842\n",
      " \n",
      "Metrics: \n",
      "Weighted sensivity: 0.15877251501000667\n",
      "Weighted specificity: 0.9210370311916647\n",
      "Weighted precision: 0.15011922691046423\n",
      "Weighted F-score: 0.14573913153780763\n",
      "Accuracy: 0.15877251501000667\n",
      " \n",
      "------------------------------------------------------------------------------------------------------------------\n",
      "-------------------------------------------------- FOLD: 9 -------------------------------------------------------\n",
      "------------------------------------------------------------------------------------------------------------------\n",
      "Epoch 0: train loss : 2.8087926: validation loss : 2.8031049: test loss :2.8099847\n"
     ]
    },
    {
     "name": "stdout",
     "output_type": "stream",
     "text": [
      "Epoch 1000: train loss: 2.4295409: validation loss :2.4979007: test loss :2.5070488\n",
      " \n",
      "Metrics: \n",
      "Weighted sensivity: 0.17002535699986654\n",
      "Weighted specificity: 0.9215269028438408\n",
      "Weighted precision: 0.1601343730228092\n",
      "Weighted F-score: 0.151721200547509\n",
      "Accuracy: 0.17002535699986654\n",
      " \n",
      "------------------------------------------------------------------------------------------------------------------\n",
      "-------------------------------------------------- FOLD: 10 -------------------------------------------------------\n",
      "------------------------------------------------------------------------------------------------------------------\n",
      "Epoch 0: train loss : 2.849176: validation loss : 2.8468428: test loss :2.849953\n"
     ]
    },
    {
     "name": "stdout",
     "output_type": "stream",
     "text": [
      "Epoch 1000: train loss: 2.426623: validation loss :2.4943767: test loss :2.5058749\n",
      " \n",
      "Metrics: \n",
      "Weighted sensivity: 0.16295208861604163\n",
      "Weighted specificity: 0.9211946786261279\n",
      "Weighted precision: 0.1565836563586285\n",
      "Weighted F-score: 0.14755900543677056\n",
      "Accuracy: 0.16295208861604163\n"
     ]
    }
   ],
   "source": [
    "## MODELO 2\n",
    "Random.seed!(123);\n",
    "\n",
    "parameters_ann = Dict(\"topology\" => [15], \"transferFunctions\" => fill(relu, 1), \"learningRate\" => 0.01, \"repetitionsTraining\" => 1, \"validationRatio\" => 0.0, \"maxEpochsVal\" => 20);\n",
    "\n",
    "modelCrossValidation(:ANN, parameters_ann, inputs, targets, index)\n",
    "#8 minutos"
   ]
  },
  {
   "cell_type": "code",
   "execution_count": 8,
   "metadata": {},
   "outputs": [
    {
     "name": "stdout",
     "output_type": "stream",
     "text": [
      " \n",
      "------------------------------------------------------------------------------------------------------------------\n",
      "-------------------------------------------------- FOLD: 1 -------------------------------------------------------\n",
      "------------------------------------------------------------------------------------------------------------------"
     ]
    },
    {
     "name": "stdout",
     "output_type": "stream",
     "text": [
      "\n",
      "Epoch 0: train loss : 2.850375: validation loss : 2.8389282: test loss :2.8525362"
     ]
    },
    {
     "name": "stdout",
     "output_type": "stream",
     "text": [
      "\n",
      "Epoch 454: train loss: 2.4457738: validation loss :2.4985514: test loss :2.508011\n",
      " \n",
      "Metrics: \n",
      "Weighted sensivity: 0.16227018385291767\n",
      "Weighted specificity: 0.921836473362547\n",
      "Weighted precision: 0.150270797972149\n",
      "Weighted F-score: 0.14647673842453565\n",
      "Accuracy: 0.16227018385291767\n",
      " \n",
      "------------------------------------------------------------------------------------------------------------------\n",
      "-------------------------------------------------- FOLD: 2 -------------------------------------------------------\n",
      "------------------------------------------------------------------------------------------------------------------\n",
      "Epoch 0: train loss : 2.728574: validation loss : 2.73129: test loss :2.7256362\n"
     ]
    },
    {
     "name": "stdout",
     "output_type": "stream",
     "text": [
      "Epoch 419: train loss: 2.4437618: validation loss :2.4894743: test loss :2.5104327\n",
      " \n",
      "Metrics: \n",
      "Weighted sensivity: 0.1636242504996669\n",
      "Weighted specificity: 0.9226025279032005\n",
      "Weighted precision: 0.1565714008940176\n",
      "Weighted F-score: 0.15028901985569432\n",
      "Accuracy: 0.1636242504996669\n",
      " \n",
      "------------------------------------------------------------------------------------------------------------------\n",
      "-------------------------------------------------- FOLD: 3 -------------------------------------------------------\n",
      "------------------------------------------------------------------------------------------------------------------\n"
     ]
    },
    {
     "name": "stdout",
     "output_type": "stream",
     "text": [
      "Epoch 0: train loss : 2.8095796: validation loss : 2.8091407: test loss :2.808501\n"
     ]
    },
    {
     "name": "stdout",
     "output_type": "stream",
     "text": [
      "Epoch 890: train loss: 2.434398: validation loss :2.4954414: test loss :2.4848316\n",
      " \n",
      "Metrics: \n",
      "Weighted sensivity: 0.1704197201865423\n",
      "Weighted specificity: 0.9226545540457529\n",
      "Weighted precision: 0.1608347625795416\n",
      "Weighted F-score: 0.1535260250587919\n",
      "Accuracy: 0.1704197201865423\n",
      " \n",
      "------------------------------------------------------------------------------------------------------------------\n",
      "-------------------------------------------------- FOLD: 4 -------------------------------------------------------\n",
      "------------------------------------------------------------------------------------------------------------------\n",
      "Epoch 0: train loss : 2.915867: validation loss : 2.911205: test loss :2.9158163\n"
     ]
    },
    {
     "name": "stdout",
     "output_type": "stream",
     "text": [
      "Epoch 597: train loss: 2.4366004: validation loss :2.5070796: test loss :2.504541\n",
      " \n",
      "Metrics: \n",
      "Weighted sensivity: 0.16735509660226516\n",
      "Weighted specificity: 0.9231757898201449\n",
      "Weighted precision: 0.16146915166340858\n",
      "Weighted F-score: 0.15764438694084248\n",
      "Accuracy: 0.16735509660226516\n",
      " \n",
      "------------------------------------------------------------------------------------------------------------------\n",
      "-------------------------------------------------- FOLD: 5 -------------------------------------------------------\n",
      "------------------------------------------------------------------------------------------------------------------\n",
      "Epoch 0: train loss : 2.8635406: validation loss : 2.8598506: test loss :2.8652565\n"
     ]
    },
    {
     "name": "stdout",
     "output_type": "stream",
     "text": [
      "Epoch 835: train loss: 2.4285314: validation loss :2.5052335: test loss :2.4983966\n",
      " \n",
      "Metrics: \n",
      "Weighted sensivity: 0.17317690974536729\n",
      "Weighted specificity: 0.9232383595269104\n",
      "Weighted precision: 0.16316748576455267\n",
      "Weighted F-score: 0.16059877453934146\n",
      "Accuracy: 0.17317690974536729\n",
      " \n",
      "------------------------------------------------------------------------------------------------------------------\n",
      "-------------------------------------------------- FOLD: 6 -------------------------------------------------------\n",
      "------------------------------------------------------------------------------------------------------------------\n",
      "Epoch 0: train loss : 2.844437: validation loss : 2.840472: test loss :2.8432577\n"
     ]
    },
    {
     "name": "stdout",
     "output_type": "stream",
     "text": [
      "Epoch 432: train loss: 2.4532003: validation loss :2.5040393: test loss :2.495515\n",
      " \n",
      "Metrics: \n",
      "Weighted sensivity: 0.1650886784904654\n",
      "Weighted specificity: 0.9225831729741499\n",
      "Weighted precision: 0.15697199000697037\n",
      "Weighted F-score: 0.1548163314375312\n",
      "Accuracy: 0.1650886784904654\n",
      " \n",
      "------------------------------------------------------------------------------------------------------------------\n",
      "-------------------------------------------------- FOLD: 7 -------------------------------------------------------\n",
      "------------------------------------------------------------------------------------------------------------------\n",
      "Epoch 0: train loss : 2.9361806: validation loss : 2.930007: test loss :2.9375885"
     ]
    },
    {
     "name": "stdout",
     "output_type": "stream",
     "text": [
      "\n",
      "Epoch 524: train loss: 2.4457064: validation loss :2.50071: test loss :2.5073497\n",
      " \n",
      "Metrics: \n",
      "Weighted sensivity: 0.16604427847425982\n",
      "Weighted specificity: 0.9214812153432581\n",
      "Weighted precision: 0.16189996736802462\n",
      "Weighted F-score: 0.15350403423991058\n",
      "Accuracy: 0.16604427847425982\n",
      " \n",
      "------------------------------------------------------------------------------------------------------------------\n",
      "-------------------------------------------------- FOLD: 8 -------------------------------------------------------\n",
      "------------------------------------------------------------------------------------------------------------------\n"
     ]
    },
    {
     "name": "stdout",
     "output_type": "stream",
     "text": [
      "Epoch 0: train loss : 3.0034876: validation loss : 2.9988809: test loss :3.0018253"
     ]
    },
    {
     "name": "stdout",
     "output_type": "stream",
     "text": [
      "\n",
      "Epoch 457: train loss: 2.4502368: validation loss :2.5043194: test loss :2.5113842\n",
      " \n",
      "Metrics: \n",
      "Weighted sensivity: 0.15877251501000667\n",
      "Weighted specificity: 0.9210370311916647\n",
      "Weighted precision: 0.15011922691046423\n",
      "Weighted F-score: 0.14573913153780763\n",
      "Accuracy: 0.15877251501000667\n"
     ]
    },
    {
     "name": "stdout",
     "output_type": "stream",
     "text": [
      " \n",
      "------------------------------------------------------------------------------------------------------------------\n",
      "-------------------------------------------------- FOLD: 9 -------------------------------------------------------\n",
      "------------------------------------------------------------------------------------------------------------------\n",
      "Epoch 0: train loss : 2.8087926: validation loss : 2.8031049: test loss :2.8099847\n"
     ]
    },
    {
     "name": "stdout",
     "output_type": "stream",
     "text": [
      "Epoch 1000: train loss: 2.4295409: validation loss :2.4979007: test loss :2.5070488\n",
      " \n",
      "Metrics: \n",
      "Weighted sensivity: 0.17002535699986654\n",
      "Weighted specificity: 0.9215269028438408\n",
      "Weighted precision: 0.1601343730228092\n",
      "Weighted F-score: 0.151721200547509\n",
      "Accuracy: 0.17002535699986654\n"
     ]
    },
    {
     "name": "stdout",
     "output_type": "stream",
     "text": [
      " \n",
      "------------------------------------------------------------------------------------------------------------------\n",
      "-------------------------------------------------- FOLD: 10 -------------------------------------------------------\n",
      "------------------------------------------------------------------------------------------------------------------\n",
      "Epoch 0: train loss : 2.849176: validation loss : 2.8468428: test loss :2.849953"
     ]
    },
    {
     "name": "stdout",
     "output_type": "stream",
     "text": [
      "\n",
      "Epoch 1000: train loss: 2.426623: validation loss :2.4943767: test loss :2.5058749\n",
      " \n",
      "Metrics: \n",
      "Weighted sensivity: 0.16295208861604163\n",
      "Weighted specificity: 0.9211946786261279\n",
      "Weighted precision: 0.1565836563586285\n",
      "Weighted F-score: 0.14755900543677056\n",
      "Accuracy: 0.16295208861604163\n"
     ]
    }
   ],
   "source": [
    "## MODELO 3\n",
    "Random.seed!(123);\n",
    "\n",
    "parameters_ann = Dict(\"topology\" => [15], \"transferFunctions\" => fill(tanh, 1), \"learningRate\" => 0.01, \"repetitionsTraining\" => 1, \"validationRatio\" => 0.0, \"maxEpochsVal\" => 20);\n",
    "\n",
    "modelCrossValidation(:ANN, parameters_ann, inputs, targets, index)\n",
    "#8 minutos"
   ]
  },
  {
   "cell_type": "code",
   "execution_count": 9,
   "metadata": {},
   "outputs": [
    {
     "name": "stdout",
     "output_type": "stream",
     "text": [
      " \n",
      "------------------------------------------------------------------------------------------------------------------\n",
      "-------------------------------------------------- FOLD: 1 -------------------------------------------------------\n",
      "------------------------------------------------------------------------------------------------------------------\n",
      "Epoch 0: train loss : 2.850375: validation loss : 2.8389282: test loss :2.8525362\n"
     ]
    },
    {
     "name": "stdout",
     "output_type": "stream",
     "text": [
      "Epoch 454: train loss: 2.4457738: validation loss :2.4985514: test loss :2.508011\n",
      " \n",
      "Metrics: \n",
      "Weighted sensivity: 0.16227018385291767\n",
      "Weighted specificity: 0.921836473362547\n",
      "Weighted precision: 0.150270797972149\n",
      "Weighted F-score: 0.14647673842453565\n",
      "Accuracy: 0.16227018385291767\n",
      " \n",
      "------------------------------------------------------------------------------------------------------------------\n",
      "-------------------------------------------------- FOLD: 2 -------------------------------------------------------\n",
      "------------------------------------------------------------------------------------------------------------------\n",
      "Epoch 0: train loss : 2.728574: validation loss : 2.73129: test loss :2.7256362\n"
     ]
    },
    {
     "name": "stdout",
     "output_type": "stream",
     "text": [
      "Epoch 419: train loss: 2.4437618: validation loss :2.4894743: test loss :2.5104327\n",
      " \n",
      "Metrics: \n",
      "Weighted sensivity: 0.1636242504996669\n",
      "Weighted specificity: 0.9226025279032005\n",
      "Weighted precision: 0.1565714008940176\n",
      "Weighted F-score: 0.15028901985569432\n",
      "Accuracy: 0.1636242504996669\n",
      " \n",
      "------------------------------------------------------------------------------------------------------------------\n",
      "-------------------------------------------------- FOLD: 3 -------------------------------------------------------\n",
      "------------------------------------------------------------------------------------------------------------------\n"
     ]
    },
    {
     "name": "stdout",
     "output_type": "stream",
     "text": [
      "Epoch 0: train loss : 2.8095796: validation loss : 2.8091407: test loss :2.808501\n"
     ]
    },
    {
     "name": "stdout",
     "output_type": "stream",
     "text": [
      "Epoch 890: train loss: 2.434398: validation loss :2.4954414: test loss :2.4848316\n",
      " \n",
      "Metrics: \n",
      "Weighted sensivity: 0.1704197201865423\n",
      "Weighted specificity: 0.9226545540457529\n",
      "Weighted precision: 0.1608347625795416\n",
      "Weighted F-score: 0.1535260250587919\n",
      "Accuracy: 0.1704197201865423\n",
      " \n",
      "------------------------------------------------------------------------------------------------------------------\n",
      "-------------------------------------------------- FOLD: 4 -------------------------------------------------------\n",
      "------------------------------------------------------------------------------------------------------------------\n",
      "Epoch 0: train loss : 2.915867: validation loss : 2.911205: test loss :2.9158163\n"
     ]
    },
    {
     "name": "stdout",
     "output_type": "stream",
     "text": [
      "Epoch 597: train loss: 2.4366004: validation loss :2.5070796: test loss :2.504541\n",
      " \n",
      "Metrics: \n",
      "Weighted sensivity: 0.16735509660226516\n",
      "Weighted specificity: 0.9231757898201449\n",
      "Weighted precision: 0.16146915166340858\n",
      "Weighted F-score: 0.15764438694084248\n",
      "Accuracy: 0.16735509660226516\n",
      " \n",
      "------------------------------------------------------------------------------------------------------------------\n",
      "-------------------------------------------------- FOLD: 5 -------------------------------------------------------"
     ]
    },
    {
     "name": "stdout",
     "output_type": "stream",
     "text": [
      "\n",
      "------------------------------------------------------------------------------------------------------------------\n",
      "Epoch 0: train loss : 2.8635406: validation loss : 2.8598506: test loss :2.8652565"
     ]
    },
    {
     "name": "stdout",
     "output_type": "stream",
     "text": [
      "\n",
      "Epoch 835: train loss: 2.4285314: validation loss :2.5052335: test loss :2.4983966\n",
      " \n",
      "Metrics: \n",
      "Weighted sensivity: 0.17317690974536729\n",
      "Weighted specificity: 0.9232383595269104\n",
      "Weighted precision: 0.16316748576455267\n",
      "Weighted F-score: 0.16059877453934146\n",
      "Accuracy: 0.17317690974536729\n",
      " \n",
      "------------------------------------------------------------------------------------------------------------------\n",
      "-------------------------------------------------- FOLD: 6 -------------------------------------------------------\n",
      "------------------------------------------------------------------------------------------------------------------\n",
      "Epoch 0: train loss : 2.844437: validation loss : 2.840472: test loss :2.8432577"
     ]
    },
    {
     "name": "stdout",
     "output_type": "stream",
     "text": [
      "\n",
      "Epoch 432: train loss: 2.4532003: validation loss :2.5040393: test loss :2.495515\n",
      " \n",
      "Metrics: \n",
      "Weighted sensivity: 0.1650886784904654\n",
      "Weighted specificity: 0.9225831729741499\n",
      "Weighted precision: 0.15697199000697037\n",
      "Weighted F-score: 0.1548163314375312\n",
      "Accuracy: 0.1650886784904654\n",
      " \n",
      "------------------------------------------------------------------------------------------------------------------\n",
      "-------------------------------------------------- FOLD: 7 -------------------------------------------------------\n",
      "------------------------------------------------------------------------------------------------------------------\n",
      "Epoch 0: train loss : 2.9361806: validation loss : 2.930007: test loss :2.9375885\n"
     ]
    },
    {
     "name": "stdout",
     "output_type": "stream",
     "text": [
      "Epoch 524: train loss: 2.4457064: validation loss :2.50071: test loss :2.5073497\n",
      " \n",
      "Metrics: \n",
      "Weighted sensivity: 0.16604427847425982\n",
      "Weighted specificity: 0.9214812153432581\n",
      "Weighted precision: 0.16189996736802462\n",
      "Weighted F-score: 0.15350403423991058\n",
      "Accuracy: 0.16604427847425982\n",
      " \n",
      "------------------------------------------------------------------------------------------------------------------\n",
      "-------------------------------------------------- FOLD: 8 -------------------------------------------------------\n",
      "------------------------------------------------------------------------------------------------------------------\n",
      "Epoch 0: train loss : 3.0034876: validation loss : 2.9988809: test loss :3.0018253"
     ]
    },
    {
     "name": "stdout",
     "output_type": "stream",
     "text": [
      "\n",
      "Epoch 457: train loss: 2.4502368: validation loss :2.5043194: test loss :2.5113842\n",
      " \n",
      "Metrics: \n",
      "Weighted sensivity: 0.15877251501000667\n",
      "Weighted specificity: 0.9210370311916647\n",
      "Weighted precision: 0.15011922691046423\n",
      "Weighted F-score: 0.14573913153780763\n",
      "Accuracy: 0.15877251501000667\n",
      " \n",
      "------------------------------------------------------------------------------------------------------------------\n",
      "-------------------------------------------------- FOLD: 9 -------------------------------------------------------\n",
      "------------------------------------------------------------------------------------------------------------------"
     ]
    },
    {
     "name": "stdout",
     "output_type": "stream",
     "text": [
      "\n",
      "Epoch 0: train loss : 2.8087926: validation loss : 2.8031049: test loss :2.8099847"
     ]
    },
    {
     "name": "stdout",
     "output_type": "stream",
     "text": [
      "\n",
      "Epoch 1000: train loss: 2.4295409: validation loss :2.4979007: test loss :2.5070488\n",
      " \n",
      "Metrics: \n",
      "Weighted sensivity: 0.17002535699986654\n",
      "Weighted specificity: 0.9215269028438408\n",
      "Weighted precision: 0.1601343730228092\n",
      "Weighted F-score: 0.151721200547509\n",
      "Accuracy: 0.17002535699986654\n",
      " \n",
      "------------------------------------------------------------------------------------------------------------------\n",
      "-------------------------------------------------- FOLD: 10 -------------------------------------------------------\n",
      "------------------------------------------------------------------------------------------------------------------\n",
      "Epoch 0: train loss : 2.849176: validation loss : 2.8468428: test loss :2.849953\n"
     ]
    },
    {
     "name": "stdout",
     "output_type": "stream",
     "text": [
      "Epoch 1000: train loss: 2.426623: validation loss :2.4943767: test loss :2.5058749\n",
      " \n",
      "Metrics: \n",
      "Weighted sensivity: 0.16295208861604163\n",
      "Weighted specificity: 0.9211946786261279\n",
      "Weighted precision: 0.1565836563586285\n",
      "Weighted F-score: 0.14755900543677056\n",
      "Accuracy: 0.16295208861604163\n"
     ]
    }
   ],
   "source": [
    "## MODELO 4\n",
    "Random.seed!(123);\n",
    "\n",
    "parameters_ann = Dict(\"topology\" => [15], \"transferFunctions\" => fill(sigmoid, 1), \"learningRate\" => 0.01, \"repetitionsTraining\" => 1, \"validationRatio\" => 0.0, \"maxEpochsVal\" => 20);\n",
    "\n",
    "modelCrossValidation(:ANN, parameters_ann, inputs, targets, index)\n",
    "#8 minutos"
   ]
  },
  {
   "cell_type": "code",
   "execution_count": 10,
   "metadata": {},
   "outputs": [
    {
     "name": "stdout",
     "output_type": "stream",
     "text": [
      " \n",
      "------------------------------------------------------------------------------------------------------------------\n",
      "-------------------------------------------------- FOLD: 1 -------------------------------------------------------\n",
      "------------------------------------------------------------------------------------------------------------------"
     ]
    },
    {
     "name": "stdout",
     "output_type": "stream",
     "text": [
      "\n",
      "Epoch 0: train loss : 2.8068838: validation loss : 2.8229563: test loss :2.8126187"
     ]
    },
    {
     "name": "stdout",
     "output_type": "stream",
     "text": [
      "\n",
      "Epoch 432: train loss: 2.3276868: validation loss :2.4462266: test loss :2.456886\n",
      " \n",
      "Metrics: \n",
      "Weighted sensivity: 0.1995736743938183\n",
      "Weighted specificity: 0.9268892549967472\n",
      "Weighted precision: 0.1862619755777478\n",
      "Weighted F-score: 0.18496150220008223\n",
      "Accuracy: 0.1995736743938183\n",
      " \n",
      "------------------------------------------------------------------------------------------------------------------\n",
      "-------------------------------------------------- FOLD: 2 -------------------------------------------------------\n",
      "------------------------------------------------------------------------------------------------------------------\n",
      "Epoch 0: train loss : 2.822727: validation loss : 2.8107886: test loss :2.8236678"
     ]
    },
    {
     "name": "stdout",
     "output_type": "stream",
     "text": [
      "\n",
      "Epoch 463: train loss: 2.3335197: validation loss :2.4596565: test loss :2.4640214\n",
      " \n",
      "Metrics: \n",
      "Weighted sensivity: 0.19840106595602933\n",
      "Weighted specificity: 0.9251232409459553\n",
      "Weighted precision: 0.1938592407153051\n",
      "Weighted F-score: 0.1862112299973186\n",
      "Accuracy: 0.19840106595602933\n",
      " \n",
      "------------------------------------------------------------------------------------------------------------------\n",
      "-------------------------------------------------- FOLD: 3 -------------------------------------------------------\n",
      "------------------------------------------------------------------------------------------------------------------\n",
      "Epoch 0: train loss : 2.7315261: validation loss : 2.735244: test loss :2.734073\n"
     ]
    },
    {
     "name": "stdout",
     "output_type": "stream",
     "text": [
      "Epoch 367: train loss: 2.3353646: validation loss :2.4634008: test loss :2.445925\n",
      " \n",
      "Metrics: \n",
      "Weighted sensivity: 0.19467021985343105\n",
      "Weighted specificity: 0.9275960864520424\n",
      "Weighted precision: 0.19114382160180624\n",
      "Weighted F-score: 0.18487606453644237\n",
      "Accuracy: 0.19467021985343105\n"
     ]
    },
    {
     "name": "stdout",
     "output_type": "stream",
     "text": [
      " \n",
      "------------------------------------------------------------------------------------------------------------------\n",
      "-------------------------------------------------- FOLD: 4 -------------------------------------------------------\n",
      "------------------------------------------------------------------------------------------------------------------\n",
      "Epoch 0: train loss : 2.8554442: validation loss : 2.8536878: test loss :2.8544168\n"
     ]
    },
    {
     "name": "stdout",
     "output_type": "stream",
     "text": [
      "Epoch 273: train loss: 2.3719807: validation loss :2.476511: test loss :2.476474\n",
      " \n",
      "Metrics: \n",
      "Weighted sensivity: 0.18014656895403064\n",
      "Weighted specificity: 0.924564894207522\n",
      "Weighted precision: 0.17317227045192773\n",
      "Weighted F-score: 0.16929842127276729\n",
      "Accuracy: 0.18014656895403064\n",
      " \n",
      "------------------------------------------------------------------------------------------------------------------\n",
      "-------------------------------------------------- FOLD: 5 -------------------------------------------------------\n",
      "------------------------------------------------------------------------------------------------------------------\n",
      "Epoch 0: train loss : 2.8636236: validation loss : 2.8635557: test loss :2.8637323"
     ]
    },
    {
     "name": "stdout",
     "output_type": "stream",
     "text": [
      "\n",
      "Epoch 313: train loss: 2.3556063: validation loss :2.468806: test loss :2.4615812\n",
      " \n",
      "Metrics: \n",
      "Weighted sensivity: 0.19277429676043195\n",
      "Weighted specificity: 0.9244987576659075\n",
      "Weighted precision: 0.18548605855084044\n",
      "Weighted F-score: 0.17690836550185163\n",
      "Accuracy: 0.19277429676043195\n",
      " \n",
      "------------------------------------------------------------------------------------------------------------------\n",
      "-------------------------------------------------- FOLD: 6 -------------------------------------------------------\n",
      "------------------------------------------------------------------------------------------------------------------"
     ]
    },
    {
     "name": "stdout",
     "output_type": "stream",
     "text": [
      "\n",
      "Epoch 0: train loss : 2.88565: validation loss : 2.901292: test loss :2.8842049"
     ]
    },
    {
     "name": "stdout",
     "output_type": "stream",
     "text": [
      "\n",
      "Epoch 312: train loss: 2.363235: validation loss :2.4616191: test loss :2.4598527\n",
      " \n",
      "Metrics: \n",
      "Weighted sensivity: 0.19042539005200693\n",
      "Weighted specificity: 0.9248545574367022\n",
      "Weighted precision: 0.1826930848131421\n",
      "Weighted F-score: 0.17616239574510775\n",
      "Accuracy: 0.19042539005200693\n",
      " \n",
      "------------------------------------------------------------------------------------------------------------------\n"
     ]
    },
    {
     "name": "stdout",
     "output_type": "stream",
     "text": [
      "-------------------------------------------------- FOLD: 7 -------------------------------------------------------\n",
      "------------------------------------------------------------------------------------------------------------------\n",
      "Epoch 0: train loss : 2.814231: validation loss : 2.825351: test loss :2.811209"
     ]
    },
    {
     "name": "stdout",
     "output_type": "stream",
     "text": [
      "\n",
      "Epoch 634: train loss: 2.316049: validation loss :2.4552128: test loss :2.4496517\n",
      " \n",
      "Metrics: \n",
      "Weighted sensivity: 0.20552147239263804\n",
      "Weighted specificity: 0.9273044739872086\n",
      "Weighted precision: 0.1962508251654016\n",
      "Weighted F-score: 0.19349588643140017\n",
      "Accuracy: 0.20552147239263804\n",
      " \n",
      "------------------------------------------------------------------------------------------------------------------\n",
      "-------------------------------------------------- FOLD: 8 -------------------------------------------------------\n",
      "------------------------------------------------------------------------------------------------------------------\n",
      "Epoch 0: train loss : 2.896773: validation loss : 2.8898728: test loss :2.8931909"
     ]
    },
    {
     "name": "stdout",
     "output_type": "stream",
     "text": [
      "\n",
      "Epoch 1000: train loss: 2.3014977: validation loss :2.4452596: test loss :2.4522355\n",
      " \n",
      "Metrics: \n",
      "Weighted sensivity: 0.2068045363575717\n",
      "Weighted specificity: 0.9284770749134182\n",
      "Weighted precision: 0.19990524559747522\n",
      "Weighted F-score: 0.19708777929711638\n",
      "Accuracy: 0.2068045363575717\n",
      " \n",
      "------------------------------------------------------------------------------------------------------------------\n",
      "-------------------------------------------------- FOLD: 9 -------------------------------------------------------\n",
      "------------------------------------------------------------------------------------------------------------------\n",
      "Epoch 0: train loss : 2.9303396: validation loss : 2.933392: test loss :2.9372962"
     ]
    },
    {
     "name": "stdout",
     "output_type": "stream",
     "text": [
      "\n"
     ]
    },
    {
     "name": "stdout",
     "output_type": "stream",
     "text": [
      "Epoch 358: train loss: 2.3513465: validation loss :2.458956: test loss :2.4470034\n",
      " \n",
      "Metrics: \n",
      "Weighted sensivity: 0.19257974109168557\n",
      "Weighted specificity: 0.9267429499284277\n",
      "Weighted precision: 0.1850298422124491\n",
      "Weighted F-score: 0.18405921478267626\n",
      "Accuracy: 0.19257974109168557\n",
      " \n",
      "------------------------------------------------------------------------------------------------------------------\n",
      "-------------------------------------------------- FOLD: 10 -------------------------------------------------------\n"
     ]
    },
    {
     "name": "stdout",
     "output_type": "stream",
     "text": [
      "------------------------------------------------------------------------------------------------------------------\n",
      "Epoch 0: train loss : 2.7699654: validation loss : 2.77109: test loss :2.7681425"
     ]
    },
    {
     "name": "stdout",
     "output_type": "stream",
     "text": [
      "\n",
      "Epoch 578: train loss: 2.31826: validation loss :2.4394908: test loss :2.453879\n",
      " \n",
      "Metrics: \n",
      "Weighted sensivity: 0.19671693580675298\n",
      "Weighted specificity: 0.9267736500174915\n",
      "Weighted precision: 0.19400808034104852\n",
      "Weighted F-score: 0.18799165212380575\n",
      "Accuracy: 0.19671693580675298\n"
     ]
    }
   ],
   "source": [
    "## MODELO 5\n",
    "Random.seed!(123);\n",
    "\n",
    "parameters_ann = Dict(\"topology\" => [30], \"transferFunctions\" => fill(relu, 1), \"learningRate\" => 0.01, \"repetitionsTraining\" => 1, \"validationRatio\" => 0.0, \"maxEpochsVal\" => 20);\n",
    "\n",
    "modelCrossValidation(:ANN, parameters_ann, inputs, targets, index)\n",
    "#7 minutos\n"
   ]
  },
  {
   "cell_type": "code",
   "execution_count": 11,
   "metadata": {},
   "outputs": [
    {
     "name": "stdout",
     "output_type": "stream",
     "text": [
      " \n",
      "------------------------------------------------------------------------------------------------------------------\n",
      "-------------------------------------------------- FOLD: 1 -------------------------------------------------------\n",
      "------------------------------------------------------------------------------------------------------------------\n",
      "Epoch 0: train loss : 3.0677173"
     ]
    },
    {
     "name": "stdout",
     "output_type": "stream",
     "text": [
      ": validation loss : 3.0767245: test loss :3.074557\n"
     ]
    },
    {
     "name": "stdout",
     "output_type": "stream",
     "text": [
      "Epoch 466: train loss: 1.7469739: validation loss :2.1710966: test loss :2.1728098\n",
      " \n",
      "Metrics: \n",
      "Weighted sensivity: 0.35145217159605646\n",
      "Weighted specificity: 0.9443993699887471\n",
      "Weighted precision: 0.3497140899389465\n",
      "Weighted F-score: 0.3487935932971468\n",
      "Accuracy: 0.35145217159605646\n",
      " \n",
      "------------------------------------------------------------------------------------------------------------------\n",
      "-------------------------------------------------- FOLD: 2 -------------------------------------------------------\n",
      "------------------------------------------------------------------------------------------------------------------"
     ]
    },
    {
     "name": "stdout",
     "output_type": "stream",
     "text": [
      "\n",
      "Epoch 0: train loss : 2.9463475: validation loss : 2.9428372: test loss :2.942505"
     ]
    },
    {
     "name": "stdout",
     "output_type": "stream",
     "text": [
      "\n",
      "Epoch 523: train loss: 1.70465: validation loss :2.1672843: test loss :2.1833575\n",
      " \n",
      "Metrics: \n",
      "Weighted sensivity: 0.365489673550966\n",
      "Weighted specificity: 0.9454052959771184\n",
      "Weighted precision: 0.36467236787970186\n",
      "Weighted F-score: 0.3611842777412837\n",
      "Accuracy: 0.365489673550966"
     ]
    },
    {
     "name": "stdout",
     "output_type": "stream",
     "text": [
      "\n",
      " \n",
      "------------------------------------------------------------------------------------------------------------------\n",
      "-------------------------------------------------- FOLD: 3 -------------------------------------------------------\n",
      "------------------------------------------------------------------------------------------------------------------\n",
      "Epoch 0: train loss : 2.7944808: validation loss : 2.795049: test loss :2.7996478\n"
     ]
    },
    {
     "name": "stdout",
     "output_type": "stream",
     "text": [
      "Epoch 395: train loss: 1.7572291: validation loss :2.1711032: test loss :2.1634314\n",
      " \n",
      "Metrics: \n",
      "Weighted sensivity: 0.35016655562958027\n",
      "Weighted specificity: 0.9443193390197366\n",
      "Weighted precision: 0.34869356787196587\n",
      "Weighted F-score: 0.34657274438100966\n",
      "Accuracy: 0.35016655562958027\n",
      " \n",
      "------------------------------------------------------------------------------------------------------------------\n",
      "-------------------------------------------------- FOLD: 4 -------------------------------------------------------\n",
      "------------------------------------------------------------------------------------------------------------------"
     ]
    },
    {
     "name": "stdout",
     "output_type": "stream",
     "text": [
      "\n",
      "Epoch 0: train loss : 2.8377767: validation loss : 2.8317525: test loss :2.8392658"
     ]
    },
    {
     "name": "stdout",
     "output_type": "stream",
     "text": [
      "\n",
      "Epoch 396: train loss: 1.7614367: validation loss :2.201052: test loss :2.1933634\n",
      " \n",
      "Metrics: \n",
      "Weighted sensivity: 0.3384410393071286\n",
      "Weighted specificity: 0.942767411170231\n",
      "Weighted precision: 0.33480085103023827\n",
      "Weighted F-score: 0.3340215171165683\n",
      "Accuracy: 0.3384410393071286\n",
      " \n",
      "------------------------------------------------------------------------------------------------------------------\n",
      "-------------------------------------------------- FOLD: 5 -------------------------------------------------------\n",
      "------------------------------------------------------------------------------------------------------------------"
     ]
    },
    {
     "name": "stdout",
     "output_type": "stream",
     "text": [
      "\n",
      "Epoch 0: train loss : 3.001364: validation loss : 3.0090666: test loss :2.9978652\n"
     ]
    },
    {
     "name": "stdout",
     "output_type": "stream",
     "text": [
      "Epoch 384: train loss: 1.7791632: validation loss :2.2014241: test loss :2.1747463\n",
      " \n",
      "Metrics: \n",
      "Weighted sensivity: 0.339021463804826\n",
      "Weighted specificity: 0.9417642503330209\n",
      "Weighted precision: 0.3374374686658181\n",
      "Weighted F-score: 0.33239398154717553\n",
      "Accuracy: 0.339021463804826\n",
      " \n",
      "------------------------------------------------------------------------------------------------------------------\n",
      "-------------------------------------------------- FOLD: 6 -------------------------------------------------------\n",
      "------------------------------------------------------------------------------------------------------------------\n"
     ]
    },
    {
     "name": "stdout",
     "output_type": "stream",
     "text": [
      "Epoch 0: train loss : 2.9839675: validation loss : 2.9956563: test loss :2.984355"
     ]
    },
    {
     "name": "stdout",
     "output_type": "stream",
     "text": [
      "\n",
      "Epoch 406: train loss: 1.7819138: validation loss :2.17611: test loss :2.1652777\n",
      " \n",
      "Metrics: \n",
      "Weighted sensivity: 0.3451126816908921\n",
      "Weighted specificity: 0.9427001287314114\n",
      "Weighted precision: 0.3409675382218458\n",
      "Weighted F-score: 0.33802856885732396\n",
      "Accuracy: 0.3451126816908921\n",
      " \n",
      "------------------------------------------------------------------------------------------------------------------\n",
      "-------------------------------------------------- FOLD: 7 -------------------------------------------------------\n",
      "------------------------------------------------------------------------------------------------------------------\n"
     ]
    },
    {
     "name": "stdout",
     "output_type": "stream",
     "text": [
      "Epoch 0: train loss : 3.0890193: validation loss : 3.083327: test loss :3.0908375"
     ]
    },
    {
     "name": "stdout",
     "output_type": "stream",
     "text": [
      "\n",
      "Epoch 508: train loss: 1.70301: validation loss :2.159455: test loss :2.1697745\n",
      " \n",
      "Metrics: \n",
      "Weighted sensivity: 0.3702320618831689\n",
      "Weighted specificity: 0.9453466720220641\n",
      "Weighted precision: 0.36365017883488804\n",
      "Weighted F-score: 0.36292120433177966\n",
      "Accuracy: 0.3702320618831689\n",
      " \n",
      "------------------------------------------------------------------------------------------------------------------\n",
      "-------------------------------------------------- FOLD: 8 -------------------------------------------------------\n",
      "------------------------------------------------------------------------------------------------------------------"
     ]
    },
    {
     "name": "stdout",
     "output_type": "stream",
     "text": [
      "\n",
      "Epoch 0: train loss : 2.825297: validation loss : 2.8290572: test loss :2.82716"
     ]
    },
    {
     "name": "stdout",
     "output_type": "stream",
     "text": [
      "\n",
      "Epoch 360: train loss: 1.7840791: validation loss :2.210106: test loss :2.198101\n",
      " \n",
      "Metrics: \n",
      "Weighted sensivity: 0.33942628418945964\n",
      "Weighted specificity: 0.9425791188857185\n",
      "Weighted precision: 0.33534279704578385\n",
      "Weighted F-score: 0.33340200226817535\n",
      "Accuracy: 0.33942628418945964\n",
      " \n",
      "------------------------------------------------------------------------------------------------------------------\n",
      "-------------------------------------------------- FOLD: 9 -------------------------------------------------------\n",
      "------------------------------------------------------------------------------------------------------------------\n"
     ]
    },
    {
     "name": "stdout",
     "output_type": "stream",
     "text": [
      "Epoch 0: train loss : 2.9166238: validation loss : 2.9169614: test loss :2.9166658\n"
     ]
    },
    {
     "name": "stdout",
     "output_type": "stream",
     "text": [
      "Epoch 491: train loss: 1.7104533: validation loss :2.187741: test loss :2.1726105\n",
      " \n",
      "Metrics: \n",
      "Weighted sensivity: 0.35820098758841584\n",
      "Weighted specificity: 0.9446255521518958\n",
      "Weighted precision: 0.35598105648783607\n",
      "Weighted F-score: 0.3537126709979366\n",
      "Accuracy: "
     ]
    },
    {
     "name": "stdout",
     "output_type": "stream",
     "text": [
      "0.35820098758841584\n",
      " \n",
      "------------------------------------------------------------------------------------------------------------------\n",
      "-------------------------------------------------- FOLD: 10 -------------------------------------------------------\n",
      "------------------------------------------------------------------------------------------------------------------\n"
     ]
    },
    {
     "name": "stdout",
     "output_type": "stream",
     "text": [
      "Epoch 0: train loss : 2.8640015: validation loss : 2.8633044: test loss :2.8648427"
     ]
    },
    {
     "name": "stdout",
     "output_type": "stream",
     "text": [
      "\n",
      "Epoch 343: train loss: 1.7946643: validation loss :2.1898687: test loss :2.2030087\n",
      " \n",
      "Metrics: \n",
      "Weighted sensivity: 0.331375950887495\n",
      "Weighted specificity: 0.941350494084029\n",
      "Weighted precision: 0.3265363961721681\n",
      "Weighted F-score: 0.3240425205248778\n",
      "Accuracy: 0.331375950887495\n"
     ]
    }
   ],
   "source": [
    "## MODELO 6\n",
    "Random.seed!(123);\n",
    "\n",
    "parameters_ann = Dict(\"topology\" => [120], \"transferFunctions\" => fill(relu, 1), \"learningRate\" => 0.01, \"repetitionsTraining\" => 1, \"validationRatio\" => 0.0, \"maxEpochsVal\" => 20);\n",
    "\n",
    "modelCrossValidation(:ANN, parameters_ann, inputs, targets, index)\n",
    "#12 minutos\n"
   ]
  },
  {
   "cell_type": "code",
   "execution_count": 12,
   "metadata": {},
   "outputs": [
    {
     "name": "stdout",
     "output_type": "stream",
     "text": [
      " \n",
      "------------------------------------------------------------------------------------------------------------------\n",
      "-------------------------------------------------- FOLD: 1 -------------------------------------------------------\n",
      "------------------------------------------------------------------------------------------------------------------"
     ]
    },
    {
     "name": "stdout",
     "output_type": "stream",
     "text": [
      "\n",
      "Epoch 0: train loss : 3.157495: validation loss : 3.1632285: test loss :3.1598413"
     ]
    },
    {
     "name": "stdout",
     "output_type": "stream",
     "text": [
      "\n",
      "Epoch 649: train loss: 0.9822395: validation loss :1.7904763: test loss :1.7910179\n",
      " \n",
      "Metrics: \n",
      "Weighted sensivity: 0.5664801492139622\n",
      "Weighted specificity: 0.9635768446916251\n",
      "Weighted precision: 0.5648399741040199\n",
      "Weighted F-score: 0.5647730523288483\n",
      "Accuracy: 0.5664801492139622\n",
      " \n",
      "------------------------------------------------------------------------------------------------------------------\n",
      "-------------------------------------------------- FOLD: 2 -------------------------------------------------------\n",
      "------------------------------------------------------------------------------------------------------------------\n"
     ]
    },
    {
     "name": "stdout",
     "output_type": "stream",
     "text": [
      "Epoch 0: train loss : 2.9487572: validation loss : "
     ]
    },
    {
     "name": "stdout",
     "output_type": "stream",
     "text": [
      "2.9502573: test loss :2.9475217\n",
      "Epoch 593: train loss: 1.0198164: validation loss :1.7883668: test loss :1.8173972\n",
      " \n",
      "Metrics: \n",
      "Weighted sensivity: 0.5499000666222519\n",
      "Weighted specificity: 0.9617088397742677\n",
      "Weighted precision: 0.5487443230390463\n",
      "Weighted F-score: 0.5478600226634704\n",
      "Accuracy: 0.5499000666222519\n"
     ]
    },
    {
     "name": "stdout",
     "output_type": "stream",
     "text": [
      " \n",
      "------------------------------------------------------------------------------------------------------------------\n",
      "-------------------------------------------------- FOLD: 3 -------------------------------------------------------\n",
      "------------------------------------------------------------------------------------------------------------------\n"
     ]
    },
    {
     "name": "stdout",
     "output_type": "stream",
     "text": [
      "Epoch 0: train loss : 2.7927034: validation loss : 2.790441: test loss :2.7919147\n"
     ]
    },
    {
     "name": "stdout",
     "output_type": "stream",
     "text": [
      "Epoch 733: train loss: 0.9511713: validation loss :1.7589281: test loss :1.7555741\n",
      " \n",
      "Metrics: \n",
      "Weighted sensivity: 0.5697534976682211\n",
      "Weighted specificity: 0.9637093666750547\n",
      "Weighted precision: 0.5697821432403277\n",
      "Weighted F-score: 0.5691601279532443\n",
      "Accuracy: 0.5697534976682211\n"
     ]
    },
    {
     "name": "stdout",
     "output_type": "stream",
     "text": [
      " \n",
      "------------------------------------------------------------------------------------------------------------------\n",
      "-------------------------------------------------- FOLD: 4 -------------------------------------------------------\n",
      "------------------------------------------------------------------------------------------------------------------"
     ]
    },
    {
     "name": "stdout",
     "output_type": "stream",
     "text": [
      "\n",
      "Epoch 0: train loss : 2.8492718: validation loss : 2.846369: test loss :2.8481247\n"
     ]
    },
    {
     "name": "stdout",
     "output_type": "stream",
     "text": [
      "Epoch 651: train loss: 0.98696786: validation loss :1.7757671: test loss :1.79443\n",
      " \n",
      "Metrics: \n",
      "Weighted sensivity: 0.5479013990672885\n",
      "Weighted specificity: 0.9618172104603955\n",
      "Weighted precision: 0.547315882574482\n",
      "Weighted F-score: 0.5467325898147124\n",
      "Accuracy: 0.5479013990672885\n"
     ]
    },
    {
     "name": "stdout",
     "output_type": "stream",
     "text": [
      " \n",
      "------------------------------------------------------------------------------------------------------------------\n",
      "-------------------------------------------------- FOLD: 5 -------------------------------------------------------\n",
      "------------------------------------------------------------------------------------------------------------------"
     ]
    },
    {
     "name": "stdout",
     "output_type": "stream",
     "text": [
      "\n",
      "Epoch 0: train loss : 2.8553631: validation loss : 2.8530624: test loss :2.8556616\n"
     ]
    },
    {
     "name": "stdout",
     "output_type": "stream",
     "text": [
      "Epoch 499: train loss: 1.0526152: validation loss :1.8252497: test loss :1.8272691\n",
      " \n",
      "Metrics: \n",
      "Weighted sensivity: 0.5393947473670178\n",
      "Weighted specificity: 0.9606893154307302\n",
      "Weighted precision: 0.5347982337279824\n",
      "Weighted F-score: 0.5338361491569746\n",
      "Accuracy: 0.5393947473670178\n",
      " \n",
      "------------------------------------------------------------------------------------------------------------------\n",
      "-------------------------------------------------- FOLD: 6 -------------------------------------------------------\n",
      "------------------------------------------------------------------------------------------------------------------\n"
     ]
    },
    {
     "name": "stdout",
     "output_type": "stream",
     "text": [
      "Epoch 0: train loss : 3.2458189: validation loss : 3.2665062: test loss :3.2539103\n"
     ]
    },
    {
     "name": "stdout",
     "output_type": "stream",
     "text": [
      "Epoch 601: train loss: 1.0330669: validation loss :1.8096071: test loss :1.814005\n",
      " \n",
      "Metrics: \n",
      "Weighted sensivity: 0.5512735031337511\n",
      "Weighted specificity: 0.9624562437490419\n",
      "Weighted precision: 0.548867947600562\n",
      "Weighted F-score: 0.5485862612143563\n",
      "Accuracy: 0.5512735031337511\n",
      " \n",
      "------------------------------------------------------------------------------------------------------------------\n",
      "-------------------------------------------------- FOLD: 7 -------------------------------------------------------\n",
      "------------------------------------------------------------------------------------------------------------------"
     ]
    },
    {
     "name": "stdout",
     "output_type": "stream",
     "text": [
      "\n",
      "Epoch 0: train loss : 2.892803: validation loss : 2.8862903: test loss :2.8906946"
     ]
    },
    {
     "name": "stdout",
     "output_type": "stream",
     "text": [
      "\n",
      "Epoch 605: train loss: 1.0062549: validation loss :1.7974797: test loss :1.7841756\n",
      " \n",
      "Metrics: \n",
      "Weighted sensivity: 0.5556148306214991\n",
      "Weighted specificity: 0.9626539898673191\n",
      "Weighted precision: 0.5546583937415824\n",
      "Weighted F-score: 0.5540269371094226\n",
      "Accuracy: 0.5556148306214991\n",
      " \n",
      "------------------------------------------------------------------------------------------------------------------\n",
      "-------------------------------------------------- FOLD: 8 -------------------------------------------------------"
     ]
    },
    {
     "name": "stdout",
     "output_type": "stream",
     "text": [
      "\n",
      "------------------------------------------------------------------------------------------------------------------"
     ]
    },
    {
     "name": "stdout",
     "output_type": "stream",
     "text": [
      "\n",
      "Epoch 0: train loss : 2.81392: validation loss : 2.815703: test loss :2.812206\n"
     ]
    },
    {
     "name": "stdout",
     "output_type": "stream",
     "text": [
      "Epoch 622: train loss: 0.98989165: validation loss :1.8094574: test loss :1.8071425\n",
      " \n",
      "Metrics: \n",
      "Weighted sensivity: 0.5518345563709139\n",
      "Weighted specificity: 0.962259455354888\n",
      "Weighted precision: 0.5516617022977309\n",
      "Weighted F-score: 0.5514305779372569\n",
      "Accuracy: 0.5518345563709139\n"
     ]
    },
    {
     "name": "stdout",
     "output_type": "stream",
     "text": [
      " \n",
      "------------------------------------------------------------------------------------------------------------------\n",
      "-------------------------------------------------- FOLD: 9 -------------------------------------------------------\n",
      "------------------------------------------------------------------------------------------------------------------"
     ]
    },
    {
     "name": "stdout",
     "output_type": "stream",
     "text": [
      "\n",
      "Epoch 0: train loss : 3.0264282: validation loss : 3.0261998: test loss :3.0276482"
     ]
    },
    {
     "name": "stdout",
     "output_type": "stream",
     "text": [
      "\n",
      "Epoch 593: train loss: 1.0469996: validation loss :1.7969826: test loss :1.8120342\n",
      " \n",
      "Metrics: \n",
      "Weighted sensivity: 0.5365007340184171\n",
      "Weighted specificity: 0.9602303413329173\n",
      "Weighted precision: 0.5363876973856277\n",
      "Weighted F-score: 0.5350463027686849\n",
      "Accuracy: 0.5365007340184171\n",
      " \n",
      "------------------------------------------------------------------------------------------------------------------\n",
      "-------------------------------------------------- FOLD: 10 -------------------------------------------------------\n",
      "------------------------------------------------------------------------------------------------------------------"
     ]
    },
    {
     "name": "stdout",
     "output_type": "stream",
     "text": [
      "\n",
      "Epoch 0: train loss : 3.0002615: validation loss : 2.9882112: test loss :2.9972959"
     ]
    },
    {
     "name": "stdout",
     "output_type": "stream",
     "text": [
      "\n",
      "Epoch 611: train loss: 1.0125903: validation loss :1.7941502: test loss :1.8380762\n",
      " \n",
      "Metrics: \n",
      "Weighted sensivity: 0.5344988656079007\n",
      "Weighted specificity: 0.9601067543307534\n",
      "Weighted precision: 0.5344209812696527\n",
      "Weighted F-score: 0.5330164053908905\n",
      "Accuracy: 0.5344988656079007\n"
     ]
    }
   ],
   "source": [
    "#MODELO 7\n",
    "Random.seed!(123);\n",
    "\n",
    "parameters_ann = Dict(\"topology\" => [240], \"transferFunctions\" => fill(relu, 1), \"learningRate\" => 0.01, \"repetitionsTraining\" => 1, \"validationRatio\" => 0.0, \"maxEpochsVal\" => 20);\n",
    "\n",
    "modelCrossValidation(:ANN, parameters_ann, inputs, targets, index)\n",
    "#30 minutos\n"
   ]
  },
  {
   "cell_type": "code",
   "execution_count": 13,
   "metadata": {},
   "outputs": [
    {
     "name": "stdout",
     "output_type": "stream",
     "text": [
      " \n",
      "------------------------------------------------------------------------------------------------------------------\n",
      "-------------------------------------------------- FOLD: 1 -------------------------------------------------------\n",
      "------------------------------------------------------------------------------------------------------------------\n",
      "Epoch 0: train loss : 2.8663285: validation loss : 2.8633735: test loss :2.8650148"
     ]
    },
    {
     "name": "stdout",
     "output_type": "stream",
     "text": [
      "\n",
      "Epoch 1000: train loss: 2.3900104: validation loss :2.48012: test loss :2.493968\n",
      " \n",
      "Metrics: \n",
      "Weighted sensivity: 0.16946442845723422\n",
      "Weighted specificity: 0.9259863861408886\n",
      "Weighted precision: 0.16507468821350973\n",
      "Weighted F-score: 0.15805803214501835\n",
      "Accuracy: 0.16946442845723422\n",
      " \n",
      "------------------------------------------------------------------------------------------------------------------\n",
      "-------------------------------------------------- FOLD: 2 -------------------------------------------------------\n",
      "------------------------------------------------------------------------------------------------------------------\n",
      "Epoch 0: train loss : 2.7744882: validation loss : 2.7721283: test loss :2.7738264\n"
     ]
    },
    {
     "name": "stdout",
     "output_type": "stream",
     "text": [
      "Epoch 736: train loss: 2.4032917: validation loss :2.4951267: test loss :2.5019777\n",
      " \n",
      "Metrics: \n",
      "Weighted sensivity: 0.16109260493004662\n",
      "Weighted specificity: 0.9233136515987147\n",
      "Weighted precision: 0.1544363052521267\n",
      "Weighted F-score: 0.14814196472757993\n",
      "Accuracy: 0.16109260493004662\n",
      " \n",
      "------------------------------------------------------------------------------------------------------------------\n",
      "-------------------------------------------------- FOLD: 3 -------------------------------------------------------\n",
      "------------------------------------------------------------------------------------------------------------------\n",
      "Epoch 0: train loss : 2.7629504: validation loss : 2.758717: test loss :2.762261"
     ]
    },
    {
     "name": "stdout",
     "output_type": "stream",
     "text": [
      "\n",
      "Epoch 907: train loss: 2.3966315: validation loss :2.4835737: test loss :2.4743516\n",
      " \n",
      "Metrics: \n",
      "Weighted sensivity: 0.16375749500333112\n",
      "Weighted specificity: 0.9246971466167503\n",
      "Weighted precision: 0.15997118646429775\n",
      "Weighted F-score: 0.15429984751387787\n",
      "Accuracy: 0.16375749500333112\n",
      " \n",
      "------------------------------------------------------------------------------------------------------------------\n",
      "-------------------------------------------------- FOLD: 4 -------------------------------------------------------\n",
      "------------------------------------------------------------------------------------------------------------------\n",
      "Epoch 0: train loss : 2.8146243: validation loss : 2.8170774: test loss :2.8141854\n"
     ]
    },
    {
     "name": "stdout",
     "output_type": "stream",
     "text": [
      "Epoch 817: train loss: 2.4065328: validation loss :2.5016708: test loss :2.4973617\n",
      " \n",
      "Metrics: \n",
      "Weighted sensivity: 0.17135243171219186\n",
      "Weighted specificity: 0.9240774979795626\n",
      "Weighted precision: 0.1590480346082092\n",
      "Weighted F-score: 0.15520342419543065\n",
      "Accuracy: 0.17135243171219186\n",
      " \n",
      "------------------------------------------------------------------------------------------------------------------\n",
      "-------------------------------------------------- FOLD: 5 -------------------------------------------------------\n",
      "------------------------------------------------------------------------------------------------------------------\n",
      "Epoch 0: train loss : 2.7290568: validation loss : 2.730864: test loss :2.7291808"
     ]
    },
    {
     "name": "stdout",
     "output_type": "stream",
     "text": [
      "\n",
      "Epoch 557: train loss: 2.409054: validation loss :2.4983373: test loss :2.4818447\n",
      " \n",
      "Metrics: \n",
      "Weighted sensivity: 0.17197706972403679\n",
      "Weighted specificity: 0.925159450120466\n",
      "Weighted precision: 0.16149468831818933\n",
      "Weighted F-score: 0.15696285941686663\n",
      "Accuracy: 0.17197706972403679\n",
      " \n",
      "------------------------------------------------------------------------------------------------------------------\n",
      "-------------------------------------------------- FOLD: 6 -------------------------------------------------------\n",
      "------------------------------------------------------------------------------------------------------------------\n",
      "Epoch 0: train loss : 2.8389428: validation loss : 2.8399892: test loss :2.838042\n"
     ]
    },
    {
     "name": "stdout",
     "output_type": "stream",
     "text": [
      "Epoch 508: train loss: 2.4293344: validation loss :2.501488: test loss :2.4866674\n",
      " \n",
      "Metrics: \n",
      "Weighted sensivity: 0.17148953193759167\n",
      "Weighted specificity: 0.9226379300401302\n",
      "Weighted precision: 0.16441450840258745\n",
      "Weighted F-score: 0.15417654616535315\n",
      "Accuracy: 0.17148953193759167\n",
      " \n",
      "------------------------------------------------------------------------------------------------------------------\n",
      "-------------------------------------------------- FOLD: 7 -------------------------------------------------------\n",
      "------------------------------------------------------------------------------------------------------------------\n"
     ]
    },
    {
     "name": "stdout",
     "output_type": "stream",
     "text": [
      "Epoch 0: train loss : 2.8297126: validation loss : 2.8238268: test loss :2.8271196\n"
     ]
    },
    {
     "name": "stdout",
     "output_type": "stream",
     "text": [
      "Epoch 1000: train loss: 2.3864439: validation loss :2.5012805: test loss :2.504115\n",
      " \n",
      "Metrics: \n",
      "Weighted sensivity: 0.16604427847425982\n",
      "Weighted specificity: 0.9234059853581905\n",
      "Weighted precision: 0.1579184864125012\n",
      "Weighted F-score: 0.15185983506327969\n",
      "Accuracy: 0.16604427847425982\n",
      " \n",
      "------------------------------------------------------------------------------------------------------------------\n",
      "-------------------------------------------------- FOLD: 8 -------------------------------------------------------\n",
      "------------------------------------------------------------------------------------------------------------------\n",
      "Epoch 0: train loss : 2.698953: validation loss : 2.700393: test loss :2.6988268"
     ]
    },
    {
     "name": "stdout",
     "output_type": "stream",
     "text": [
      "\n",
      "Epoch 648: train loss: 2.3982344: validation loss :2.4921405: test loss :2.480093\n",
      " \n",
      "Metrics: \n",
      "Weighted sensivity: 0.16971314209472982\n",
      "Weighted specificity: 0.9238885116297841\n",
      "Weighted precision: 0.1712089721721727\n",
      "Weighted F-score: 0.15863123465687368\n",
      "Accuracy: 0.16971314209472982\n",
      " \n",
      "------------------------------------------------------------------------------------------------------------------\n",
      "-------------------------------------------------- FOLD: 9 -------------------------------------------------------\n",
      "------------------------------------------------------------------------------------------------------------------\n",
      "Epoch "
     ]
    },
    {
     "name": "stdout",
     "output_type": "stream",
     "text": [
      "0: train loss : 2.8060296: validation loss : 2.8084: test loss :2.8069003"
     ]
    },
    {
     "name": "stdout",
     "output_type": "stream",
     "text": [
      "\n",
      "Epoch 308: train loss: 2.4407408: validation loss :2.497751: test loss :2.501929\n",
      " \n",
      "Metrics: \n",
      "Weighted sensivity: 0.150407046576805\n",
      "Weighted specificity: 0.9200843312407152\n",
      "Weighted precision: 0.14235644640683448\n",
      "Weighted F-score: 0.13588637200509696\n",
      "Accuracy: 0.150407046576805\n",
      " \n",
      "------------------------------------------------------------------------------------------------------------------\n",
      "-------------------------------------------------- FOLD: 10 -------------------------------------------------------\n",
      "------------------------------------------------------------------------------------------------------------------\n",
      "Epoch 0: train loss : 2.7928271: validation loss : 2.7997038: test loss :2.7939517\n"
     ]
    },
    {
     "name": "stdout",
     "output_type": "stream",
     "text": [
      "Epoch 768: train loss: 2.4049199: validation loss :2.4979389: test loss :2.496832\n",
      " \n",
      "Metrics: \n",
      "Weighted sensivity: 0.16054984652342186\n",
      "Weighted specificity: 0.9233947846816722\n",
      "Weighted precision: 0.15142396924629659\n",
      "Weighted F-score: 0.1468911575954553\n",
      "Accuracy: 0.16054984652342186\n"
     ]
    }
   ],
   "source": [
    "## MODELO 8\n",
    "Random.seed!(123);\n",
    "\n",
    "parameters_ann = Dict(\"topology\" => [15,15], \"transferFunctions\" => fill(sigmoid, 2), \"learningRate\" => 0.01, \"repetitionsTraining\" => 1, \"validationRatio\" => 0.0, \"maxEpochsVal\" => 20);\n",
    "\n",
    "modelCrossValidation(:ANN, parameters_ann, inputs, targets, index)\n",
    "#10 minitos\n"
   ]
  },
  {
   "cell_type": "code",
   "execution_count": 14,
   "metadata": {},
   "outputs": [
    {
     "name": "stdout",
     "output_type": "stream",
     "text": [
      " \n",
      "------------------------------------------------------------------------------------------------------------------\n",
      "-------------------------------------------------- FOLD: 1 -------------------------------------------------------\n",
      "------------------------------------------------------------------------------------------------------------------\n",
      "Epoch 0: train loss : 2.8663285: validation loss : 2.8633735: test loss :2.8650148"
     ]
    },
    {
     "name": "stdout",
     "output_type": "stream",
     "text": [
      "\n",
      "Epoch 1000: train loss: 2.3900104: validation loss :2.48012: test loss :2.493968\n",
      " \n",
      "Metrics: \n",
      "Weighted sensivity: 0.16946442845723422\n",
      "Weighted specificity: 0.9259863861408886\n",
      "Weighted precision: 0.16507468821350973\n",
      "Weighted F-score: 0.15805803214501835\n",
      "Accuracy: 0.16946442845723422\n"
     ]
    },
    {
     "name": "stdout",
     "output_type": "stream",
     "text": [
      " \n",
      "------------------------------------------------------------------------------------------------------------------\n",
      "-------------------------------------------------- FOLD: 2 -------------------------------------------------------\n",
      "------------------------------------------------------------------------------------------------------------------\n",
      "Epoch 0: train loss : 2.7744882: validation loss : 2.7721283: test loss :2.7738264\n"
     ]
    },
    {
     "name": "stdout",
     "output_type": "stream",
     "text": [
      "Epoch 736: train loss: 2.4032917: validation loss :2.4951267: test loss :2.5019777\n",
      " \n",
      "Metrics: \n",
      "Weighted sensivity: 0.16109260493004662\n",
      "Weighted specificity: 0.9233136515987147\n",
      "Weighted precision: 0.1544363052521267\n",
      "Weighted F-score: 0.14814196472757993\n",
      "Accuracy: 0.16109260493004662\n",
      " \n",
      "------------------------------------------------------------------------------------------------------------------\n",
      "-------------------------------------------------- FOLD: 3 -------------------------------------------------------\n",
      "------------------------------------------------------------------------------------------------------------------\n",
      "Epoch 0: train loss : 2.7629504: validation loss : 2.758717: test loss :2.762261"
     ]
    },
    {
     "name": "stdout",
     "output_type": "stream",
     "text": [
      "\n",
      "Epoch 907: train loss: 2.3966315: validation loss :2.4835737: test loss :2.4743516\n",
      " \n",
      "Metrics: \n",
      "Weighted sensivity: 0.16375749500333112\n",
      "Weighted specificity: 0.9246971466167503\n",
      "Weighted precision: 0.15997118646429775\n",
      "Weighted F-score: 0.15429984751387787\n",
      "Accuracy: 0.16375749500333112\n",
      " \n",
      "------------------------------------------------------------------------------------------------------------------\n",
      "-------------------------------------------------- FOLD: 4 -------------------------------------------------------\n",
      "------------------------------------------------------------------------------------------------------------------"
     ]
    },
    {
     "name": "stdout",
     "output_type": "stream",
     "text": [
      "\n",
      "Epoch 0: train loss : 2.8146243: validation loss : 2.8170774: test loss :2.8141854"
     ]
    },
    {
     "name": "stdout",
     "output_type": "stream",
     "text": [
      "\n",
      "Epoch 817: train loss: 2.4065328: validation loss :2.5016708: test loss :2.4973617\n",
      " \n",
      "Metrics: \n",
      "Weighted sensivity: 0.17135243171219186\n",
      "Weighted specificity: 0.9240774979795626\n",
      "Weighted precision: 0.1590480346082092\n",
      "Weighted F-score: 0.15520342419543065\n",
      "Accuracy: 0.17135243171219186\n",
      " \n",
      "------------------------------------------------------------------------------------------------------------------\n",
      "-------------------------------------------------- FOLD: 5 -------------------------------------------------------\n",
      "------------------------------------------------------------------------------------------------------------------\n"
     ]
    },
    {
     "name": "stdout",
     "output_type": "stream",
     "text": [
      "Epoch 0: train loss : 2.7290568: validation loss : 2.730864: test loss :2.7291808\n"
     ]
    },
    {
     "name": "stdout",
     "output_type": "stream",
     "text": [
      "Epoch 557: train loss: 2.409054: validation loss :2.4983373: test loss :2.4818447\n",
      " \n",
      "Metrics: \n",
      "Weighted sensivity: 0.17197706972403679\n",
      "Weighted specificity: 0.925159450120466\n",
      "Weighted precision: 0.16149468831818933\n",
      "Weighted F-score: 0.15696285941686663\n",
      "Accuracy: 0.17197706972403679\n",
      " \n",
      "------------------------------------------------------------------------------------------------------------------"
     ]
    },
    {
     "name": "stdout",
     "output_type": "stream",
     "text": [
      "\n",
      "-------------------------------------------------- FOLD: 6 -------------------------------------------------------\n",
      "------------------------------------------------------------------------------------------------------------------\n",
      "Epoch 0: train loss : 2.8389428: validation loss : 2.8399892: test loss :2.838042\n"
     ]
    },
    {
     "name": "stdout",
     "output_type": "stream",
     "text": [
      "Epoch 508: train loss: 2.4293344: validation loss :2.501488: test loss :2.4866674\n",
      " \n",
      "Metrics: \n",
      "Weighted sensivity: 0.17148953193759167\n",
      "Weighted specificity: 0.9226379300401302\n",
      "Weighted precision: 0.16441450840258745\n",
      "Weighted F-score: 0.15417654616535315\n",
      "Accuracy: 0.17148953193759167\n",
      " \n",
      "------------------------------------------------------------------------------------------------------------------\n",
      "-------------------------------------------------- FOLD: 7 -------------------------------------------------------\n",
      "------------------------------------------------------------------------------------------------------------------\n",
      "Epoch 0: train loss : 2.8297126: validation loss : 2.8238268: test loss :2.8271196\n"
     ]
    },
    {
     "name": "stdout",
     "output_type": "stream",
     "text": [
      "Epoch 1000: train loss: 2.3864439: validation loss :2.5012805: test loss :2.504115\n",
      " \n",
      "Metrics: \n",
      "Weighted sensivity: 0.16604427847425982\n",
      "Weighted specificity: 0.9234059853581905\n",
      "Weighted precision: 0.1579184864125012\n",
      "Weighted F-score: 0.15185983506327969\n",
      "Accuracy: 0.16604427847425982\n",
      " \n",
      "------------------------------------------------------------------------------------------------------------------\n",
      "-------------------------------------------------- FOLD: 8 -------------------------------------------------------\n",
      "------------------------------------------------------------------------------------------------------------------\n"
     ]
    },
    {
     "name": "stdout",
     "output_type": "stream",
     "text": [
      "Epoch 0: train loss : 2.698953: validation loss : 2.700393: test loss :2.6988268"
     ]
    },
    {
     "name": "stdout",
     "output_type": "stream",
     "text": [
      "\n",
      "Epoch 648: train loss: 2.3982344: validation loss :2.4921405: test loss :2.480093\n",
      " \n",
      "Metrics: \n",
      "Weighted sensivity: 0.16971314209472982\n",
      "Weighted specificity: 0.9238885116297841\n",
      "Weighted precision: 0.1712089721721727\n",
      "Weighted F-score: 0.15863123465687368\n",
      "Accuracy: 0.16971314209472982\n",
      " \n",
      "------------------------------------------------------------------------------------------------------------------\n",
      "-------------------------------------------------- FOLD: 9 -------------------------------------------------------\n",
      "------------------------------------------------------------------------------------------------------------------\n"
     ]
    },
    {
     "name": "stdout",
     "output_type": "stream",
     "text": [
      "Epoch 0: train loss : 2.8060296: validation loss : 2.8084: test loss :2.8069003\n"
     ]
    },
    {
     "name": "stdout",
     "output_type": "stream",
     "text": [
      "Epoch 308: train loss: 2.4407408: validation loss :2.497751: test loss :2.501929\n",
      " \n",
      "Metrics: \n",
      "Weighted sensivity: 0.150407046576805\n",
      "Weighted specificity: 0.9200843312407152\n",
      "Weighted precision: 0.14235644640683448\n",
      "Weighted F-score: 0.13588637200509696\n",
      "Accuracy: 0.150407046576805\n",
      " \n",
      "------------------------------------------------------------------------------------------------------------------\n",
      "-------------------------------------------------- FOLD: 10 -------------------------------------------------------\n",
      "------------------------------------------------------------------------------------------------------------------\n",
      "Epoch 0: train loss : 2.7928271: validation loss : 2.7997038: test loss :2.7939517"
     ]
    },
    {
     "name": "stdout",
     "output_type": "stream",
     "text": [
      "\n",
      "Epoch 768: train loss: 2.4049199: validation loss :2.4979389: test loss :2.496832\n",
      " \n",
      "Metrics: \n",
      "Weighted sensivity: 0.16054984652342186\n",
      "Weighted specificity: 0.9233947846816722\n",
      "Weighted precision: 0.15142396924629659\n",
      "Weighted F-score: 0.1468911575954553\n",
      "Accuracy: 0.16054984652342186\n"
     ]
    }
   ],
   "source": [
    "## MODELO 9\n",
    "Random.seed!(123);\n",
    "\n",
    "parameters_ann = Dict(\"topology\" => [15,15], \"transferFunctions\" => fill(softmax, 2), \"learningRate\" => 0.01, \"repetitionsTraining\" => 1, \"validationRatio\" => 0.0, \"maxEpochsVal\" => 20);\n",
    "\n",
    "modelCrossValidation(:ANN, parameters_ann, inputs, targets, index)\n",
    "#10 minutos\n"
   ]
  },
  {
   "cell_type": "code",
   "execution_count": 15,
   "metadata": {},
   "outputs": [
    {
     "name": "stdout",
     "output_type": "stream",
     "text": [
      " \n",
      "------------------------------------------------------------------------------------------------------------------\n",
      "-------------------------------------------------- FOLD: 1 -------------------------------------------------------\n",
      "------------------------------------------------------------------------------------------------------------------\n",
      "Epoch 0: train loss : 2.8663285: validation loss : 2.8633735: test loss :2.8650148\n"
     ]
    },
    {
     "name": "stdout",
     "output_type": "stream",
     "text": [
      "Epoch 1000: train loss: 2.3900104: validation loss :2.48012: test loss :2.493968\n",
      " \n",
      "Metrics: \n",
      "Weighted sensivity: 0.16946442845723422\n",
      "Weighted specificity: 0.9259863861408886\n",
      "Weighted precision: 0.16507468821350973\n",
      "Weighted F-score: 0.15805803214501835\n",
      "Accuracy: 0.16946442845723422\n",
      " \n",
      "------------------------------------------------------------------------------------------------------------------\n",
      "-------------------------------------------------- FOLD: 2 -------------------------------------------------------\n",
      "------------------------------------------------------------------------------------------------------------------\n",
      "Epoch 0: train loss : 2.7744882: validation loss : 2.7721283: test loss :2.7738264\n"
     ]
    },
    {
     "name": "stdout",
     "output_type": "stream",
     "text": [
      "Epoch 736: train loss: 2.4032917: validation loss :2.4951267: test loss :2.5019777\n",
      " \n",
      "Metrics: \n",
      "Weighted sensivity: 0.16109260493004662\n",
      "Weighted specificity: 0.9233136515987147\n",
      "Weighted precision: 0.1544363052521267\n",
      "Weighted F-score: 0.14814196472757993\n",
      "Accuracy: 0.16109260493004662\n",
      " \n",
      "------------------------------------------------------------------------------------------------------------------\n",
      "-------------------------------------------------- FOLD: 3 -------------------------------------------------------\n",
      "------------------------------------------------------------------------------------------------------------------\n",
      "Epoch 0: train loss : 2.7629504: validation loss : 2.758717: test loss :2.762261"
     ]
    },
    {
     "name": "stdout",
     "output_type": "stream",
     "text": [
      "\n",
      "Epoch 907: train loss: 2.3966315: validation loss :2.4835737: test loss :2.4743516\n",
      " \n",
      "Metrics: \n",
      "Weighted sensivity: 0.16375749500333112\n",
      "Weighted specificity: 0.9246971466167503\n",
      "Weighted precision: 0.15997118646429775\n",
      "Weighted F-score: 0.15429984751387787\n",
      "Accuracy: 0.16375749500333112\n",
      " \n",
      "------------------------------------------------------------------------------------------------------------------\n",
      "-------------------------------------------------- FOLD: 4 -------------------------------------------------------\n",
      "------------------------------------------------------------------------------------------------------------------\n",
      "Epoch 0: train loss : 2.8146243: validation loss : 2.8170774: test loss :2.8141854\n"
     ]
    },
    {
     "name": "stdout",
     "output_type": "stream",
     "text": [
      "Epoch 817: train loss: 2.4065328: validation loss :2.5016708: test loss :2.4973617\n",
      " \n",
      "Metrics: \n",
      "Weighted sensivity: 0.17135243171219186\n",
      "Weighted specificity: 0.9240774979795626\n",
      "Weighted precision: 0.1590480346082092\n",
      "Weighted F-score: 0.15520342419543065\n",
      "Accuracy: 0.17135243171219186\n",
      " \n",
      "------------------------------------------------------------------------------------------------------------------\n",
      "-------------------------------------------------- FOLD: 5 -------------------------------------------------------\n",
      "------------------------------------------------------------------------------------------------------------------"
     ]
    },
    {
     "name": "stdout",
     "output_type": "stream",
     "text": [
      "\n",
      "Epoch 0: train loss : 2.7290568: validation loss : 2.730864: test loss :2.7291808"
     ]
    },
    {
     "name": "stdout",
     "output_type": "stream",
     "text": [
      "\n",
      "Epoch 557: train loss: 2.409054: validation loss :2.4983373: test loss :2.4818447\n",
      " \n",
      "Metrics: \n",
      "Weighted sensivity: 0.17197706972403679\n",
      "Weighted specificity: 0.925159450120466\n",
      "Weighted precision: 0.16149468831818933\n",
      "Weighted F-score: 0.15696285941686663\n",
      "Accuracy: 0.17197706972403679\n",
      " \n",
      "------------------------------------------------------------------------------------------------------------------\n",
      "-------------------------------------------------- FOLD: 6 -------------------------------------------------------\n",
      "------------------------------------------------------------------------------------------------------------------\n"
     ]
    },
    {
     "name": "stdout",
     "output_type": "stream",
     "text": [
      "Epoch 0: train loss : 2.8389428: validation loss : 2.8399892: test loss :2.838042\n"
     ]
    },
    {
     "name": "stdout",
     "output_type": "stream",
     "text": [
      "Epoch 508: train loss: 2.4293344: validation loss :2.501488: test loss :2.4866674\n",
      " \n",
      "Metrics: \n",
      "Weighted sensivity: 0.17148953193759167\n",
      "Weighted specificity: 0.9226379300401302\n",
      "Weighted precision: 0.16441450840258745\n",
      "Weighted F-score: 0.15417654616535315\n",
      "Accuracy: 0.17148953193759167\n",
      " \n",
      "------------------------------------------------------------------------------------------------------------------\n",
      "-------------------------------------------------- FOLD: 7 -------------------------------------------------------\n",
      "------------------------------------------------------------------------------------------------------------------"
     ]
    },
    {
     "name": "stdout",
     "output_type": "stream",
     "text": [
      "\n",
      "Epoch 0: train loss : 2.8297126: validation loss : 2.8238268: test loss :2.8271196\n"
     ]
    },
    {
     "name": "stdout",
     "output_type": "stream",
     "text": [
      "Epoch 1000: train loss: 2.3864439: validation loss :2.5012805: test loss :2.504115\n",
      " \n",
      "Metrics: \n",
      "Weighted sensivity: 0.16604427847425982\n",
      "Weighted specificity: 0.9234059853581905\n",
      "Weighted precision: 0.1579184864125012\n",
      "Weighted F-score: 0.15185983506327969\n",
      "Accuracy: 0.16604427847425982\n",
      " \n",
      "------------------------------------------------------------------------------------------------------------------\n",
      "-------------------------------------------------- FOLD: 8 -------------------------------------------------------\n",
      "------------------------------------------------------------------------------------------------------------------\n",
      "Epoch 0: train loss : 2.698953: validation loss : 2.700393: test loss :2.6988268\n"
     ]
    },
    {
     "name": "stdout",
     "output_type": "stream",
     "text": [
      "Epoch 648: train loss: 2.3982344: validation loss :2.4921405: test loss :2.480093\n",
      " \n",
      "Metrics: \n",
      "Weighted sensivity: 0.16971314209472982\n",
      "Weighted specificity: 0.9238885116297841\n",
      "Weighted precision: 0.1712089721721727\n",
      "Weighted F-score: 0.15863123465687368\n",
      "Accuracy: 0.16971314209472982\n",
      " \n",
      "------------------------------------------------------------------------------------------------------------------\n",
      "-------------------------------------------------- FOLD: 9 -------------------------------------------------------\n",
      "------------------------------------------------------------------------------------------------------------------\n",
      "Epoch 0: train loss : 2.8060296: validation loss : 2.8084: test loss :2.8069003\n"
     ]
    },
    {
     "name": "stdout",
     "output_type": "stream",
     "text": [
      "Epoch 308: train loss: 2.4407408: validation loss :2.497751: test loss :2.501929\n",
      " \n",
      "Metrics: \n",
      "Weighted sensivity: 0.150407046576805\n",
      "Weighted specificity: 0.9200843312407152\n",
      "Weighted precision: 0.14235644640683448\n",
      "Weighted F-score: 0.13588637200509696\n",
      "Accuracy: 0.150407046576805\n",
      " \n",
      "------------------------------------------------------------------------------------------------------------------\n",
      "-------------------------------------------------- FOLD: 10 -------------------------------------------------------\n",
      "------------------------------------------------------------------------------------------------------------------\n"
     ]
    },
    {
     "name": "stdout",
     "output_type": "stream",
     "text": [
      "Epoch 0: train loss : 2.7928271: validation loss : 2.7997038: test loss :2.7939517\n"
     ]
    },
    {
     "name": "stdout",
     "output_type": "stream",
     "text": [
      "Epoch 768: train loss: 2.4049199: validation loss :2.4979389: test loss :2.496832\n",
      " \n",
      "Metrics: \n",
      "Weighted sensivity: 0.16054984652342186\n",
      "Weighted specificity: 0.9233947846816722\n",
      "Weighted precision: 0.15142396924629659\n",
      "Weighted F-score: 0.1468911575954553\n",
      "Accuracy: 0.16054984652342186\n"
     ]
    }
   ],
   "source": [
    "#MODELO 10\n",
    "Random.seed!(123);\n",
    "\n",
    "parameters_ann = Dict(\"topology\" => [15,15], \"transferFunctions\" => fill(relu, 2), \"learningRate\" => 0.01, \"repetitionsTraining\" => 1, \"validationRatio\" => 0.0, \"maxEpochsVal\" => 20);\n",
    "\n",
    "modelCrossValidation(:ANN, parameters_ann, inputs, targets, index)\n",
    "#10 minutos"
   ]
  },
  {
   "cell_type": "code",
   "execution_count": 16,
   "metadata": {},
   "outputs": [
    {
     "name": "stdout",
     "output_type": "stream",
     "text": [
      " "
     ]
    },
    {
     "name": "stdout",
     "output_type": "stream",
     "text": [
      "\n",
      "------------------------------------------------------------------------------------------------------------------\n",
      "-------------------------------------------------- FOLD: 1 -------------------------------------------------------\n",
      "------------------------------------------------------------------------------------------------------------------\n",
      "Epoch 0: train loss : 2.8663285: validation loss : 2.8633735: test loss :2.8650148"
     ]
    },
    {
     "name": "stdout",
     "output_type": "stream",
     "text": [
      "\n",
      "Epoch 1000: train loss: 2.3900104: validation loss :2.48012: test loss :2.493968\n",
      " \n",
      "Metrics: \n",
      "Weighted sensivity: 0.16946442845723422\n",
      "Weighted specificity: 0.9259863861408886\n",
      "Weighted precision: 0.16507468821350973\n",
      "Weighted F-score: 0.15805803214501835\n",
      "Accuracy: 0.16946442845723422\n",
      " \n",
      "------------------------------------------------------------------------------------------------------------------\n",
      "-------------------------------------------------- FOLD: 2 -------------------------------------------------------\n",
      "------------------------------------------------------------------------------------------------------------------\n",
      "Epoch 0: train loss : 2.7744882: validation loss : 2.7721283: test loss :2.7738264"
     ]
    },
    {
     "name": "stdout",
     "output_type": "stream",
     "text": [
      "\n",
      "Epoch 736: train loss: 2.4032917: validation loss :2.4951267: test loss :2.5019777\n",
      " \n",
      "Metrics: \n",
      "Weighted sensivity: 0.16109260493004662\n",
      "Weighted specificity: 0.9233136515987147\n",
      "Weighted precision: 0.1544363052521267\n",
      "Weighted F-score: 0.14814196472757993\n",
      "Accuracy: 0.16109260493004662\n",
      " \n",
      "------------------------------------------------------------------------------------------------------------------\n",
      "-------------------------------------------------- FOLD: 3 -------------------------------------------------------\n",
      "------------------------------------------------------------------------------------------------------------------\n",
      "Epoch 0: train loss : 2.7629504: validation loss : 2.758717: test loss :2.762261\n"
     ]
    },
    {
     "name": "stdout",
     "output_type": "stream",
     "text": [
      "Epoch 907: train loss: 2.3966315: validation loss :2.4835737: test loss :2.4743516\n",
      " \n",
      "Metrics: \n",
      "Weighted sensivity: 0.16375749500333112\n",
      "Weighted specificity: 0.9246971466167503\n",
      "Weighted precision: 0.15997118646429775\n",
      "Weighted F-score: 0.15429984751387787\n",
      "Accuracy: 0.16375749500333112\n",
      " \n",
      "------------------------------------------------------------------------------------------------------------------\n",
      "-------------------------------------------------- FOLD: 4 -------------------------------------------------------\n",
      "------------------------------------------------------------------------------------------------------------------\n",
      "Epoch 0: train loss : "
     ]
    },
    {
     "name": "stdout",
     "output_type": "stream",
     "text": [
      "2.8146243: validation loss : 2.8170774: test loss :2.8141854\n",
      "Epoch 817: train loss: 2.4065328: validation loss :2.5016708: test loss :2.4973617\n",
      " \n",
      "Metrics: \n",
      "Weighted sensivity: 0.17135243171219186\n",
      "Weighted specificity: 0.9240774979795626\n",
      "Weighted precision: 0.1590480346082092\n",
      "Weighted F-score: 0.15520342419543065\n",
      "Accuracy: 0.17135243171219186\n",
      " \n",
      "------------------------------------------------------------------------------------------------------------------\n",
      "-------------------------------------------------- FOLD: 5 -------------------------------------------------------\n",
      "------------------------------------------------------------------------------------------------------------------\n"
     ]
    },
    {
     "name": "stdout",
     "output_type": "stream",
     "text": [
      "Epoch 0: train loss : 2.7290568: validation loss : 2.730864: test loss :2.7291808\n"
     ]
    },
    {
     "name": "stdout",
     "output_type": "stream",
     "text": [
      "Epoch 557: train loss: 2.409054: validation loss :2.4983373: test loss :2.4818447\n",
      " \n",
      "Metrics: \n",
      "Weighted sensivity: 0.17197706972403679\n",
      "Weighted specificity: 0.925159450120466\n",
      "Weighted precision: 0.16149468831818933\n",
      "Weighted F-score: 0.15696285941686663\n",
      "Accuracy: 0.17197706972403679\n",
      " \n",
      "------------------------------------------------------------------------------------------------------------------\n",
      "-------------------------------------------------- FOLD: 6 -------------------------------------------------------\n",
      "------------------------------------------------------------------------------------------------------------------\n",
      "Epoch 0: train loss : 2.8389428: validation loss : 2.8399892: test loss :2.838042"
     ]
    },
    {
     "name": "stdout",
     "output_type": "stream",
     "text": [
      "\n",
      "Epoch 508: train loss: 2.4293344: validation loss :2.501488: test loss :2.4866674\n",
      " \n",
      "Metrics: \n",
      "Weighted sensivity: 0.17148953193759167\n",
      "Weighted specificity: 0.9226379300401302\n",
      "Weighted precision: 0.16441450840258745\n",
      "Weighted F-score: 0.15417654616535315\n",
      "Accuracy: 0.17148953193759167\n",
      " \n",
      "------------------------------------------------------------------------------------------------------------------\n",
      "-------------------------------------------------- FOLD: 7 -------------------------------------------------------\n",
      "------------------------------------------------------------------------------------------------------------------\n",
      "Epoch 0: train loss : 2.8297126: validation loss : 2.8238268: test loss :2.8271196\n"
     ]
    },
    {
     "name": "stdout",
     "output_type": "stream",
     "text": [
      "Epoch 1000: train loss: 2.3864439: validation loss :2.5012805: test loss :2.504115\n",
      " \n",
      "Metrics: \n",
      "Weighted sensivity: 0.16604427847425982\n",
      "Weighted specificity: 0.9234059853581905\n",
      "Weighted precision: 0.1579184864125012\n",
      "Weighted F-score: 0.15185983506327969\n",
      "Accuracy: 0.16604427847425982\n",
      " \n",
      "------------------------------------------------------------------------------------------------------------------\n",
      "-------------------------------------------------- FOLD: 8 -------------------------------------------------------\n",
      "------------------------------------------------------------------------------------------------------------------\n",
      "Epoch 0: train loss : 2.698953: validation loss : "
     ]
    },
    {
     "name": "stdout",
     "output_type": "stream",
     "text": [
      "2.700393: test loss :2.6988268"
     ]
    },
    {
     "name": "stdout",
     "output_type": "stream",
     "text": [
      "\n",
      "Epoch 648: train loss: 2.3982344: validation loss :2.4921405: test loss :2.480093\n",
      " \n",
      "Metrics: \n",
      "Weighted sensivity: 0.16971314209472982\n",
      "Weighted specificity: 0.9238885116297841\n",
      "Weighted precision: 0.1712089721721727\n",
      "Weighted F-score: 0.15863123465687368\n",
      "Accuracy: 0.16971314209472982\n",
      " \n",
      "------------------------------------------------------------------------------------------------------------------\n",
      "-------------------------------------------------- FOLD: 9 -------------------------------------------------------\n",
      "------------------------------------------------------------------------------------------------------------------\n",
      "Epoch 0: train loss : 2.8060296: validation loss : 2.8084: test loss :2.8069003"
     ]
    },
    {
     "name": "stdout",
     "output_type": "stream",
     "text": [
      "\n",
      "Epoch 308: train loss: 2.4407408: validation loss :2.497751: test loss :2.501929\n",
      " \n",
      "Metrics: \n",
      "Weighted sensivity: 0.150407046576805\n",
      "Weighted specificity: 0.9200843312407152\n",
      "Weighted precision: 0.14235644640683448\n",
      "Weighted F-score: 0.13588637200509696\n",
      "Accuracy: 0.150407046576805\n",
      " \n",
      "------------------------------------------------------------------------------------------------------------------\n",
      "-------------------------------------------------- FOLD: 10 -------------------------------------------------------\n",
      "------------------------------------------------------------------------------------------------------------------\n",
      "Epoch 0: train loss : 2.7928271: validation loss : 2.7997038: test loss :2.7939517\n"
     ]
    },
    {
     "name": "stdout",
     "output_type": "stream",
     "text": [
      "Epoch 768: train loss: 2.4049199: validation loss :2.4979389: test loss :2.496832\n",
      " \n",
      "Metrics: \n",
      "Weighted sensivity: 0.16054984652342186\n",
      "Weighted specificity: 0.9233947846816722\n",
      "Weighted precision: 0.15142396924629659\n",
      "Weighted F-score: 0.1468911575954553\n",
      "Accuracy: 0.16054984652342186\n"
     ]
    }
   ],
   "source": [
    "#MODELO 11\n",
    "Random.seed!(123);\n",
    "\n",
    "\n",
    "parameters_ann = Dict(\"topology\" => [15,15], \"transferFunctions\" => fill(tanh, 2), \"learningRate\" => 0.01, \"repetitionsTraining\" => 1, \"validationRatio\" => 0.0, \"maxEpochsVal\" => 20);\n",
    "\n",
    "modelCrossValidation(:ANN, parameters_ann, inputs, targets, index)\n",
    "#10 minutos"
   ]
  },
  {
   "cell_type": "code",
   "execution_count": 17,
   "metadata": {},
   "outputs": [
    {
     "name": "stdout",
     "output_type": "stream",
     "text": [
      " \n",
      "------------------------------------------------------------------------------------------------------------------\n",
      "-------------------------------------------------- FOLD: 1 -------------------------------------------------------\n",
      "------------------------------------------------------------------------------------------------------------------"
     ]
    },
    {
     "name": "stdout",
     "output_type": "stream",
     "text": [
      "\n",
      "Epoch 0: train loss : 3.0026958: validation loss : "
     ]
    },
    {
     "name": "stdout",
     "output_type": "stream",
     "text": [
      "3.0044923: test loss :3.0030756\n",
      "Epoch 1000: train loss: 0.8703592: validation loss :1.8923202: test loss :1.8791553\n",
      " \n",
      "Metrics: \n",
      "Weighted sensivity: 0.5907274180655475\n",
      "Weighted specificity: 0.9655448933216755\n",
      "Weighted precision: 0.5903013983344398\n",
      "Weighted F-score: 0.5891487436170533\n",
      "Accuracy: 0.5907274180655475\n",
      " \n",
      "------------------------------------------------------------------------------------------------------------------\n",
      "-------------------------------------------------- FOLD: 2 -------------------------------------------------------\n",
      "------------------------------------------------------------------------------------------------------------------\n"
     ]
    },
    {
     "name": "stdout",
     "output_type": "stream",
     "text": [
      "Epoch 0: train loss : 3.074513: validation loss : 3.0833604: test loss :3.0769217"
     ]
    },
    {
     "name": "stdout",
     "output_type": "stream",
     "text": [
      "\n",
      "Epoch 1000: train loss: 0.8799298: validation loss :1.866853: test loss :1.9212604\n",
      " \n",
      "Metrics: \n",
      "Weighted sensivity: 0.5849433710859427\n",
      "Weighted specificity: 0.9648069249076359\n",
      "Weighted precision: 0.5834634088345533\n",
      "Weighted F-score: 0.5825115121608203\n",
      "Accuracy: 0.5849433710859427\n",
      " \n",
      "------------------------------------------------------------------------------------------------------------------\n",
      "-------------------------------------------------- FOLD: 3 -------------------------------------------------------\n",
      "------------------------------------------------------------------------------------------------------------------"
     ]
    },
    {
     "name": "stdout",
     "output_type": "stream",
     "text": [
      "\n",
      "Epoch 0: train loss : 3.0293744: validation loss : 3.024828: test loss :"
     ]
    },
    {
     "name": "stdout",
     "output_type": "stream",
     "text": [
      "3.0279574\n",
      "Epoch 1000: train loss: 0.85230184: validation loss :1.8679771: test loss :1.8759782\n",
      " \n",
      "Metrics: \n",
      "Weighted sensivity: 0.5965356429047302\n",
      "Weighted specificity: 0.9664687564106071\n",
      "Weighted precision: 0.5953111000314423\n",
      "Weighted F-score: 0.5945976068125616\n",
      "Accuracy: 0.5965356429047302\n",
      " \n",
      "------------------------------------------------------------------------------------------------------------------\n",
      "-------------------------------------------------- FOLD: 4 -------------------------------------------------------\n",
      "------------------------------------------------------------------------------------------------------------------"
     ]
    },
    {
     "name": "stdout",
     "output_type": "stream",
     "text": [
      "\n",
      "Epoch 0: train loss : 2.8815951: validation loss : 2.8915892: test loss :2.883459"
     ]
    },
    {
     "name": "stdout",
     "output_type": "stream",
     "text": [
      "\n",
      "Epoch 1000: train loss: 0.8454998: validation loss :1.9298924: test loss :1.9191512\n",
      " \n",
      "Metrics: \n",
      "Weighted sensivity: 0.5897401732178548\n",
      "Weighted specificity: 0.9654550407114083\n",
      "Weighted precision: 0.5887030708020118\n",
      "Weighted F-score: 0.5886044063722872\n",
      "Accuracy: 0.5897401732178548\n",
      " \n",
      "------------------------------------------------------------------------------------------------------------------\n",
      "-------------------------------------------------- FOLD: 5 -------------------------------------------------------\n",
      "------------------------------------------------------------------------------------------------------------------"
     ]
    },
    {
     "name": "stdout",
     "output_type": "stream",
     "text": [
      "\n",
      "Epoch 0: train loss : 2.9183614: validation loss : 2.9134412: test loss :2.9172177"
     ]
    },
    {
     "name": "stdout",
     "output_type": "stream",
     "text": [
      "\n",
      "Epoch 986: train loss: 0.8131636: validation loss :1.8638073: test loss :1.8898884\n",
      " \n",
      "Metrics: \n",
      "Weighted sensivity: 0.5977869617384349\n",
      "Weighted specificity: 0.9661086293605977\n",
      "Weighted precision: 0.5971638015618792\n",
      "Weighted F-score: 0.5966794918701865\n",
      "Accuracy: 0.5977869617384349\n",
      " \n",
      "------------------------------------------------------------------------------------------------------------------\n",
      "-------------------------------------------------- FOLD: 6 -------------------------------------------------------\n",
      "------------------------------------------------------------------------------------------------------------------\n"
     ]
    },
    {
     "name": "stdout",
     "output_type": "stream",
     "text": [
      "Epoch 0: train loss : 2.9271376: validation loss : 2.9333854: test loss :2.9292812\n"
     ]
    },
    {
     "name": "stdout",
     "output_type": "stream",
     "text": [
      "Epoch 1000: train loss: 0.812465: validation loss :1.8637589: test loss :1.8458536\n",
      " \n",
      "Metrics: \n",
      "Weighted sensivity: 0.6038138418455794\n",
      "Weighted specificity: 0.9669410600547704\n",
      "Weighted precision: 0.6028206958339329\n",
      "Weighted F-score: 0.6028864886773009\n",
      "Accuracy: 0.6038138418455794\n",
      " \n",
      "------------------------------------------------------------------------------------------------------------------\n",
      "-------------------------------------------------- FOLD: 7 -------------------------------------------------------\n",
      "------------------------------------------------------------------------------------------------------------------\n"
     ]
    },
    {
     "name": "stdout",
     "output_type": "stream",
     "text": [
      "Epoch 0: train loss : 2.9615464: validation loss : 2.9573874: test loss :2.961571"
     ]
    },
    {
     "name": "stdout",
     "output_type": "stream",
     "text": [
      "\n",
      "Epoch 1000: train loss: 0.8222505: validation loss :1.865695: test loss :1.9028012\n",
      " \n",
      "Metrics: \n",
      "Weighted sensivity: 0.6058949053080822\n",
      "Weighted specificity: 0.9671921469497277\n",
      "Weighted precision: 0.6061505267684094\n",
      "Weighted F-score: 0.6055844443875625\n",
      "Accuracy: 0.6058949053080822\n",
      " \n",
      "------------------------------------------------------------------------------------------------------------------\n",
      "-------------------------------------------------- FOLD: 8 -------------------------------------------------------\n",
      "------------------------------------------------------------------------------------------------------------------\n"
     ]
    },
    {
     "name": "stdout",
     "output_type": "stream",
     "text": [
      "Epoch 0: train loss : 3.08545: validation loss : 3.0762913: test loss :3.084795\n"
     ]
    },
    {
     "name": "stdout",
     "output_type": "stream",
     "text": [
      "Epoch 1000: train loss: 0.8537135: validation loss :1.8435847: test loss :1.8996664\n",
      " \n",
      "Metrics: \n",
      "Weighted sensivity: 0.5957304869913276\n",
      "Weighted specificity: 0.9660731790586249\n",
      "Weighted precision: 0.5941148974663497\n",
      "Weighted F-score: 0.5936969144264037\n",
      "Accuracy: 0.5957304869913276\n",
      " \n",
      "------------------------------------------------------------------------------------------------------------------\n",
      "-------------------------------------------------- FOLD: 9 -------------------------------------------------------\n",
      "------------------------------------------------------------------------------------------------------------------\n"
     ]
    },
    {
     "name": "stdout",
     "output_type": "stream",
     "text": [
      "Epoch 0: train loss : 3.053083: validation loss : 3.0450542: test loss :3.0515814\n"
     ]
    },
    {
     "name": "stdout",
     "output_type": "stream",
     "text": [
      "Epoch 1000: train loss: 0.82799864: validation loss :1.9261812: test loss :1.843443\n",
      " \n",
      "Metrics: \n",
      "Weighted sensivity: 0.5992259442146003\n",
      "Weighted specificity: 0.9664282540074866\n",
      "Weighted precision: 0.5989763011773442\n",
      "Weighted F-score: 0.5984078722842625\n",
      "Accuracy: 0.5992259442146003\n",
      " \n",
      "------------------------------------------------------------------------------------------------------------------\n",
      "-------------------------------------------------- FOLD: 10 -------------------------------------------------------\n"
     ]
    },
    {
     "name": "stdout",
     "output_type": "stream",
     "text": [
      "------------------------------------------------------------------------------------------------------------------"
     ]
    },
    {
     "name": "stdout",
     "output_type": "stream",
     "text": [
      "\n",
      "Epoch 0: train loss : 2.7216406: validation loss : 2.7307165: test loss :2.7235134"
     ]
    },
    {
     "name": "stdout",
     "output_type": "stream",
     "text": [
      "\n",
      "Epoch 961: train loss: 0.85280293: validation loss :1.8575989: test loss :1.8928643\n",
      " \n",
      "Metrics: \n",
      "Weighted sensivity: 0.5798745495796076\n",
      "Weighted specificity: 0.9647685986129142\n",
      "Weighted precision: 0.5796925897067127\n",
      "Weighted F-score: 0.5793040894089334\n",
      "Accuracy: 0.5798745495796076\n"
     ]
    }
   ],
   "source": [
    "#MODELO 12\n",
    "Random.seed!(123);\n",
    "\n",
    "parameters_ann = Dict(\"topology\" => [120,120], \"transferFunctions\" => fill(relu, 2), \"learningRate\" => 0.01, \"repetitionsTraining\" => 1, \"validationRatio\" => 0.0, \"maxEpochsVal\" => 20);\n",
    "\n",
    "modelCrossValidation(:ANN, parameters_ann, inputs, targets, index)\n",
    "# 52 minutos"
   ]
  },
  {
   "cell_type": "code",
   "execution_count": 18,
   "metadata": {},
   "outputs": [
    {
     "name": "stdout",
     "output_type": "stream",
     "text": [
      " \n",
      "------------------------------------------------------------------------------------------------------------------\n",
      "-------------------------------------------------- FOLD: 1 -------------------------------------------------------\n",
      "------------------------------------------------------------------------------------------------------------------"
     ]
    },
    {
     "name": "stdout",
     "output_type": "stream",
     "text": [
      "\n",
      "Epoch 0: train loss : 2.7638445: validation loss : 2.7578304: test loss :2.7631292\n"
     ]
    },
    {
     "name": "stdout",
     "output_type": "stream",
     "text": [
      "Epoch 1000: train loss: 0.22410567: validation loss :1.61502: test loss :1.6658386\n",
      " \n",
      "Metrics: \n",
      "Weighted sensivity: 0.7871036504130029\n",
      "Weighted specificity: 0.9822021509674748\n",
      "Weighted precision: 0.7877341373926413\n",
      "Weighted F-score: 0.7869717968728189\n",
      "Accuracy: 0.7871036504130029\n",
      " \n",
      "------------------------------------------------------------------------------------------------------------------\n",
      "-------------------------------------------------- FOLD: 2 -------------------------------------------------------\n",
      "------------------------------------------------------------------------------------------------------------------"
     ]
    },
    {
     "name": "stdout",
     "output_type": "stream",
     "text": [
      "\n",
      "Epoch 0: train loss : 2.925189: validation loss : 2.9249876: test loss :2.9244623\n"
     ]
    },
    {
     "name": "stdout",
     "output_type": "stream",
     "text": [
      "Epoch 982: train loss: 0.21367067: validation loss :1.6202699: test loss :1.6464958\n",
      " \n",
      "Metrics: \n",
      "Weighted sensivity: 0.7792138574283811\n",
      "Weighted specificity: 0.9817370674825492\n",
      "Weighted precision: 0.7793324890489994\n",
      "Weighted F-score: 0.7790530991711251\n",
      "Accuracy: 0.7792138574283811\n",
      " \n",
      "------------------------------------------------------------------------------------------------------------------\n",
      "-------------------------------------------------- FOLD: 3 -------------------------------------------------------\n",
      "------------------------------------------------------------------------------------------------------------------"
     ]
    },
    {
     "name": "stdout",
     "output_type": "stream",
     "text": [
      "\n",
      "Epoch 0: train loss : 2.966471: validation loss : 2.9756284: test loss :2.967678\n"
     ]
    },
    {
     "name": "stdout",
     "output_type": "stream",
     "text": [
      "Epoch 1000: train loss: 0.32890958: validation loss :1.7095433: test loss :1.6739936\n"
     ]
    },
    {
     "name": "stdout",
     "output_type": "stream",
     "text": [
      " \n",
      "Metrics: \n",
      "Weighted sensivity: 0.7566955363091272\n",
      "Weighted specificity: 0.9797753300691855\n",
      "Weighted precision: 0.7571888828239954\n",
      "Weighted F-score: 0.7566110541625272\n",
      "Accuracy: 0.7566955363091272\n",
      " \n",
      "------------------------------------------------------------------------------------------------------------------\n",
      "-------------------------------------------------- FOLD: 4 -------------------------------------------------------\n",
      "------------------------------------------------------------------------------------------------------------------"
     ]
    },
    {
     "name": "stdout",
     "output_type": "stream",
     "text": [
      "\n",
      "Epoch 0: train loss : 3.1860285: validation loss : 3.1825917: test loss :3.1847544"
     ]
    },
    {
     "name": "stdout",
     "output_type": "stream",
     "text": [
      "\n",
      "Epoch 1000: train loss: 0.32941005: validation loss :1.6687258: test loss :1.6481414\n",
      " \n",
      "Metrics: \n",
      "Weighted sensivity: 0.7548301132578281\n",
      "Weighted specificity: 0.9797505191365\n",
      "Weighted precision: 0.7550340996810521\n",
      "Weighted F-score: 0.7540716237686046\n",
      "Accuracy: 0.7548301132578281\n",
      " "
     ]
    },
    {
     "name": "stdout",
     "output_type": "stream",
     "text": [
      "\n",
      "------------------------------------------------------------------------------------------------------------------\n",
      "-------------------------------------------------- FOLD: 5 -------------------------------------------------------\n",
      "------------------------------------------------------------------------------------------------------------------\n"
     ]
    },
    {
     "name": "stdout",
     "output_type": "stream",
     "text": [
      "Epoch 0: train loss : 2.8153942: validation loss : 2.815607: test loss :2.8153846\n"
     ]
    },
    {
     "name": "stdout",
     "output_type": "stream",
     "text": [
      "Epoch 981: train loss: 0.23531646: validation loss :1.6367011: test loss :1.6119405\n",
      " \n",
      "Metrics: \n",
      "Weighted sensivity: 0.7740301293160912\n",
      "Weighted specificity: 0.9809859380563595\n",
      "Weighted precision: 0.7742666842150276\n",
      "Weighted F-score: 0.7740186867453538\n",
      "Accuracy: 0.7740301293160912\n",
      " \n",
      "------------------------------------------------------------------------------------------------------------------\n",
      "-------------------------------------------------- FOLD: 6 -------------------------------------------------------\n",
      "------------------------------------------------------------------------------------------------------------------\n"
     ]
    },
    {
     "name": "stdout",
     "output_type": "stream",
     "text": [
      "Epoch 0: train loss : 2.9984481: validation loss : 3.0016487: test loss :3.0004807"
     ]
    },
    {
     "name": "stdout",
     "output_type": "stream",
     "text": [
      "\n",
      "Epoch 1000: train loss: 0.24615078: validation loss :1.5899194: test loss :1.6066132\n",
      " \n",
      "Metrics: \n",
      "Weighted sensivity: 0.7871716228830511\n",
      "Weighted specificity: 0.9821818970785583\n",
      "Weighted precision: 0.7874961361473615\n",
      "Weighted F-score: 0.7869363761470544\n",
      "Accuracy: 0.7871716228830511\n"
     ]
    },
    {
     "name": "stdout",
     "output_type": "stream",
     "text": [
      " \n",
      "------------------------------------------------------------------------------------------------------------------\n",
      "-------------------------------------------------- FOLD: 7 -------------------------------------------------------\n",
      "------------------------------------------------------------------------------------------------------------------"
     ]
    },
    {
     "name": "stdout",
     "output_type": "stream",
     "text": [
      "\n",
      "Epoch 0: train loss : 3.1487575: validation loss : 3.1401577: test loss :3.1487763"
     ]
    },
    {
     "name": "stdout",
     "output_type": "stream",
     "text": [
      "\n",
      "Epoch 1000: train loss: 0.3139937: validation loss :1.6464914: test loss :1.690058\n",
      " \n",
      "Metrics: \n",
      "Weighted sensivity: 0.754601226993865\n",
      "Weighted specificity: 0.9794581725409172\n",
      "Weighted precision: 0.7549735863761057\n",
      "Weighted F-score: 0.7544754500293533\n",
      "Accuracy: 0.754601226993865\n",
      " \n",
      "------------------------------------------------------------------------------------------------------------------\n",
      "-------------------------------------------------- FOLD: 8 -------------------------------------------------------\n",
      "------------------------------------------------------------------------------------------------------------------"
     ]
    },
    {
     "name": "stdout",
     "output_type": "stream",
     "text": [
      "\n",
      "Epoch 0: train loss : 2.9038079: validation loss : 2.9082754: test loss :2.90424\n"
     ]
    },
    {
     "name": "stdout",
     "output_type": "stream",
     "text": [
      "Epoch 1000: train loss: 0.22779486: validation loss :1.5706927: test loss :1.5606389\n",
      " "
     ]
    },
    {
     "name": "stdout",
     "output_type": "stream",
     "text": [
      "\n",
      "Metrics: \n",
      "Weighted sensivity: 0.7911941294196131\n",
      "Weighted specificity: 0.982342427431282\n",
      "Weighted precision: 0.7914810087126577\n",
      "Weighted F-score: 0.7910981435665486\n",
      "Accuracy: 0.7911941294196131\n",
      " \n",
      "------------------------------------------------------------------------------------------------------------------\n",
      "-------------------------------------------------- FOLD: 9 -------------------------------------------------------\n",
      "------------------------------------------------------------------------------------------------------------------"
     ]
    },
    {
     "name": "stdout",
     "output_type": "stream",
     "text": [
      "\n",
      "Epoch 0: train loss : 3.0734851: validation loss : 3.0619574: test loss :3.0717957\n"
     ]
    },
    {
     "name": "stdout",
     "output_type": "stream",
     "text": [
      "Epoch 971: train loss: 0.2272297: validation loss :1.637206: test loss :1.5945532\n",
      " \n",
      "Metrics: \n",
      "Weighted sensivity: 0.7805952222073935\n",
      "Weighted specificity: 0.9815370063099738"
     ]
    },
    {
     "name": "stdout",
     "output_type": "stream",
     "text": [
      "\n",
      "Weighted precision: 0.780722834927478\n",
      "Weighted F-score: 0.7804463058997764\n",
      "Accuracy: 0.7805952222073935\n",
      " \n",
      "------------------------------------------------------------------------------------------------------------------\n",
      "-------------------------------------------------- FOLD: 10 -------------------------------------------------------\n"
     ]
    },
    {
     "name": "stdout",
     "output_type": "stream",
     "text": [
      "------------------------------------------------------------------------------------------------------------------\n",
      "Epoch 0: train loss : 2.9737651: validation loss : 2.9833624: test loss :2.976871"
     ]
    },
    {
     "name": "stdout",
     "output_type": "stream",
     "text": [
      "\n",
      "Epoch 1000: train loss: 0.25431916: validation loss :1.6826116: test loss :1.6838453\n",
      " \n",
      "Metrics: \n",
      "Weighted sensivity: 0.7700520485786734\n",
      "Weighted specificity: 0.9807189053256544\n",
      "Weighted precision: 0.7702174279098757\n",
      "Weighted F-score: 0.7699224980440188\n",
      "Accuracy: 0.7700520485786734\n"
     ]
    }
   ],
   "source": [
    "#MODELO 13\n",
    "Random.seed!(123);\n",
    "\n",
    "parameters_ann = Dict(\"topology\" => [240,240], \"transferFunctions\" => fill(relu, 2), \"learningRate\" => 0.01, \"repetitionsTraining\" => 1, \"validationRatio\" => 0.0, \"maxEpochsVal\" => 20);\n",
    "\n",
    "modelCrossValidation(:ANN, parameters_ann, inputs, targets, index)\n",
    "#100 mins"
   ]
  },
  {
   "cell_type": "code",
   "execution_count": 19,
   "metadata": {},
   "outputs": [
    {
     "name": "stdout",
     "output_type": "stream",
     "text": [
      " \n",
      "------------------------------------------------------------------------------------------------------------------\n",
      "-------------------------------------------------- FOLD: 1 -------------------------------------------------------"
     ]
    },
    {
     "name": "stdout",
     "output_type": "stream",
     "text": [
      "\n",
      "------------------------------------------------------------------------------------------------------------------\n",
      "Epoch 0: train loss : 2.7638445: validation loss : 2.7578304: test loss :2.7631292\n"
     ]
    },
    {
     "name": "stdout",
     "output_type": "stream",
     "text": [
      "Epoch 1000: train loss: 0.22410567: validation loss :1.61502: test loss :1.6658386\n",
      " \n",
      "Metrics: \n",
      "Weighted sensivity: 0.7871036504130029\n",
      "Weighted specificity: 0.9822021509674748\n",
      "Weighted precision: 0.7877341373926413\n",
      "Weighted F-score: 0.7869717968728189\n",
      "Accuracy: 0.7871036504130029\n",
      " \n",
      "------------------------------------------------------------------------------------------------------------------\n",
      "-------------------------------------------------- FOLD: 2 -------------------------------------------------------\n",
      "------------------------------------------------------------------------------------------------------------------\n"
     ]
    },
    {
     "name": "stdout",
     "output_type": "stream",
     "text": [
      "Epoch 0: train loss : 2.925189: validation loss : 2.9249876: test loss :2.9244623\n"
     ]
    },
    {
     "name": "stdout",
     "output_type": "stream",
     "text": [
      "Epoch 982: train loss: 0.21367067: validation loss :1.6202699: test loss :1.6464958\n",
      " \n",
      "Metrics: \n",
      "Weighted sensivity: 0.7792138574283811\n",
      "Weighted specificity: 0.9817370674825492\n",
      "Weighted precision: 0.7793324890489994\n",
      "Weighted F-score: 0.7790530991711251\n",
      "Accuracy: 0.7792138574283811\n",
      " \n",
      "------------------------------------------------------------------------------------------------------------------\n",
      "-------------------------------------------------- FOLD: 3 -------------------------------------------------------\n",
      "------------------------------------------------------------------------------------------------------------------"
     ]
    },
    {
     "name": "stdout",
     "output_type": "stream",
     "text": [
      "\n",
      "Epoch 0: train loss : 2.966471: validation loss : 2.9756284: test loss :2.967678\n"
     ]
    },
    {
     "name": "stdout",
     "output_type": "stream",
     "text": [
      "Epoch 1000: train loss: 0.32890958: validation loss :1.7095433: test loss :1.6739936\n",
      " \n",
      "Metrics: \n",
      "Weighted sensivity: 0.7566955363091272\n",
      "Weighted specificity: 0.9797753300691855\n",
      "Weighted precision: 0.7571888828239954\n",
      "Weighted F-score: 0.7566110541625272\n",
      "Accuracy: 0.7566955363091272\n"
     ]
    },
    {
     "name": "stdout",
     "output_type": "stream",
     "text": [
      " \n",
      "------------------------------------------------------------------------------------------------------------------\n",
      "-------------------------------------------------- FOLD: 4 -------------------------------------------------------\n",
      "------------------------------------------------------------------------------------------------------------------\n"
     ]
    },
    {
     "name": "stdout",
     "output_type": "stream",
     "text": [
      "Epoch 0: train loss : 3.1860285: validation loss : 3.1825917: test loss :3.1847544\n"
     ]
    },
    {
     "name": "stdout",
     "output_type": "stream",
     "text": [
      "Epoch 1000: train loss: 0.32941005: validation loss :1.6687258: test loss :1.6481414\n",
      " \n",
      "Metrics: \n",
      "Weighted sensivity: 0.7548301132578281\n",
      "Weighted specificity: 0.9797505191365\n",
      "Weighted precision: 0.7550340996810521\n",
      "Weighted F-score: 0.7540716237686046\n",
      "Accuracy: 0.7548301132578281"
     ]
    },
    {
     "name": "stdout",
     "output_type": "stream",
     "text": [
      "\n",
      " \n",
      "------------------------------------------------------------------------------------------------------------------\n",
      "-------------------------------------------------- FOLD: 5 -------------------------------------------------------\n",
      "------------------------------------------------------------------------------------------------------------------\n"
     ]
    },
    {
     "name": "stdout",
     "output_type": "stream",
     "text": [
      "Epoch 0: train loss : 2.8153942: validation loss : 2.815607"
     ]
    },
    {
     "name": "stdout",
     "output_type": "stream",
     "text": [
      ": test loss :2.8153846\n",
      "Epoch 981: train loss: 0.23531646: validation loss :1.6367011: test loss :1.6119405\n",
      " \n",
      "Metrics: \n",
      "Weighted sensivity: 0.7740301293160912\n",
      "Weighted specificity: 0.9809859380563595\n",
      "Weighted precision: 0.7742666842150276\n",
      "Weighted F-score: 0.7740186867453538\n",
      "Accuracy: 0.7740301293160912\n",
      " \n",
      "------------------------------------------------------------------------------------------------------------------\n",
      "-------------------------------------------------- FOLD: 6 -------------------------------------------------------\n",
      "------------------------------------------------------------------------------------------------------------------"
     ]
    },
    {
     "name": "stdout",
     "output_type": "stream",
     "text": [
      "\n",
      "Epoch 0: train loss : 2.9984481: validation loss : 3.0016487: test loss :3.0004807\n"
     ]
    },
    {
     "name": "stdout",
     "output_type": "stream",
     "text": [
      "Epoch 1000: train loss: 0.24615078: validation loss :1.5899194: test loss :1.6066132\n",
      " \n",
      "Metrics: \n",
      "Weighted sensivity: 0.7871716228830511\n",
      "Weighted specificity: 0.9821818970785583\n",
      "Weighted precision: 0.7874961361473615\n",
      "Weighted F-score: 0.7869363761470544\n",
      "Accuracy: 0.7871716228830511\n",
      " \n",
      "------------------------------------------------------------------------------------------------------------------\n"
     ]
    },
    {
     "name": "stdout",
     "output_type": "stream",
     "text": [
      "-------------------------------------------------- FOLD: 7 -------------------------------------------------------\n",
      "------------------------------------------------------------------------------------------------------------------\n"
     ]
    },
    {
     "name": "stdout",
     "output_type": "stream",
     "text": [
      "Epoch 0: train loss : "
     ]
    },
    {
     "name": "stdout",
     "output_type": "stream",
     "text": [
      "3.1487575: validation loss : 3.1401577: test loss :3.1487763\n",
      "Epoch 1000: train loss: 0.3139937: validation loss :1.6464914: test loss :1.690058\n",
      " \n",
      "Metrics: \n",
      "Weighted sensivity: 0.754601226993865\n",
      "Weighted specificity: 0.9794581725409172\n",
      "Weighted precision: 0.7549735863761057\n",
      "Weighted F-score: 0.7544754500293533\n",
      "Accuracy: 0.754601226993865\n",
      " \n",
      "------------------------------------------------------------------------------------------------------------------\n",
      "-------------------------------------------------- FOLD: 8 -------------------------------------------------------\n",
      "------------------------------------------------------------------------------------------------------------------\n"
     ]
    },
    {
     "name": "stdout",
     "output_type": "stream",
     "text": [
      "Epoch 0: train loss : 2.9038079: validation loss : 2.9082754: test loss :2.90424\n"
     ]
    },
    {
     "name": "stdout",
     "output_type": "stream",
     "text": [
      "Epoch 1000: train loss: 0.22779486: validation loss :1.5706927: test loss :1.5606389\n",
      " \n",
      "Metrics: \n",
      "Weighted sensivity: 0.7911941294196131\n",
      "Weighted specificity: 0.982342427431282\n",
      "Weighted precision: 0.7914810087126577\n",
      "Weighted F-score: 0.7910981435665486\n",
      "Accuracy: 0.7911941294196131\n",
      " \n",
      "------------------------------------------------------------------------------------------------------------------\n",
      "-------------------------------------------------- FOLD: 9 -------------------------------------------------------\n",
      "------------------------------------------------------------------------------------------------------------------\n"
     ]
    },
    {
     "name": "stdout",
     "output_type": "stream",
     "text": [
      "Epoch 0: train loss : 3.0734851: validation loss : 3.0619574: test loss :3.0717957\n"
     ]
    },
    {
     "name": "stdout",
     "output_type": "stream",
     "text": [
      "Epoch 971: train loss: 0.2272297: validation loss :1.637206: test loss :1.5945532\n",
      " \n",
      "Metrics: \n",
      "Weighted sensivity: 0.7805952222073935\n",
      "Weighted specificity: 0.9815370063099738\n",
      "Weighted precision: 0.780722834927478\n",
      "Weighted F-score: 0.7804463058997764\n",
      "Accuracy: 0.7805952222073935\n",
      " \n",
      "------------------------------------------------------------------------------------------------------------------\n",
      "-------------------------------------------------- FOLD: 10 -------------------------------------------------------\n",
      "------------------------------------------------------------------------------------------------------------------"
     ]
    },
    {
     "name": "stdout",
     "output_type": "stream",
     "text": [
      "\n",
      "Epoch 0: train loss : 2.9737651: validation loss : 2.9833624: test loss :2.976871"
     ]
    },
    {
     "name": "stdout",
     "output_type": "stream",
     "text": [
      "\n",
      "Epoch 1000: train loss: 0.25431916: validation loss :1.6826116: test loss :1.6838453\n",
      " \n",
      "Metrics: \n",
      "Weighted sensivity: 0.7700520485786734\n",
      "Weighted specificity: 0.9807189053256544\n",
      "Weighted precision: 0.7702174279098757\n",
      "Weighted F-score: 0.7699224980440188\n",
      "Accuracy: 0.7700520485786734\n"
     ]
    }
   ],
   "source": [
    "#MODELO 14\n",
    "Random.seed!(123);\n",
    "\n",
    "parameters_ann = Dict(\"topology\" => [240,240], \"transferFunctions\" => [sigmoid, relu], \"learningRate\" => 0.01, \"repetitionsTraining\" => 1, \"validationRatio\" => 0.0, \"maxEpochsVal\" => 20);\n",
    "\n",
    "modelCrossValidation(:ANN, parameters_ann, inputs, targets, index)\n",
    "#Tiempo aprox 40 min por fold y f1 aprox 0.77\n",
    "#80 minutos"
   ]
  },
  {
   "cell_type": "code",
   "execution_count": 20,
   "metadata": {},
   "outputs": [
    {
     "name": "stdout",
     "output_type": "stream",
     "text": [
      " \n",
      "------------------------------------------------------------------------------------------------------------------\n",
      "-------------------------------------------------- FOLD: 1 -------------------------------------------------------\n",
      "------------------------------------------------------------------------------------------------------------------\n"
     ]
    },
    {
     "name": "stdout",
     "output_type": "stream",
     "text": [
      "Epoch 0: train loss : 2.7741506: validation loss : 2.7664988: test loss :2.7727861\n"
     ]
    },
    {
     "name": "stdout",
     "output_type": "stream",
     "text": [
      "Epoch 500: train loss: 0.613347: validation loss :1.5743495: test loss :1.5819545\n",
      " \n",
      "Metrics: \n",
      "Weighted sensivity: 0.6755928590460965\n",
      "Weighted specificity: 0.9730210917895278\n",
      "Weighted precision: 0.6755664533848544\n",
      "Weighted F-score: 0.6740940983547469\n",
      "Accuracy: 0.6755928590460965\n",
      " \n",
      "------------------------------------------------------------------------------------------------------------------\n",
      "-------------------------------------------------- FOLD: 2 -------------------------------------------------------"
     ]
    },
    {
     "name": "stdout",
     "output_type": "stream",
     "text": [
      "\n",
      "------------------------------------------------------------------------------------------------------------------\n",
      "Epoch 0: train loss : 2.9436815: validation loss : 2.9439807: test loss :2.943855\n"
     ]
    },
    {
     "name": "stdout",
     "output_type": "stream",
     "text": [
      "Epoch 498: train loss: 0.7572879: validation loss :1.6823831: test loss :1.702472\n",
      " \n",
      "Metrics: \n",
      "Weighted sensivity: 0.638107928047968\n",
      "Weighted specificity: 0.9690011053141935\n",
      "Weighted precision: 0.6381228752450855\n",
      "Weighted F-score: 0.6349005292481651\n",
      "Accuracy: 0.638107928047968\n",
      " \n",
      "------------------------------------------------------------------------------------------------------------------\n",
      "-------------------------------------------------- FOLD: 3 -------------------------------------------------------\n"
     ]
    },
    {
     "name": "stdout",
     "output_type": "stream",
     "text": [
      "------------------------------------------------------------------------------------------------------------------\n",
      "Epoch 0: train loss : 2.9229944: validation loss : 2.929039: test loss :2.9258363\n"
     ]
    },
    {
     "name": "stdout",
     "output_type": "stream",
     "text": [
      "Epoch 559: train loss: 0.5718534: validation loss :1.6045929: test loss :1.6156882\n",
      " \n",
      "Metrics: \n",
      "Weighted sensivity: 0.6764823451032644\n",
      "Weighted specificity: 0.9722851684438222\n",
      "Weighted precision: 0.6764767503414238\n",
      "Weighted F-score: 0.6749562621441373\n",
      "Accuracy: 0.6764823451032644\n",
      " \n",
      "------------------------------------------------------------------------------------------------------------------\n",
      "-------------------------------------------------- FOLD: 4 -------------------------------------------------------\n",
      "------------------------------------------------------------------------------------------------------------------\n"
     ]
    },
    {
     "name": "stdout",
     "output_type": "stream",
     "text": [
      "Epoch 0: train loss : 3.204834: validation loss : 3.2024543: test loss :"
     ]
    },
    {
     "name": "stdout",
     "output_type": "stream",
     "text": [
      "3.2037468\n",
      "Epoch 318: train loss: 1.1943392: validation loss :1.7672249: test loss :1.7976344\n",
      " \n",
      "Metrics: \n",
      "Weighted sensivity: 0.5048634243837442\n",
      "Weighted specificity: 0.957380369209478\n",
      "Weighted precision: 0.5145049810874136\n",
      "Weighted F-score: 0.492633851380582"
     ]
    },
    {
     "name": "stdout",
     "output_type": "stream",
     "text": [
      "\n",
      "Accuracy: 0.5048634243837442\n",
      " \n",
      "------------------------------------------------------------------------------------------------------------------\n",
      "-------------------------------------------------- FOLD: 5 -------------------------------------------------------\n"
     ]
    },
    {
     "name": "stdout",
     "output_type": "stream",
     "text": [
      "------------------------------------------------------------------------------------------------------------------\n",
      "Epoch 0: train loss : 2.802368: validation loss : 2.8020597: test loss :2.8021634\n"
     ]
    },
    {
     "name": "stdout",
     "output_type": "stream",
     "text": [
      "Epoch 311: train loss: 1.1624306: validation loss :1.7783469: test loss :1.760754\n"
     ]
    },
    {
     "name": "stdout",
     "output_type": "stream",
     "text": [
      " \n",
      "Metrics: \n",
      "Weighted sensivity: 0.520863884815358\n",
      "Weighted specificity: 0.9599150704091021\n",
      "Weighted precision: 0.5347918170993313\n",
      "Weighted F-score: 0.5153112293251536\n",
      "Accuracy: 0.520863884815358\n",
      " \n",
      "------------------------------------------------------------------------------------------------------------------\n",
      "-------------------------------------------------- FOLD: 6 -------------------------------------------------------\n",
      "------------------------------------------------------------------------------------------------------------------\n"
     ]
    },
    {
     "name": "stdout",
     "output_type": "stream",
     "text": [
      "Epoch 0: train loss : 3.048882: validation loss : 3.051852: test loss :3.0497994"
     ]
    },
    {
     "name": "stdout",
     "output_type": "stream",
     "text": [
      "\n",
      "Epoch 379: train loss: 1.0498943: validation loss :1.7195176: test loss :1.6889851\n",
      " \n",
      "Metrics: \n",
      "Weighted sensivity: 0.5664755300706761\n",
      "Weighted specificity: 0.9639053789568386\n",
      "Weighted precision: 0.5731902376979819\n",
      "Weighted F-score: 0.5615936488431285\n",
      "Accuracy: 0.5664755300706761\n",
      " "
     ]
    },
    {
     "name": "stdout",
     "output_type": "stream",
     "text": [
      "\n",
      "------------------------------------------------------------------------------------------------------------------\n",
      "-------------------------------------------------- FOLD: 7 -------------------------------------------------------\n",
      "------------------------------------------------------------------------------------------------------------------"
     ]
    },
    {
     "name": "stdout",
     "output_type": "stream",
     "text": [
      "\n",
      "Epoch 0: train loss : 3.1493196: validation loss : 3.1368058: test loss :3.1465895"
     ]
    },
    {
     "name": "stdout",
     "output_type": "stream",
     "text": [
      "\n",
      "Epoch 561: train loss: 0.5268794: validation loss :1.543932: test loss :1.6057187\n",
      " \n",
      "Metrics: \n",
      "Weighted sensivity: 0.686983195518805\n",
      "Weighted specificity: 0.9739355051725326\n",
      "Weighted precision: 0.6877571954251763\n",
      "Weighted F-score: 0.6865800486623918\n",
      "Accuracy: 0.686983195518805\n",
      " \n",
      "------------------------------------------------------------------------------------------------------------------\n"
     ]
    },
    {
     "name": "stdout",
     "output_type": "stream",
     "text": [
      "-------------------------------------------------- FOLD: 8 -------------------------------------------------------\n",
      "------------------------------------------------------------------------------------------------------------------\n"
     ]
    },
    {
     "name": "stdout",
     "output_type": "stream",
     "text": [
      "Epoch 0: train loss : 2.8957772: validation loss : 2.9004066: test loss :2.8954298"
     ]
    },
    {
     "name": "stdout",
     "output_type": "stream",
     "text": [
      "\n",
      "Epoch 441: train loss: 0.63818336: validation loss :1.5731297: test loss :1.573938\n",
      " \n",
      "Metrics: \n",
      "Weighted sensivity: 0.6523015343562375\n",
      "Weighted specificity: 0.9713124722701907\n",
      "Weighted precision: 0.6528320273922893\n",
      "Weighted F-score: 0.6515289489220834\n",
      "Accuracy: 0.6523015343562375"
     ]
    },
    {
     "name": "stdout",
     "output_type": "stream",
     "text": [
      "\n",
      " \n",
      "------------------------------------------------------------------------------------------------------------------\n",
      "-------------------------------------------------- FOLD: 9 -------------------------------------------------------\n",
      "------------------------------------------------------------------------------------------------------------------\n"
     ]
    },
    {
     "name": "stdout",
     "output_type": "stream",
     "text": [
      "Epoch 0: train loss : 3.142763: validation loss : 3.1305902: test loss :3.140469\n"
     ]
    },
    {
     "name": "stdout",
     "output_type": "stream",
     "text": [
      "Epoch 501: train loss: 0.5579525: validation loss :1.5363843: test loss :1.5315648\n",
      " \n",
      "Metrics: \n",
      "Weighted sensivity: 0.6799679701054318\n",
      "Weighted specificity: 0.9729552900497355\n",
      "Weighted precision: 0.6806808562772151\n",
      "Weighted F-score: 0.6795948535875237\n",
      "Accuracy: 0.6799679701054318\n"
     ]
    },
    {
     "name": "stdout",
     "output_type": "stream",
     "text": [
      " \n",
      "------------------------------------------------------------------------------------------------------------------\n",
      "-------------------------------------------------- FOLD: 10 -------------------------------------------------------\n",
      "------------------------------------------------------------------------------------------------------------------"
     ]
    },
    {
     "name": "stdout",
     "output_type": "stream",
     "text": [
      "\n",
      "Epoch 0: train loss : 2.9614203: validation loss : 2.9703329: test loss :2.9625962"
     ]
    },
    {
     "name": "stdout",
     "output_type": "stream",
     "text": [
      "\n",
      "Epoch 450: train loss: 0.66711843: validation loss :1.5730516: test loss :1.5583968\n",
      " \n",
      "Metrics: \n",
      "Weighted sensivity: 0.6388629387428266\n",
      "Weighted specificity: 0.9700914451969515\n",
      "Weighted precision: 0.6379622729140921\n",
      "Weighted F-score: 0.6374319555385995\n",
      "Accuracy: 0.6388629387428266\n"
     ]
    }
   ],
   "source": [
    "#MODELO 15\n",
    "Random.seed!(123);\n",
    "\n",
    "parameters_ann = Dict(\"topology\" => [480,240], \"transferFunctions\" => [sigmoid, relu], \"learningRate\" => 0.01, \"repetitionsTraining\" => 1, \"validationRatio\" => 0.0, \"maxEpochsVal\" => 20);\n",
    "\n",
    "modelCrossValidation(:ANN, parameters_ann, inputs, targets, index)\n",
    "#60 mins"
   ]
  },
  {
   "cell_type": "markdown",
   "metadata": {},
   "source": [
    "### SVM (8 variando los kernel y c)"
   ]
  },
  {
   "cell_type": "markdown",
   "metadata": {},
   "source": [
    "Podemos variar en los modelos el valor de c y el valor del kernel. Para el valor de c, cuanto mayor sea, menos error en el modelo (mas posibilidades de overfitting) y menos margen. Con un c pequeño pocas posibilidades de conseguir overfitting pero mas error. A mayores tenemos los diferentes kernels que podemos usar: ‘linear’, ‘poly’, ‘rbf’, ‘sigmoid’ (lineal, polinomial, rbf y sigmoidal). Para rbf podemos definir la constante gamma, para los modelos polinomiales podemos especificar d(grado)."
   ]
  },
  {
   "cell_type": "code",
   "execution_count": 46,
   "metadata": {},
   "outputs": [
    {
     "name": "stderr",
     "output_type": "stream",
     "text": [
      "WARNING: redefinition of constant SVC. This may fail, cause incorrect answers, or produce other errors.\n",
      "WARNING: redefinition of constant DecisionTreeClassifier. This may fail, cause incorrect answers, or produce other errors.\n",
      "WARNING: redefinition of constant KNeighborsClassifier. This may fail, cause incorrect answers, or produce other errors.\n"
     ]
    },
    {
     "data": {
      "text/plain": [
       "trainClassEnsemble (generic function with 1 method)"
      ]
     },
     "metadata": {},
     "output_type": "display_data"
    }
   ],
   "source": [
    "include(\"functions_finalproject.jl\")"
   ]
  },
  {
   "cell_type": "code",
   "execution_count": 21,
   "metadata": {},
   "outputs": [
    {
     "name": "stdout",
     "output_type": "stream",
     "text": [
      " \n",
      "------------------------------------------------------------------------------------------------------------------\n",
      "-------------------------------------------------- FOLD: 1 -------------------------------------------------------\n",
      "------------------------------------------------------------------------------------------------------------------"
     ]
    },
    {
     "name": "stdout",
     "output_type": "stream",
     "text": [
      "\n",
      " \n",
      "Metrics: \n",
      "Weighted sensivity: 0.8729016786570744\n",
      "Weighted specificity: 0.9848164421482948\n",
      "Weighted precision: 0.9419910225665622\n",
      "Weighted F-score: 0.8916710930525532\n",
      "Accuracy: 0.8729016786570744\n",
      " \n",
      "------------------------------------------------------------------------------------------------------------------\n",
      "-------------------------------------------------- FOLD: 2 -------------------------------------------------------\n",
      "------------------------------------------------------------------------------------------------------------------"
     ]
    },
    {
     "name": "stdout",
     "output_type": "stream",
     "text": [
      "\n",
      " \n",
      "Metrics: \n",
      "Weighted sensivity: 0.8664890073284477\n",
      "Weighted specificity: 0.9840479855116477\n",
      "Weighted precision: 0.9406864641542355\n",
      "Weighted F-score: 0.8867296928547271\n",
      "Accuracy: 0.8664890073284477\n",
      " \n",
      "------------------------------------------------------------------------------------------------------------------\n",
      "-------------------------------------------------- FOLD: 3 -------------------------------------------------------\n",
      "------------------------------------------------------------------------------------------------------------------\n"
     ]
    },
    {
     "name": "stdout",
     "output_type": "stream",
     "text": [
      " \n",
      "Metrics: \n",
      "Weighted sensivity: 0.8723517654896735\n",
      "Weighted specificity: 0.984748473173811\n",
      "Weighted precision: 0.9418725208398115\n",
      "Weighted F-score: 0.8912469961369088\n",
      "Accuracy: 0.8723517654896735\n",
      " \n",
      "------------------------------------------------------------------------------------------------------------------\n",
      "-------------------------------------------------- FOLD: 4 -------------------------------------------------------\n",
      "------------------------------------------------------------------------------------------------------------------\n"
     ]
    },
    {
     "name": "stdout",
     "output_type": "stream",
     "text": [
      " \n",
      "Metrics: \n",
      "Weighted sensivity: 0.870219853431046\n",
      "Weighted specificity: 0.9844937503875698\n",
      "Weighted precision: 0.9414344239990242\n",
      "Weighted F-score: 0.8895904775069067\n",
      "Accuracy: 0.870219853431046\n",
      " \n",
      "------------------------------------------------------------------------------------------------------------------\n",
      "-------------------------------------------------- FOLD: 5 -------------------------------------------------------\n",
      "------------------------------------------------------------------------------------------------------------------\n"
     ]
    },
    {
     "name": "stdout",
     "output_type": "stream",
     "text": [
      " \n",
      "Metrics: \n",
      "Weighted sensivity: 0.8706839088121584\n",
      "Weighted specificity: 0.9845615769362375\n",
      "Weighted precision: 0.9415520491806365\n",
      "Weighted F-score: 0.8900033885121941\n",
      "Accuracy: 0.8706839088121584\n",
      " \n",
      "------------------------------------------------------------------------------------------------------------------\n",
      "-------------------------------------------------- FOLD: 6 -------------------------------------------------------\n",
      "------------------------------------------------------------------------------------------------------------------"
     ]
    },
    {
     "name": "stdout",
     "output_type": "stream",
     "text": [
      "\n",
      " \n",
      "Metrics: \n",
      "Weighted sensivity: 0.8749166555540738\n",
      "Weighted specificity: 0.9850624458043378\n",
      "Weighted precision: 0.942424237309125\n",
      "Weighted F-score: 0.8932042258233944\n",
      "Accuracy: 0.8749166555540738\n",
      " \n",
      "------------------------------------------------------------------------------------------------------------------\n",
      "-------------------------------------------------- FOLD: 7 -------------------------------------------------------\n",
      "------------------------------------------------------------------------------------------------------------------\n"
     ]
    },
    {
     "name": "stdout",
     "output_type": "stream",
     "text": [
      " \n",
      "Metrics: \n",
      "Weighted sensivity: 0.8698319551880501\n",
      "Weighted specificity: 0.9844609413722933\n",
      "Weighted precision: 0.9412409700353652\n",
      "Weighted F-score: 0.8892608844634311\n",
      "Accuracy: 0.8698319551880501\n",
      " \n",
      "------------------------------------------------------------------------------------------------------------------\n",
      "-------------------------------------------------- FOLD: 8 -------------------------------------------------------\n",
      "------------------------------------------------------------------------------------------------------------------"
     ]
    },
    {
     "name": "stdout",
     "output_type": "stream",
     "text": [
      "\n",
      " \n",
      "Metrics: \n",
      "Weighted sensivity: 0.8699132755170114\n",
      "Weighted specificity: 0.9844556565218237\n",
      "Weighted precision: 0.9413693636133009\n",
      "Weighted F-score: 0.8893691648432709\n",
      "Accuracy: 0.8699132755170114\n",
      " \n",
      "------------------------------------------------------------------------------------------------------------------\n",
      "-------------------------------------------------- FOLD: 9 -------------------------------------------------------\n",
      "------------------------------------------------------------------------------------------------------------------\n"
     ]
    },
    {
     "name": "stdout",
     "output_type": "stream",
     "text": [
      " \n",
      "Metrics: \n",
      "Weighted sensivity: 0.8724142533030829\n",
      "Weighted specificity: 0.9847499481013696\n",
      "Weighted precision: 0.9418743750811311\n",
      "Weighted F-score: 0.8913127624037107\n",
      "Accuracy: 0.8724142533030829\n",
      " \n",
      "------------------------------------------------------------------------------------------------------------------\n",
      "-------------------------------------------------- FOLD: 10 -------------------------------------------------------\n",
      "------------------------------------------------------------------------------------------------------------------"
     ]
    },
    {
     "name": "stdout",
     "output_type": "stream",
     "text": [
      "\n",
      " \n",
      "Metrics: \n",
      "Weighted sensivity: 0.8704123848925664\n",
      "Weighted specificity: 0.9845106690443827\n",
      "Weighted precision: 0.9414623985963033\n",
      "Weighted F-score: 0.8897184777509336\n",
      "Accuracy: 0.8704123848925664\n"
     ]
    }
   ],
   "source": [
    "## MODELO 1\n",
    "# Using random seed so we can repeat the results\n",
    "\n",
    "parameters_svm = Dict(\"kernel\" => \"rbf\", \"kernelDegree\" => 3, \"kernelGamma\" => 3, \"C\" => 1); #kernel = ‘linear’, ‘poly’, ‘rbf’, ‘sigmoid’, ‘precomputed’\n",
    "#el degree no es necesario (estamos en el caso de rbf, por como esta definida la funcion es necesario implementarlo pero no se usa)\n",
    "\n",
    "modelos = modelCrossValidation(:SVM, parameters_svm, inputs, targets, index)\n",
    "\n",
    "# 120 mins"
   ]
  },
  {
   "cell_type": "code",
   "execution_count": 22,
   "metadata": {},
   "outputs": [
    {
     "name": "stdout",
     "output_type": "stream",
     "text": [
      " \n",
      "------------------------------------------------------------------------------------------------------------------\n",
      "-------------------------------------------------- FOLD: 1 -------------------------------------------------------\n",
      "------------------------------------------------------------------------------------------------------------------"
     ]
    },
    {
     "name": "stdout",
     "output_type": "stream",
     "text": [
      "\n",
      " \n",
      "Metrics: \n",
      "Weighted sensivity: 0.1442845723421263\n",
      "Weighted specificity: 0.9102216099807331\n",
      "Weighted precision: 0.1249435056249624\n",
      "Weighted F-score: 0.1120755549013811\n",
      "Accuracy: 0.1442845723421263\n",
      " \n",
      "------------------------------------------------------------------------------------------------------------------\n",
      "-------------------------------------------------- FOLD: 2 -------------------------------------------------------\n",
      "------------------------------------------------------------------------------------------------------------------"
     ]
    },
    {
     "name": "stdout",
     "output_type": "stream",
     "text": [
      "\n",
      " \n",
      "Metrics: \n",
      "Weighted sensivity: 0.14177215189873418\n",
      "Weighted specificity: 0.9092524752928748\n",
      "Weighted precision: 0.1419609328901455\n",
      "Weighted F-score: 0.10982488634047972\n",
      "Accuracy: 0.14177215189873418\n",
      " \n",
      "------------------------------------------------------------------------------------------------------------------\n",
      "-------------------------------------------------- FOLD: 3 -------------------------------------------------------\n",
      "------------------------------------------------------------------------------------------------------------------"
     ]
    },
    {
     "name": "stdout",
     "output_type": "stream",
     "text": [
      "\n",
      " \n",
      "Metrics: \n",
      "Weighted sensivity: 0.14763491005996002\n",
      "Weighted specificity: 0.9102128115436275\n",
      "Weighted precision: 0.14494801588368555\n",
      "Weighted F-score: 0.11361445340258434\n",
      "Accuracy: 0.14763491005996002\n",
      " \n",
      "------------------------------------------------------------------------------------------------------------------\n",
      "-------------------------------------------------- FOLD: 4 -------------------------------------------------------\n",
      "------------------------------------------------------------------------------------------------------------------"
     ]
    },
    {
     "name": "stdout",
     "output_type": "stream",
     "text": [
      "\n",
      " \n",
      "Metrics: \n",
      "Weighted sensivity: 0.14510326449033978\n",
      "Weighted specificity: 0.9099824302414754\n",
      "Weighted precision: 0.1442444742346456\n",
      "Weighted F-score: 0.11304019100320413\n",
      "Accuracy: 0.14510326449033978\n",
      " \n",
      "------------------------------------------------------------------------------------------------------------------\n",
      "-------------------------------------------------- FOLD: 5 -------------------------------------------------------\n",
      "------------------------------------------------------------------------------------------------------------------"
     ]
    },
    {
     "name": "stdout",
     "output_type": "stream",
     "text": [
      "\n",
      " \n",
      "Metrics: \n",
      "Weighted sensivity: 0.14731369150779897\n",
      "Weighted specificity: 0.9098880040803649\n",
      "Weighted precision: 0.15031423433566915\n",
      "Weighted F-score: 0.11325501775403882\n",
      "Accuracy: 0.14731369150779897\n",
      " \n",
      "------------------------------------------------------------------------------------------------------------------\n",
      "-------------------------------------------------- FOLD: 6 -------------------------------------------------------"
     ]
    },
    {
     "name": "stdout",
     "output_type": "stream",
     "text": [
      "\n",
      "------------------------------------------------------------------------------------------------------------------\n",
      " \n",
      "Metrics: \n",
      "Weighted sensivity: 0.14588611814908656\n",
      "Weighted specificity: 0.909855613848602\n",
      "Weighted precision: 0.13707239370748248\n",
      "Weighted F-score: 0.11230341693540379\n",
      "Accuracy: 0.14588611814908656\n",
      " \n",
      "------------------------------------------------------------------------------------------------------------------\n",
      "-------------------------------------------------- FOLD: 7 -------------------------------------------------------\n",
      "------------------------------------------------------------------------------------------------------------------"
     ]
    },
    {
     "name": "stdout",
     "output_type": "stream",
     "text": [
      "\n",
      " \n",
      "Metrics: \n",
      "Weighted sensivity: 0.14830621499066418\n",
      "Weighted specificity: 0.910620146513524\n",
      "Weighted precision: 0.1519406901627787\n",
      "Weighted F-score: 0.11508267154798094\n",
      "Accuracy: 0.14830621499066418\n",
      " \n",
      "------------------------------------------------------------------------------------------------------------------\n",
      "-------------------------------------------------- FOLD: 8 -------------------------------------------------------\n",
      "------------------------------------------------------------------------------------------------------------------"
     ]
    },
    {
     "name": "stdout",
     "output_type": "stream",
     "text": [
      "\n",
      " \n",
      "Metrics: \n",
      "Weighted sensivity: 0.14876584389593062\n",
      "Weighted specificity: 0.9100546821431275\n",
      "Weighted precision: 0.14167620061282585\n",
      "Weighted F-score: 0.11454894434938864\n",
      "Accuracy: 0.14876584389593062\n",
      " \n",
      "------------------------------------------------------------------------------------------------------------------\n",
      "-------------------------------------------------- FOLD: 9 -------------------------------------------------------\n",
      "------------------------------------------------------------------------------------------------------------------"
     ]
    },
    {
     "name": "stdout",
     "output_type": "stream",
     "text": [
      "\n",
      " \n",
      "Metrics: \n",
      "Weighted sensivity: 0.1474709729080475\n",
      "Weighted specificity: 0.9102773103556929\n",
      "Weighted precision: 0.13171880520875373\n",
      "Weighted F-score: 0.11472489917720095\n",
      "Accuracy: 0.1474709729080475\n",
      " \n",
      "------------------------------------------------------------------------------------------------------------------\n",
      "-------------------------------------------------- FOLD: 10 -------------------------------------------------------\n",
      "------------------------------------------------------------------------------------------------------------------\n"
     ]
    },
    {
     "name": "stdout",
     "output_type": "stream",
     "text": [
      " \n",
      "Metrics: \n",
      "Weighted sensivity: 0.1453356466034966\n",
      "Weighted specificity: 0.9098056885919226\n",
      "Weighted precision: 0.15995918859660166\n",
      "Weighted F-score: 0.11054620318188257\n",
      "Accuracy: 0.1453356466034966\n"
     ]
    }
   ],
   "source": [
    "## MODELO 2\n",
    "\n",
    "parameters_svm = Dict(\"kernel\" => \"linear\", \"kernelDegree\" => 3, \"kernelGamma\" => 2, \"C\" => 1); #kernel = ‘linear’, ‘poly’, ‘rbf’, ‘sigmoid’, ‘precomputed’\n",
    "\n",
    "modelCrossValidation(:SVM, parameters_svm, inputs, targets, index)\n",
    "\n",
    "#F score 0.1186 con un tiempo de 26 minutos (ordenador de la facultad).\n",
    "#240 mins"
   ]
  },
  {
   "cell_type": "code",
   "execution_count": 23,
   "metadata": {},
   "outputs": [
    {
     "name": "stdout",
     "output_type": "stream",
     "text": [
      " \n",
      "------------------------------------------------------------------------------------------------------------------\n",
      "-------------------------------------------------- FOLD: 1 -------------------------------------------------------\n",
      "------------------------------------------------------------------------------------------------------------------\n"
     ]
    },
    {
     "name": "stdout",
     "output_type": "stream",
     "text": [
      " \n",
      "Metrics: \n",
      "Weighted sensivity: 0.882494004796163\n",
      "Weighted specificity: 0.9909122575007262\n",
      "Weighted precision: 0.8834278797602308\n",
      "Weighted F-score: 0.8827336958491014\n",
      "Accuracy: 0.882494004796163\n",
      " \n",
      "------------------------------------------------------------------------------------------------------------------\n",
      "-------------------------------------------------- FOLD: 2 -------------------------------------------------------\n",
      "------------------------------------------------------------------------------------------------------------------\n"
     ]
    },
    {
     "name": "stdout",
     "output_type": "stream",
     "text": [
      " \n",
      "Metrics: \n",
      "Weighted sensivity: 0.8766155896069288\n",
      "Weighted specificity: 0.9903980154666786\n",
      "Weighted precision: 0.8771918862927285\n",
      "Weighted F-score: 0.8767560484000453\n",
      "Accuracy: 0.8766155896069288\n",
      " \n",
      "------------------------------------------------------------------------------------------------------------------\n",
      "-------------------------------------------------- FOLD: 3 -------------------------------------------------------\n",
      "------------------------------------------------------------------------------------------------------------------\n"
     ]
    },
    {
     "name": "stdout",
     "output_type": "stream",
     "text": [
      " \n",
      "Metrics: \n",
      "Weighted sensivity: 0.880346435709527\n",
      "Weighted specificity: 0.9906698949460095\n",
      "Weighted precision: 0.8812734515463984\n",
      "Weighted F-score: 0.8805205935567245\n",
      "Accuracy: 0.880346435709527\n",
      " \n",
      "------------------------------------------------------------------------------------------------------------------\n",
      "-------------------------------------------------- FOLD: 4 -------------------------------------------------------\n",
      "------------------------------------------------------------------------------------------------------------------"
     ]
    },
    {
     "name": "stdout",
     "output_type": "stream",
     "text": [
      "\n",
      " \n",
      "Metrics: \n",
      "Weighted sensivity: 0.8822118587608261\n",
      "Weighted specificity: 0.9908410381048113\n",
      "Weighted precision: 0.8831975149643414\n",
      "Weighted F-score: 0.8824026285442498\n",
      "Accuracy: 0.8822118587608261\n",
      " \n",
      "------------------------------------------------------------------------------------------------------------------\n",
      "-------------------------------------------------- FOLD: 5 -------------------------------------------------------\n",
      "------------------------------------------------------------------------------------------------------------------\n"
     ]
    },
    {
     "name": "stdout",
     "output_type": "stream",
     "text": [
      " \n",
      "Metrics: \n",
      "Weighted sensivity: 0.8805492600986535\n",
      "Weighted specificity: 0.9906903562568905\n",
      "Weighted precision: 0.8814163842156502\n",
      "Weighted F-score: 0.8807098224095976\n",
      "Accuracy: 0.8805492600986535\n",
      " \n",
      "------------------------------------------------------------------------------------------------------------------\n",
      "-------------------------------------------------- FOLD: 6 -------------------------------------------------------\n",
      "------------------------------------------------------------------------------------------------------------------\n"
     ]
    },
    {
     "name": "stdout",
     "output_type": "stream",
     "text": [
      " \n",
      "Metrics: \n",
      "Weighted sensivity: 0.8854513935191359\n",
      "Weighted specificity: 0.9912325827680257\n",
      "Weighted precision: 0.8863127107524214\n",
      "Weighted F-score: 0.8856047519173621\n",
      "Accuracy: 0.8854513935191359\n",
      " \n",
      "------------------------------------------------------------------------------------------------------------------\n",
      "-------------------------------------------------- FOLD: 7 -------------------------------------------------------\n",
      "------------------------------------------------------------------------------------------------------------------\n"
     ]
    },
    {
     "name": "stdout",
     "output_type": "stream",
     "text": [
      " \n",
      "Metrics: \n",
      "Weighted sensivity: 0.8782341957855428\n",
      "Weighted specificity: 0.9904783079341903\n",
      "Weighted precision: 0.879004667079406\n",
      "Weighted F-score: 0.8783930579119921\n",
      "Accuracy: 0.8782341957855428\n",
      " \n",
      "------------------------------------------------------------------------------------------------------------------\n",
      "-------------------------------------------------- FOLD: 8 -------------------------------------------------------\n",
      "------------------------------------------------------------------------------------------------------------------\n"
     ]
    },
    {
     "name": "stdout",
     "output_type": "stream",
     "text": [
      " \n",
      "Metrics: \n",
      "Weighted sensivity: 0.8811207471647765\n",
      "Weighted specificity: 0.9905230278909479\n",
      "Weighted precision: 0.8817090949186345\n",
      "Weighted F-score: 0.8811920058962098\n",
      "Accuracy: 0.8811207471647765\n",
      " \n",
      "------------------------------------------------------------------------------------------------------------------\n",
      "-------------------------------------------------- FOLD: 9 -------------------------------------------------------\n",
      "------------------------------------------------------------------------------------------------------------------\n"
     ]
    },
    {
     "name": "stdout",
     "output_type": "stream",
     "text": [
      " \n",
      "Metrics: \n",
      "Weighted sensivity: 0.8812224743093554\n",
      "Weighted specificity: 0.9908584083579074\n",
      "Weighted precision: 0.8824194741129695\n",
      "Weighted F-score: 0.881452561389283\n",
      "Accuracy: 0.8812224743093554\n",
      " \n",
      "------------------------------------------------------------------------------------------------------------------\n",
      "-------------------------------------------------- FOLD: 10 -------------------------------------------------------\n",
      "------------------------------------------------------------------------------------------------------------------"
     ]
    },
    {
     "name": "stdout",
     "output_type": "stream",
     "text": [
      "\n",
      " \n",
      "Metrics: \n",
      "Weighted sensivity: 0.8805551848391833\n",
      "Weighted specificity: 0.9905728624615223\n",
      "Weighted precision: 0.8810065460237475\n",
      "Weighted F-score: 0.8806501660594649\n",
      "Accuracy: 0.8805551848391833\n"
     ]
    }
   ],
   "source": [
    "## MODELO 3\n",
    "\n",
    "parameters_svm = Dict(\"kernel\" => \"poly\", \"kernelDegree\" => 3, \"kernelGamma\" => 2, \"C\" => 1); #kernel = ‘linear’, ‘poly’, ‘rbf’, ‘sigmoid’, ‘precomputed’\n",
    "\n",
    "modelCrossValidation(:SVM, parameters_svm, inputs, targets, index)\n",
    "\n",
    "#F score: 0.8751 con un tiempo de 6 mins y medio (ordenador de la facultad)\n",
    "#50 mins"
   ]
  },
  {
   "cell_type": "code",
   "execution_count": 24,
   "metadata": {},
   "outputs": [
    {
     "name": "stdout",
     "output_type": "stream",
     "text": [
      " \n",
      "------------------------------------------------------------------------------------------------------------------\n",
      "-------------------------------------------------- FOLD: 1 -------------------------------------------------------\n",
      "------------------------------------------------------------------------------------------------------------------\n"
     ]
    },
    {
     "name": "stdout",
     "output_type": "stream",
     "text": [
      " \n",
      "Metrics: \n",
      "Weighted sensivity: 0.05928590460964562\n",
      "Weighted specificity: 0.9372000630645403\n",
      "Weighted precision: 0.07084776404199862\n",
      "Weighted F-score: 0.05542280825044737\n",
      "Accuracy: 0.05928590460964562\n",
      " \n",
      "------------------------------------------------------------------------------------------------------------------\n",
      "-------------------------------------------------- FOLD: 2 -------------------------------------------------------\n",
      "------------------------------------------------------------------------------------------------------------------"
     ]
    },
    {
     "name": "stdout",
     "output_type": "stream",
     "text": [
      "\n",
      " \n",
      "Metrics: \n",
      "Weighted sensivity: 0.07634910059960026\n",
      "Weighted specificity: 0.9164322308040319\n",
      "Weighted precision: 0.0663186977961422\n",
      "Weighted F-score: 0.0534425627981639\n",
      "Accuracy: 0.07634910059960026\n",
      " \n",
      "------------------------------------------------------------------------------------------------------------------\n",
      "-------------------------------------------------- FOLD: 3 -------------------------------------------------------\n",
      "------------------------------------------------------------------------------------------------------------------\n"
     ]
    },
    {
     "name": "stdout",
     "output_type": "stream",
     "text": [
      " \n",
      "Metrics: \n",
      "Weighted sensivity: 0.059427048634243834\n",
      "Weighted specificity: 0.9341787211049489\n",
      "Weighted precision: 0.06319272579358967\n",
      "Weighted F-score: 0.050066170906302915\n",
      "Accuracy: 0.059427048634243834\n",
      " \n",
      "------------------------------------------------------------------------------------------------------------------\n",
      "-------------------------------------------------- FOLD: 4 -------------------------------------------------------\n",
      "------------------------------------------------------------------------------------------------------------------"
     ]
    },
    {
     "name": "stdout",
     "output_type": "stream",
     "text": [
      "\n",
      " \n",
      "Metrics: \n",
      "Weighted sensivity: 0.07861425716189208\n",
      "Weighted specificity: 0.9172731568248979\n",
      "Weighted precision: 0.07374381873096658\n",
      "Weighted F-score: 0.058658952472247776\n",
      "Accuracy: 0.07861425716189208\n",
      " \n",
      "------------------------------------------------------------------------------------------------------------------\n",
      "-------------------------------------------------- FOLD: 5 -------------------------------------------------------\n",
      "------------------------------------------------------------------------------------------------------------------\n"
     ]
    },
    {
     "name": "stdout",
     "output_type": "stream",
     "text": [
      " \n",
      "Metrics: \n",
      "Weighted sensivity: 0.07345687241701107\n",
      "Weighted specificity: 0.9192143688061657\n",
      "Weighted precision: 0.06764375628046006\n",
      "Weighted F-score: 0.06025102616141777\n",
      "Accuracy: 0.07345687241701107\n",
      " \n",
      "------------------------------------------------------------------------------------------------------------------\n",
      "-------------------------------------------------- FOLD: 6 -------------------------------------------------------\n",
      "------------------------------------------------------------------------------------------------------------------"
     ]
    },
    {
     "name": "stdout",
     "output_type": "stream",
     "text": [
      "\n",
      " \n",
      "Metrics: \n",
      "Weighted sensivity: 0.0661421522869716\n",
      "Weighted specificity: 0.926445438642701\n",
      "Weighted precision: 0.062192697335912935\n",
      "Weighted F-score: 0.05520289530201882\n",
      "Accuracy: 0.0661421522869716\n",
      " \n",
      "------------------------------------------------------------------------------------------------------------------\n",
      "-------------------------------------------------- FOLD: 7 -------------------------------------------------------\n",
      "------------------------------------------------------------------------------------------------------------------\n"
     ]
    },
    {
     "name": "stdout",
     "output_type": "stream",
     "text": [
      " \n",
      "Metrics: \n",
      "Weighted sensivity: 0.06815150706855161\n",
      "Weighted specificity: 0.9214589850182562\n",
      "Weighted precision: 0.06042698348961943\n",
      "Weighted F-score: 0.05517711042627082\n",
      "Accuracy: 0.06815150706855161\n",
      " \n",
      "------------------------------------------------------------------------------------------------------------------\n",
      "-------------------------------------------------- FOLD: 8 -------------------------------------------------------\n",
      "------------------------------------------------------------------------------------------------------------------"
     ]
    },
    {
     "name": "stdout",
     "output_type": "stream",
     "text": [
      "\n",
      " \n",
      "Metrics: \n",
      "Weighted sensivity: 0.06270847231487658\n",
      "Weighted specificity: 0.9295324112026946\n",
      "Weighted precision: 0.07125903745757214\n",
      "Weighted F-score: 0.051816957537170825\n",
      "Accuracy: 0.06270847231487658\n",
      " \n",
      "------------------------------------------------------------------------------------------------------------------\n",
      "-------------------------------------------------- FOLD: 9 -------------------------------------------------------\n",
      "------------------------------------------------------------------------------------------------------------------"
     ]
    },
    {
     "name": "stdout",
     "output_type": "stream",
     "text": [
      "\n",
      " \n",
      "Metrics: \n",
      "Weighted sensivity: 0.07607099959962632\n",
      "Weighted specificity: 0.9186652587332357\n",
      "Weighted precision: 0.07437003186971529\n",
      "Weighted F-score: 0.06300726305424433\n",
      "Accuracy: 0.07607099959962632\n",
      " \n",
      "------------------------------------------------------------------------------------------------------------------\n",
      "-------------------------------------------------- FOLD: 10 -------------------------------------------------------\n",
      "------------------------------------------------------------------------------------------------------------------\n"
     ]
    },
    {
     "name": "stdout",
     "output_type": "stream",
     "text": [
      " \n",
      "Metrics: \n",
      "Weighted sensivity: 0.07553716802348859\n",
      "Weighted specificity: 0.9183097761281119\n",
      "Weighted precision: 0.06205765774760082\n",
      "Weighted F-score: 0.053033397392110784\n",
      "Accuracy: 0.07553716802348859\n"
     ]
    }
   ],
   "source": [
    "## MODELO 4\n",
    "\n",
    "parameters_svm = Dict(\"kernel\" => \"sigmoid\", \"kernelDegree\" => 3, \"kernelGamma\" => 2, \"C\" => 1); #kernel = ‘linear’, ‘poly’, ‘rbf’, ‘sigmoid’\n",
    "\n",
    "modelCrossValidation(:SVM, parameters_svm, inputs, targets, index)\n",
    "\n",
    "# 50 mins"
   ]
  },
  {
   "cell_type": "markdown",
   "metadata": {},
   "source": [
    "Viendo los cuatro modelos en principio los dos mejores modelos son los modelos lineales y los modelos polinomicos. "
   ]
  },
  {
   "cell_type": "code",
   "execution_count": 25,
   "metadata": {},
   "outputs": [
    {
     "name": "stdout",
     "output_type": "stream",
     "text": [
      " \n",
      "------------------------------------------------------------------------------------------------------------------\n",
      "-------------------------------------------------- FOLD: 1 -------------------------------------------------------\n",
      "------------------------------------------------------------------------------------------------------------------\n"
     ]
    },
    {
     "name": "stdout",
     "output_type": "stream",
     "text": [
      " \n",
      "Metrics: \n",
      "Weighted sensivity: 0.8788968824940048\n",
      "Weighted specificity: 0.9907061536602586\n",
      "Weighted precision: 0.8802283105864558\n",
      "Weighted F-score: 0.879172113921474\n",
      "Accuracy: 0.8788968824940048\n",
      " \n",
      "------------------------------------------------------------------------------------------------------------------\n",
      "-------------------------------------------------- FOLD: 2 -------------------------------------------------------\n",
      "------------------------------------------------------------------------------------------------------------------\n"
     ]
    },
    {
     "name": "stdout",
     "output_type": "stream",
     "text": [
      " \n",
      "Metrics: \n",
      "Weighted sensivity: 0.8735509660226516\n",
      "Weighted specificity: 0.9900839872184669\n",
      "Weighted precision: 0.8742828482064109\n",
      "Weighted F-score: 0.8736859062255431\n",
      "Accuracy: 0.8735509660226516\n",
      " \n",
      "------------------------------------------------------------------------------------------------------------------\n",
      "-------------------------------------------------- FOLD: 3 -------------------------------------------------------\n",
      "------------------------------------------------------------------------------------------------------------------"
     ]
    },
    {
     "name": "stdout",
     "output_type": "stream",
     "text": [
      "\n",
      " \n",
      "Metrics: \n",
      "Weighted sensivity: 0.8752831445702864\n",
      "Weighted specificity: 0.9905194924779043\n",
      "Weighted precision: 0.8769355314651195\n",
      "Weighted F-score: 0.8756028356564006\n",
      "Accuracy: 0.8752831445702864\n",
      " \n",
      "------------------------------------------------------------------------------------------------------------------\n",
      "-------------------------------------------------- FOLD: 4 -------------------------------------------------------\n",
      "------------------------------------------------------------------------------------------------------------------\n"
     ]
    },
    {
     "name": "stdout",
     "output_type": "stream",
     "text": [
      " \n",
      "Metrics: \n",
      "Weighted sensivity: 0.8760826115922719\n",
      "Weighted specificity: 0.9905344822702027\n",
      "Weighted precision: 0.8773817712211317\n",
      "Weighted F-score: 0.8763352871397184\n",
      "Accuracy: 0.8760826115922719\n",
      " \n",
      "------------------------------------------------------------------------------------------------------------------\n",
      "-------------------------------------------------- FOLD: 5 -------------------------------------------------------\n",
      "------------------------------------------------------------------------------------------------------------------"
     ]
    },
    {
     "name": "stdout",
     "output_type": "stream",
     "text": [
      "\n",
      " \n",
      "Metrics: \n",
      "Weighted sensivity: 0.8757499000133315\n",
      "Weighted specificity: 0.9905387673918288\n",
      "Weighted precision: 0.8770319428668202\n",
      "Weighted F-score: 0.8759968381246163\n",
      "Accuracy: 0.8757499000133315\n",
      " \n",
      "------------------------------------------------------------------------------------------------------------------\n",
      "-------------------------------------------------- FOLD: 6 -------------------------------------------------------\n",
      "------------------------------------------------------------------------------------------------------------------\n"
     ]
    },
    {
     "name": "stdout",
     "output_type": "stream",
     "text": [
      " \n",
      "Metrics: \n",
      "Weighted sensivity: 0.8822509667955727\n",
      "Weighted specificity: 0.9908507519046936\n",
      "Weighted precision: 0.8832342430611615\n",
      "Weighted F-score: 0.8824314161577654\n",
      "Accuracy: 0.8822509667955727\n",
      " \n",
      "------------------------------------------------------------------------------------------------------------------\n",
      "-------------------------------------------------- FOLD: 7 -------------------------------------------------------\n",
      "------------------------------------------------------------------------------------------------------------------\n"
     ]
    },
    {
     "name": "stdout",
     "output_type": "stream",
     "text": [
      " \n",
      "Metrics: \n",
      "Weighted sensivity: 0.875433448919712\n",
      "Weighted specificity: 0.9904916639938526\n",
      "Weighted precision: 0.8766010109916449\n",
      "Weighted F-score: 0.8757023203420627\n",
      "Accuracy: 0.875433448919712\n",
      " \n",
      "------------------------------------------------------------------------------------------------------------------\n",
      "-------------------------------------------------- FOLD: 8 -------------------------------------------------------\n",
      "------------------------------------------------------------------------------------------------------------------"
     ]
    },
    {
     "name": "stdout",
     "output_type": "stream",
     "text": [
      "\n",
      " \n",
      "Metrics: \n",
      "Weighted sensivity: 0.8747164776517679\n",
      "Weighted specificity: 0.990463671866838\n",
      "Weighted precision: 0.8757479029284196\n",
      "Weighted F-score: 0.874897761017342\n",
      "Accuracy: 0.8747164776517679\n",
      " \n",
      "------------------------------------------------------------------------------------------------------------------\n",
      "-------------------------------------------------- FOLD: 9 -------------------------------------------------------\n",
      "------------------------------------------------------------------------------------------------------------------"
     ]
    },
    {
     "name": "stdout",
     "output_type": "stream",
     "text": [
      "\n",
      " \n",
      "Metrics: \n",
      "Weighted sensivity: 0.878019484852529\n",
      "Weighted specificity: 0.9909207035724105\n",
      "Weighted precision: 0.8799780854179241\n",
      "Weighted F-score: 0.8784380881406517\n",
      "Accuracy: 0.878019484852529\n",
      " \n",
      "------------------------------------------------------------------------------------------------------------------\n",
      "-------------------------------------------------- FOLD: 10 -------------------------------------------------------\n",
      "------------------------------------------------------------------------------------------------------------------\n"
     ]
    },
    {
     "name": "stdout",
     "output_type": "stream",
     "text": [
      " \n",
      "Metrics: \n",
      "Weighted sensivity: 0.8750834111837715\n",
      "Weighted specificity: 0.9903877010600355\n",
      "Weighted precision: 0.8760496307540987\n",
      "Weighted F-score: 0.8753156460378168\n",
      "Accuracy: 0.8750834111837715\n"
     ]
    }
   ],
   "source": [
    "## MODELO 5\n",
    "\n",
    "parameters_svm = Dict(\"kernel\" => \"poly\", \"kernelDegree\" => 2, \"kernelGamma\" => 2, \"C\" => 1); #kernel = ‘linear’, ‘poly’, ‘rbf’, ‘sigmoid’\n",
    "\n",
    "modelCrossValidation(:SVM, parameters_svm, inputs, targets, index)\n",
    "\n",
    "# 290 mins"
   ]
  },
  {
   "cell_type": "code",
   "execution_count": 26,
   "metadata": {},
   "outputs": [
    {
     "name": "stdout",
     "output_type": "stream",
     "text": [
      " \n",
      "------------------------------------------------------------------------------------------------------------------\n",
      "-------------------------------------------------- FOLD: 1 -------------------------------------------------------\n",
      "------------------------------------------------------------------------------------------------------------------\n"
     ]
    },
    {
     "name": "stdout",
     "output_type": "stream",
     "text": [
      " \n",
      "Metrics: \n",
      "Weighted sensivity: 0.8820943245403677\n",
      "Weighted specificity: 0.9904004414593562\n",
      "Weighted precision: 0.8831823368851116\n",
      "Weighted F-score: 0.8823250577336336\n",
      "Accuracy: 0.8820943245403677\n"
     ]
    },
    {
     "name": "stdout",
     "output_type": "stream",
     "text": [
      " \n",
      "------------------------------------------------------------------------------------------------------------------\n",
      "-------------------------------------------------- FOLD: 2 -------------------------------------------------------\n",
      "------------------------------------------------------------------------------------------------------------------\n"
     ]
    },
    {
     "name": "stdout",
     "output_type": "stream",
     "text": [
      " \n",
      "Metrics: \n",
      "Weighted sensivity: 0.8782145236508994\n",
      "Weighted specificity: 0.9898321355597499\n",
      "Weighted precision: 0.8794604447885341\n",
      "Weighted F-score: 0.8784560619311305\n",
      "Accuracy: 0.8782145236508994\n",
      " \n",
      "------------------------------------------------------------------------------------------------------------------\n",
      "-------------------------------------------------- FOLD: 3 -------------------------------------------------------\n",
      "------------------------------------------------------------------------------------------------------------------"
     ]
    },
    {
     "name": "stdout",
     "output_type": "stream",
     "text": [
      "\n",
      " \n",
      "Metrics: \n",
      "Weighted sensivity: 0.880346435709527\n",
      "Weighted specificity: 0.9901382508578108\n",
      "Weighted precision: 0.8814126427089286\n",
      "Weighted F-score: 0.8805341617998661\n",
      "Accuracy: 0.880346435709527\n",
      " \n",
      "------------------------------------------------------------------------------------------------------------------\n",
      "-------------------------------------------------- FOLD: 4 -------------------------------------------------------\n",
      "------------------------------------------------------------------------------------------------------------------"
     ]
    },
    {
     "name": "stdout",
     "output_type": "stream",
     "text": [
      "\n",
      " \n",
      "Metrics: \n",
      "Weighted sensivity: 0.8814123917388408\n",
      "Weighted specificity: 0.9904577909905121\n",
      "Weighted precision: 0.8827222465018434\n",
      "Weighted F-score: 0.8816766552085764\n",
      "Accuracy: 0.8814123917388408\n",
      " \n",
      "------------------------------------------------------------------------------------------------------------------\n",
      "-------------------------------------------------- FOLD: 5 -------------------------------------------------------\n",
      "------------------------------------------------------------------------------------------------------------------"
     ]
    },
    {
     "name": "stdout",
     "output_type": "stream",
     "text": [
      "\n",
      " \n",
      "Metrics: \n",
      "Weighted sensivity: 0.8825489934675377\n",
      "Weighted specificity: 0.9903365297748528\n",
      "Weighted precision: 0.8834858233198084\n",
      "Weighted F-score: 0.8826989314856528\n",
      "Accuracy: 0.8825489934675377\n",
      " \n",
      "------------------------------------------------------------------------------------------------------------------\n",
      "-------------------------------------------------- FOLD: 6 -------------------------------------------------------\n",
      "------------------------------------------------------------------------------------------------------------------\n"
     ]
    },
    {
     "name": "stdout",
     "output_type": "stream",
     "text": [
      " \n",
      "Metrics: \n",
      "Weighted sensivity: 0.8850513401786905\n",
      "Weighted specificity: 0.9905293819661803\n",
      "Weighted precision: 0.8856318307753684\n",
      "Weighted F-score: 0.885059373847867\n",
      "Accuracy: 0.8850513401786905\n",
      " \n",
      "------------------------------------------------------------------------------------------------------------------\n",
      "-------------------------------------------------- FOLD: 7 -------------------------------------------------------\n",
      "------------------------------------------------------------------------------------------------------------------\n"
     ]
    },
    {
     "name": "stdout",
     "output_type": "stream",
     "text": [
      " \n",
      "Metrics: \n",
      "Weighted sensivity: 0.87810082688717\n",
      "Weighted specificity: 0.989999537612609\n",
      "Weighted precision: 0.8794252230873001\n",
      "Weighted F-score: 0.8782976048008487\n",
      "Accuracy: 0.87810082688717\n",
      " \n",
      "------------------------------------------------------------------------------------------------------------------\n",
      "-------------------------------------------------- FOLD: 8 -------------------------------------------------------\n",
      "------------------------------------------------------------------------------------------------------------------\n"
     ]
    },
    {
     "name": "stdout",
     "output_type": "stream",
     "text": [
      " \n",
      "Metrics: \n",
      "Weighted sensivity: 0.8799199466310874\n",
      "Weighted specificity: 0.9900413753206112\n",
      "Weighted precision: 0.8806810889051853\n",
      "Weighted F-score: 0.8800686563545854\n",
      "Accuracy: 0.8799199466310874\n",
      " \n",
      "------------------------------------------------------------------------------------------------------------------\n",
      "-------------------------------------------------- FOLD: 9 -------------------------------------------------------\n",
      "------------------------------------------------------------------------------------------------------------------\n"
     ]
    },
    {
     "name": "stdout",
     "output_type": "stream",
     "text": [
      " \n",
      "Metrics: \n",
      "Weighted sensivity: 0.8824235953556653\n",
      "Weighted specificity: 0.9905603136633951\n",
      "Weighted precision: 0.8834915411358897\n",
      "Weighted F-score: 0.8826350057521839\n",
      "Accuracy: 0.8824235953556653\n",
      " \n",
      "------------------------------------------------------------------------------------------------------------------\n",
      "-------------------------------------------------- FOLD: 10 -------------------------------------------------------\n",
      "------------------------------------------------------------------------------------------------------------------\n"
     ]
    },
    {
     "name": "stdout",
     "output_type": "stream",
     "text": [
      " \n",
      "Metrics: \n",
      "Weighted sensivity: 0.8821566795675965\n",
      "Weighted specificity: 0.9902059708963173\n",
      "Weighted precision: 0.8827963291741607\n",
      "Weighted F-score: 0.8822156090207137\n",
      "Accuracy: 0.8821566795675965\n"
     ]
    }
   ],
   "source": [
    "## MODELO 6\n",
    "\n",
    "parameters_svm = Dict(\"kernel\" => \"poly\", \"kernelDegree\" => 5, \"kernelGamma\" => 2, \"C\" => 1); #kernel = ‘linear’, ‘poly’, ‘rbf’, ‘sigmoid’\n",
    "\n",
    "modelCrossValidation(:SVM, parameters_svm, inputs, targets, index)\n",
    "\n",
    "# 70 mins"
   ]
  },
  {
   "cell_type": "markdown",
   "metadata": {},
   "source": [
    "En los polinomicos no mejora al aumentar el grado del polinomio, en ppio lo optimo sería tener un modelo polinomial de grado 2 o 3."
   ]
  },
  {
   "cell_type": "code",
   "execution_count": 27,
   "metadata": {},
   "outputs": [
    {
     "name": "stdout",
     "output_type": "stream",
     "text": [
      " \n",
      "------------------------------------------------------------------------------------------------------------------\n",
      "-------------------------------------------------- FOLD: 1 -------------------------------------------------------\n",
      "------------------------------------------------------------------------------------------------------------------\n"
     ]
    },
    {
     "name": "stdout",
     "output_type": "stream",
     "text": [
      " \n",
      "Metrics: \n",
      "Weighted sensivity: 0.8726352251532108\n",
      "Weighted specificity: 0.9847846107901151\n",
      "Weighted precision: 0.9419355807329094\n",
      "Weighted F-score: 0.8914636740563928\n",
      "Accuracy: 0.8726352251532108\n",
      " \n",
      "------------------------------------------------------------------------------------------------------------------\n",
      "-------------------------------------------------- FOLD: 2 -------------------------------------------------------\n",
      "------------------------------------------------------------------------------------------------------------------\n"
     ]
    },
    {
     "name": "stdout",
     "output_type": "stream",
     "text": [
      " \n",
      "Metrics: \n",
      "Weighted sensivity: 0.8655562958027981\n",
      "Weighted specificity: 0.9839365442926673\n",
      "Weighted precision: 0.9405030900210173\n",
      "Weighted F-score: 0.8860113779170519\n",
      "Accuracy: 0.8655562958027981\n",
      " \n",
      "------------------------------------------------------------------------------------------------------------------\n",
      "-------------------------------------------------- FOLD: 3 -------------------------------------------------------\n",
      "------------------------------------------------------------------------------------------------------------------\n"
     ]
    },
    {
     "name": "stdout",
     "output_type": "stream",
     "text": [
      " \n",
      "Metrics: \n",
      "Weighted sensivity: 0.8716855429713525\n",
      "Weighted specificity: 0.9846688723031105\n",
      "Weighted precision: 0.9417347618594406\n",
      "Weighted F-score: 0.890732366011188\n",
      "Accuracy: 0.8716855429713525\n",
      " \n",
      "------------------------------------------------------------------------------------------------------------------\n",
      "-------------------------------------------------- FOLD: 4 -------------------------------------------------------\n",
      "------------------------------------------------------------------------------------------------------------------\n"
     ]
    },
    {
     "name": "stdout",
     "output_type": "stream",
     "text": [
      " \n",
      "Metrics: \n",
      "Weighted sensivity: 0.8696868754163891\n",
      "Weighted specificity: 0.9844300696910094\n",
      "Weighted precision: 0.9413261310896727\n",
      "Weighted F-score: 0.8891809859588166\n",
      "Accuracy: 0.8696868754163891\n",
      " \n",
      "------------------------------------------------------------------------------------------------------------------\n",
      "-------------------------------------------------- FOLD: 5 -------------------------------------------------------\n",
      "------------------------------------------------------------------------------------------------------------------"
     ]
    },
    {
     "name": "stdout",
     "output_type": "stream",
     "text": [
      "\n",
      " \n",
      "Metrics: \n",
      "Weighted sensivity: 0.8700173310225303\n",
      "Weighted specificity: 0.9844819974359087\n",
      "Weighted precision: 0.9414162618693095\n",
      "Weighted F-score: 0.8894833688907389\n",
      "Accuracy: 0.8700173310225303\n",
      " \n",
      "------------------------------------------------------------------------------------------------------------------\n",
      "-------------------------------------------------- FOLD: 6 -------------------------------------------------------\n",
      "------------------------------------------------------------------------------------------------------------------"
     ]
    },
    {
     "name": "stdout",
     "output_type": "stream",
     "text": [
      "\n",
      " \n",
      "Metrics: \n",
      "Weighted sensivity: 0.8743832511001467\n",
      "Weighted specificity: 0.9849987462128851\n",
      "Weighted precision: 0.9423114815614911\n",
      "Weighted F-score: 0.8927833795075308\n",
      "Accuracy: 0.8743832511001467\n",
      " \n",
      "------------------------------------------------------------------------------------------------------------------\n",
      "-------------------------------------------------- FOLD: 7 -------------------------------------------------------\n",
      "------------------------------------------------------------------------------------------------------------------\n"
     ]
    },
    {
     "name": "stdout",
     "output_type": "stream",
     "text": [
      " \n",
      "Metrics: \n",
      "Weighted sensivity: 0.8691651106961856\n",
      "Weighted specificity: 0.9843732589664002\n",
      "Weighted precision: 0.9412308189539296\n",
      "Weighted F-score: 0.888791113272305\n",
      "Accuracy: 0.8691651106961856\n",
      " \n",
      "------------------------------------------------------------------------------------------------------------------\n",
      "-------------------------------------------------- FOLD: 8 -------------------------------------------------------\n",
      "------------------------------------------------------------------------------------------------------------------\n"
     ]
    },
    {
     "name": "stdout",
     "output_type": "stream",
     "text": [
      " \n",
      "Metrics: \n",
      "Weighted sensivity: 0.8687124749833223\n",
      "Weighted specificity: 0.9843121702743328\n",
      "Weighted precision: 0.9411266703961086\n",
      "Weighted F-score: 0.888428294420132\n",
      "Accuracy: 0.8687124749833223\n",
      " \n",
      "------------------------------------------------------------------------------------------------------------------\n",
      "-------------------------------------------------- FOLD: 9 -------------------------------------------------------\n",
      "------------------------------------------------------------------------------------------------------------------\n"
     ]
    },
    {
     "name": "stdout",
     "output_type": "stream",
     "text": [
      " \n",
      "Metrics: \n",
      "Weighted sensivity: 0.872147337515014\n",
      "Weighted specificity: 0.9847180442271045\n",
      "Weighted precision: 0.9418190386871508\n",
      "Weighted F-score: 0.8911040646996514\n",
      "Accuracy: 0.872147337515014\n",
      " \n",
      "------------------------------------------------------------------------------------------------------------------\n",
      "-------------------------------------------------- FOLD: 10 -------------------------------------------------------\n",
      "------------------------------------------------------------------------------------------------------------------"
     ]
    },
    {
     "name": "stdout",
     "output_type": "stream",
     "text": [
      "\n",
      " \n",
      "Metrics: \n",
      "Weighted sensivity: 0.8694781796343254\n",
      "Weighted specificity: 0.9843990054844555\n",
      "Weighted precision: 0.9412725217702251\n",
      "Weighted F-score: 0.888989530458464\n",
      "Accuracy: 0.8694781796343254\n"
     ]
    }
   ],
   "source": [
    "## MODELO 7\n",
    "\n",
    "parameters_svm = Dict(\"kernel\" => \"rbf\", \"kernelDegree\" => 3, \"kernelGamma\" => 20, \"C\" => 1000); #kernel = ‘linear’, ‘poly’, ‘rbf’, ‘sigmoid’\n",
    "\n",
    "modelCrossValidation(:SVM, parameters_svm, inputs, targets, index)\n",
    "#120 mins"
   ]
  },
  {
   "cell_type": "code",
   "execution_count": 28,
   "metadata": {},
   "outputs": [
    {
     "name": "stdout",
     "output_type": "stream",
     "text": [
      " \n",
      "------------------------------------------------------------------------------------------------------------------\n",
      "-------------------------------------------------- FOLD: 1 -------------------------------------------------------\n"
     ]
    },
    {
     "name": "stdout",
     "output_type": "stream",
     "text": [
      "------------------------------------------------------------------------------------------------------------------\n",
      " \n",
      "Metrics: \n",
      "Weighted sensivity: 0.058886224353850256\n",
      "Weighted specificity: 0.9368644585552639\n",
      "Weighted precision: 0.07028348961985292\n",
      "Weighted F-score: 0.05459659766758109\n",
      "Accuracy: 0.058886224353850256"
     ]
    },
    {
     "name": "stdout",
     "output_type": "stream",
     "text": [
      "\n",
      " \n",
      "------------------------------------------------------------------------------------------------------------------\n",
      "-------------------------------------------------- FOLD: 2 -------------------------------------------------------\n",
      "------------------------------------------------------------------------------------------------------------------\n"
     ]
    },
    {
     "name": "stdout",
     "output_type": "stream",
     "text": [
      " \n",
      "Metrics: \n",
      "Weighted sensivity: 0.0787475016655563\n",
      "Weighted specificity: 0.916708078468278\n",
      "Weighted precision: 0.06687893164083845\n",
      "Weighted F-score: 0.05517130126390952\n",
      "Accuracy: 0.0787475016655563\n",
      " \n",
      "------------------------------------------------------------------------------------------------------------------\n",
      "-------------------------------------------------- FOLD: 3 -------------------------------------------------------\n",
      "------------------------------------------------------------------------------------------------------------------\n"
     ]
    },
    {
     "name": "stdout",
     "output_type": "stream",
     "text": [
      " \n",
      "Metrics: \n",
      "Weighted sensivity: 0.0608927381745503\n",
      "Weighted specificity: 0.9343887330605629\n",
      "Weighted precision: 0.06508503143380726\n",
      "Weighted F-score: 0.0518250662848362\n",
      "Accuracy: 0.0608927381745503\n",
      " \n",
      "------------------------------------------------------------------------------------------------------------------\n",
      "-------------------------------------------------- FOLD: 4 -------------------------------------------------------\n",
      "------------------------------------------------------------------------------------------------------------------\n"
     ]
    },
    {
     "name": "stdout",
     "output_type": "stream",
     "text": [
      " \n",
      "Metrics: \n",
      "Weighted sensivity: 0.07848101265822785\n",
      "Weighted specificity: 0.9172762010945122\n",
      "Weighted precision: 0.07575098762989772\n",
      "Weighted F-score: 0.05940302955139133\n",
      "Accuracy: 0.07848101265822785\n",
      " \n",
      "------------------------------------------------------------------------------------------------------------------\n",
      "-------------------------------------------------- FOLD: 5 -------------------------------------------------------\n",
      "------------------------------------------------------------------------------------------------------------------\n"
     ]
    },
    {
     "name": "stdout",
     "output_type": "stream",
     "text": [
      " \n",
      "Metrics: \n",
      "Weighted sensivity: 0.07425676576456472\n",
      "Weighted specificity: 0.9185796559736816\n",
      "Weighted precision: 0.06654781939109539\n",
      "Weighted F-score: 0.060216468960137874\n",
      "Accuracy: 0.07425676576456472\n",
      " \n",
      "------------------------------------------------------------------------------------------------------------------\n",
      "-------------------------------------------------- FOLD: 6 -------------------------------------------------------\n",
      "------------------------------------------------------------------------------------------------------------------"
     ]
    },
    {
     "name": "stdout",
     "output_type": "stream",
     "text": [
      "\n",
      " \n",
      "Metrics: \n",
      "Weighted sensivity: 0.06654220562741699\n",
      "Weighted specificity: 0.9265908140862433\n",
      "Weighted precision: 0.06442201707362151\n",
      "Weighted F-score: 0.055796342660772456\n",
      "Accuracy: 0.06654220562741699\n",
      " \n",
      "------------------------------------------------------------------------------------------------------------------\n",
      "-------------------------------------------------- FOLD: 7 -------------------------------------------------------\n",
      "------------------------------------------------------------------------------------------------------------------"
     ]
    },
    {
     "name": "stdout",
     "output_type": "stream",
     "text": [
      "\n",
      " \n",
      "Metrics: \n",
      "Weighted sensivity: 0.0704187783408909\n",
      "Weighted specificity: 0.9219144055543204\n",
      "Weighted precision: 0.06520015178652637\n",
      "Weighted F-score: 0.058199978435600604\n",
      "Accuracy: 0.0704187783408909\n",
      " \n",
      "------------------------------------------------------------------------------------------------------------------\n",
      "-------------------------------------------------- FOLD: 8 -------------------------------------------------------\n",
      "------------------------------------------------------------------------------------------------------------------"
     ]
    },
    {
     "name": "stdout",
     "output_type": "stream",
     "text": [
      "\n",
      " \n",
      "Metrics: \n",
      "Weighted sensivity: 0.0628418945963976\n",
      "Weighted specificity: 0.9292851009424339\n",
      "Weighted precision: 0.06972774724228283\n",
      "Weighted F-score: 0.050808048496266224\n",
      "Accuracy: 0.0628418945963976\n",
      " \n",
      "------------------------------------------------------------------------------------------------------------------\n",
      "-------------------------------------------------- FOLD: 9 -------------------------------------------------------\n",
      "------------------------------------------------------------------------------------------------------------------"
     ]
    },
    {
     "name": "stdout",
     "output_type": "stream",
     "text": [
      "\n",
      " \n",
      "Metrics: \n",
      "Weighted sensivity: 0.07687174696383291\n",
      "Weighted specificity: 0.9190038595755016\n",
      "Weighted precision: 0.07592698087573926\n",
      "Weighted F-score: 0.0639125315741373\n",
      "Accuracy: 0.07687174696383291\n",
      " \n",
      "------------------------------------------------------------------------------------------------------------------\n",
      "-------------------------------------------------- FOLD: 10 -------------------------------------------------------\n",
      "------------------------------------------------------------------------------------------------------------------\n"
     ]
    },
    {
     "name": "stdout",
     "output_type": "stream",
     "text": [
      " \n",
      "Metrics: \n",
      "Weighted sensivity: 0.07540371012945415\n",
      "Weighted specificity: 0.918441003694903\n",
      "Weighted precision: 0.06158250764356378\n",
      "Weighted F-score: 0.05316745128153486\n",
      "Accuracy: 0.07540371012945415\n"
     ]
    }
   ],
   "source": [
    "## MODELO 8\n",
    "\n",
    "parameters_svm = Dict(\"kernel\" => \"sigmoid\", \"kernelDegree\" => 3, \"kernelGamma\" => 2, \"C\" => 1000); #kernel = ‘linear’, ‘poly’, ‘rbf’, ‘sigmoid’\n",
    "\n",
    "modelCrossValidation(:SVM, parameters_svm, inputs, targets, index)\n",
    "\n",
    "# 50 mins"
   ]
  },
  {
   "cell_type": "code",
   "execution_count": null,
   "metadata": {},
   "outputs": [],
   "source": [
    "#Como abrir los modelos (los outputs pq el modelo da error)\n",
    "\n",
    "folder_path = \"modelsvm rbf, 1, 3, 3\"\n",
    "\n",
    "# File path to load the model from inside the folder\n",
    "model_file_path = joinpath(folder_path, \"targets_svmmodel1.jld2\")\n",
    "\n",
    "targets_model = nothing\n",
    "\n",
    "# Load the model from the JLD file\n",
    "loaded_model = JLD2.jldopen(model_file_path) do file\n",
    "     global targets_model\n",
    "     targets_model = read(file, \"targets_test\")\n",
    "end\n",
    "\n",
    "model2_file_path = joinpath(folder_path, \"outputs_svmmodel1.jld2\")\n",
    "\n",
    "outputs_model = nothing\n",
    "\n",
    "# Load the model from the JLD file\n",
    "loaded_model = JLD2.jldopen(model2_file_path) do file\n",
    "     global outputs_model\n",
    "     outputs_model = read(file, \"outputs_model\")\n",
    "end\n",
    "\n",
    "confusionMatrix(outputs_model, targets_model)\n"
   ]
  },
  {
   "cell_type": "markdown",
   "metadata": {},
   "source": [
    "Claramente los mejores modelos a la hora de los resultados son los polinomiales y los lineales (polinomiales de grado 2 o 3) ya que aun aumentando drasticamente el valor de c no conseguimos un f-score y una sensitividad similar a los otros dos modelos. Claramente para este problema de clasificacion SVM trabaja mucho mejor que una ANN (llegando a conseguir una fscore de 40% mientras que en el mejor ANN conseguimos un 10% a lo sumo)."
   ]
  },
  {
   "cell_type": "markdown",
   "metadata": {},
   "source": [
    "### kNN (6 modelos variando los k)"
   ]
  },
  {
   "cell_type": "code",
   "execution_count": 6,
   "metadata": {},
   "outputs": [
    {
     "name": "stdout",
     "output_type": "stream",
     "text": [
      " \n",
      "------------------------------------------------------------------------------------------------------------------\n",
      "-------------------------------------------------- FOLD: 1 -------------------------------------------------------\n",
      "------------------------------------------------------------------------------------------------------------------"
     ]
    },
    {
     "name": "stdout",
     "output_type": "stream",
     "text": [
      "\n",
      " \n",
      "Metrics: \n",
      "Weighted sensivity: 0.7438390835220461\n",
      "Weighted specificity: 0.979947728257397\n",
      "Weighted precision: 0.7460199653422659\n",
      "Weighted F-score: 0.7439199612433405\n",
      "Accuracy: 0.7438390835220461\n",
      " \n",
      "------------------------------------------------------------------------------------------------------------------\n",
      "-------------------------------------------------- FOLD: 2 -------------------------------------------------------\n",
      "------------------------------------------------------------------------------------------------------------------"
     ]
    },
    {
     "name": "stdout",
     "output_type": "stream",
     "text": [
      "\n",
      " \n",
      "Metrics: \n",
      "Weighted sensivity: 0.7429713524317122\n",
      "Weighted specificity: 0.9798515567227631\n",
      "Weighted precision: 0.7455306498295939\n",
      "Weighted F-score: 0.7434617185736547\n",
      "Accuracy: 0.7429713524317122\n",
      " \n",
      "------------------------------------------------------------------------------------------------------------------\n",
      "-------------------------------------------------- FOLD: 3 -------------------------------------------------------\n",
      "------------------------------------------------------------------------------------------------------------------\n"
     ]
    },
    {
     "name": "stdout",
     "output_type": "stream",
     "text": [
      " \n",
      "Metrics: \n",
      "Weighted sensivity: 0.7431351639562783\n",
      "Weighted specificity: 0.979679053289089\n",
      "Weighted precision: 0.7454685352688256\n",
      "Weighted F-score: 0.7433926203980616\n",
      "Accuracy: 0.7431351639562783\n",
      " \n",
      "------------------------------------------------------------------------------------------------------------------\n",
      "-------------------------------------------------- FOLD: 4 -------------------------------------------------------\n",
      "------------------------------------------------------------------------------------------------------------------"
     ]
    },
    {
     "name": "stdout",
     "output_type": "stream",
     "text": [
      "\n",
      " \n",
      "Metrics: \n",
      "Weighted sensivity: 0.7512331689108119\n",
      "Weighted specificity: 0.9803443858039285\n",
      "Weighted precision: 0.7531046035250194\n",
      "Weighted F-score: 0.7513528508225813\n",
      "Accuracy: 0.7512331689108119\n",
      " \n",
      "------------------------------------------------------------------------------------------------------------------\n",
      "-------------------------------------------------- FOLD: 5 -------------------------------------------------------\n",
      "------------------------------------------------------------------------------------------------------------------\n"
     ]
    },
    {
     "name": "stdout",
     "output_type": "stream",
     "text": [
      " \n",
      "Metrics: \n",
      "Weighted sensivity: 0.7406666666666667\n",
      "Weighted specificity: 0.978969319788064\n",
      "Weighted precision: 0.7418455200438131\n",
      "Weighted F-score: 0.740393740521986\n",
      "Accuracy: 0.7406666666666667\n",
      " \n",
      "------------------------------------------------------------------------------------------------------------------\n",
      "-------------------------------------------------- FOLD: 6 -------------------------------------------------------\n",
      "------------------------------------------------------------------------------------------------------------------\n"
     ]
    },
    {
     "name": "stdout",
     "output_type": "stream",
     "text": [
      " \n",
      "Metrics: \n",
      "Weighted sensivity: 0.7362666666666666\n",
      "Weighted specificity: 0.9789347696179818\n",
      "Weighted precision: 0.737397061728698\n",
      "Weighted F-score: 0.7363641583134194\n",
      "Accuracy: 0.7362666666666666\n",
      " \n",
      "------------------------------------------------------------------------------------------------------------------\n",
      "-------------------------------------------------- FOLD: 7 -------------------------------------------------------\n",
      "------------------------------------------------------------------------------------------------------------------"
     ]
    },
    {
     "name": "stdout",
     "output_type": "stream",
     "text": [
      "\n",
      " \n",
      "Metrics: \n",
      "Weighted sensivity: 0.7446326176823577\n",
      "Weighted specificity: 0.9797389433880419\n",
      "Weighted precision: 0.7461595021453845\n",
      "Weighted F-score: 0.7447626693732619\n",
      "Accuracy: 0.7446326176823577\n",
      " \n",
      "------------------------------------------------------------------------------------------------------------------\n",
      "-------------------------------------------------- FOLD: 8 -------------------------------------------------------\n",
      "------------------------------------------------------------------------------------------------------------------\n"
     ]
    },
    {
     "name": "stdout",
     "output_type": "stream",
     "text": [
      " \n",
      "Metrics: \n",
      "Weighted sensivity: 0.7478991596638656\n",
      "Weighted specificity: 0.9799304798076698\n",
      "Weighted precision: 0.7500812761612418\n",
      "Weighted F-score: 0.7482341592850688\n",
      "Accuracy: 0.7478991596638656\n",
      " \n",
      "------------------------------------------------------------------------------------------------------------------\n",
      "-------------------------------------------------- FOLD: 9 -------------------------------------------------------\n",
      "------------------------------------------------------------------------------------------------------------------\n"
     ]
    },
    {
     "name": "stdout",
     "output_type": "stream",
     "text": [
      " \n",
      "Metrics: \n",
      "Weighted sensivity: 0.751567711807872\n",
      "Weighted specificity: 0.9804600731424418\n",
      "Weighted precision: 0.7547549655784757\n",
      "Weighted F-score: 0.7519662786000428\n",
      "Accuracy: 0.751567711807872\n",
      " \n",
      "------------------------------------------------------------------------------------------------------------------\n",
      "-------------------------------------------------- FOLD: 10 -------------------------------------------------------\n",
      "------------------------------------------------------------------------------------------------------------------"
     ]
    },
    {
     "name": "stdout",
     "output_type": "stream",
     "text": [
      "\n",
      " \n",
      "Metrics: \n",
      "Weighted sensivity: 0.7485988791032826\n",
      "Weighted specificity: 0.9801940770308988\n",
      "Weighted precision: 0.7512417288925927\n",
      "Weighted F-score: 0.7489454652333296\n",
      "Accuracy: 0.7485988791032826\n"
     ]
    }
   ],
   "source": [
    "##MODEL 1\n",
    "\n",
    "parameters_knn = Dict(\"n_neighbors\" => 3);\n",
    "\n",
    "modelCrossValidation(:kNN, parameters_knn, inputs, targets, index) \n",
    "\n",
    "## Fold 8: Tiempo inmediato, F-score 0.755"
   ]
  },
  {
   "cell_type": "code",
   "execution_count": 7,
   "metadata": {},
   "outputs": [
    {
     "name": "stdout",
     "output_type": "stream",
     "text": [
      " \n",
      "------------------------------------------------------------------------------------------------------------------\n",
      "-------------------------------------------------- FOLD: 1 -------------------------------------------------------\n",
      "------------------------------------------------------------------------------------------------------------------\n"
     ]
    },
    {
     "name": "stdout",
     "output_type": "stream",
     "text": [
      " \n",
      "Metrics: \n",
      "Weighted sensivity: 0.6267483681896896\n",
      "Weighted specificity: 0.9702746842655424\n",
      "Weighted precision: 0.6291375045165292\n",
      "Weighted F-score: 0.626719224113985\n",
      "Accuracy: 0.6267483681896896\n",
      " \n",
      "------------------------------------------------------------------------------------------------------------------\n",
      "-------------------------------------------------- FOLD: 2 -------------------------------------------------------\n",
      "------------------------------------------------------------------------------------------------------------------"
     ]
    },
    {
     "name": "stdout",
     "output_type": "stream",
     "text": [
      "\n",
      " \n",
      "Metrics: \n",
      "Weighted sensivity: 0.6162558294470353\n",
      "Weighted specificity: 0.9694264425128665\n",
      "Weighted precision: 0.6196805421953484\n",
      "Weighted F-score: 0.6167248589395398\n",
      "Accuracy: 0.6162558294470353\n",
      " \n",
      "------------------------------------------------------------------------------------------------------------------\n",
      "-------------------------------------------------- FOLD: 3 -------------------------------------------------------\n",
      "------------------------------------------------------------------------------------------------------------------\n"
     ]
    },
    {
     "name": "stdout",
     "output_type": "stream",
     "text": [
      " \n",
      "Metrics: \n",
      "Weighted sensivity: 0.6143695014662757\n",
      "Weighted specificity: 0.9692482931033982\n",
      "Weighted precision: 0.6173420319850454\n",
      "Weighted F-score: 0.6142692178025874\n",
      "Accuracy: 0.6143695014662757\n",
      " \n",
      "------------------------------------------------------------------------------------------------------------------\n",
      "-------------------------------------------------- FOLD: 4 -------------------------------------------------------\n",
      "------------------------------------------------------------------------------------------------------------------"
     ]
    },
    {
     "name": "stdout",
     "output_type": "stream",
     "text": [
      "\n",
      " \n",
      "Metrics: \n",
      "Weighted sensivity: 0.626449806692441\n",
      "Weighted specificity: 0.970117512816142\n",
      "Weighted precision: 0.6291962429289631\n",
      "Weighted F-score: 0.6265519436858041\n",
      "Accuracy: 0.626449806692441\n",
      " \n",
      "------------------------------------------------------------------------------------------------------------------\n",
      "-------------------------------------------------- FOLD: 5 -------------------------------------------------------\n",
      "------------------------------------------------------------------------------------------------------------------\n"
     ]
    },
    {
     "name": "stdout",
     "output_type": "stream",
     "text": [
      " \n",
      "Metrics: \n",
      "Weighted sensivity: 0.6106666666666667\n",
      "Weighted specificity: 0.9686557080103716\n",
      "Weighted precision: 0.6139572128687393\n",
      "Weighted F-score: 0.6107544616567322\n",
      "Accuracy: 0.6106666666666667\n",
      " \n",
      "------------------------------------------------------------------------------------------------------------------\n",
      "-------------------------------------------------- FOLD: 6 -------------------------------------------------------\n",
      "------------------------------------------------------------------------------------------------------------------\n"
     ]
    },
    {
     "name": "stdout",
     "output_type": "stream",
     "text": [
      " \n",
      "Metrics: \n",
      "Weighted sensivity: 0.6116\n",
      "Weighted specificity: 0.9688875235906876\n",
      "Weighted precision: 0.6135959374950695\n",
      "Weighted F-score: 0.6114537147758003\n",
      "Accuracy: 0.6116\n",
      " \n",
      "------------------------------------------------------------------------------------------------------------------\n",
      "-------------------------------------------------- FOLD: 7 -------------------------------------------------------\n",
      "------------------------------------------------------------------------------------------------------------------"
     ]
    },
    {
     "name": "stdout",
     "output_type": "stream",
     "text": [
      "\n",
      " \n",
      "Metrics: \n",
      "Weighted sensivity: 0.6106147486331511\n",
      "Weighted specificity: 0.9689818564627998\n",
      "Weighted precision: 0.6135230533664386\n",
      "Weighted F-score: 0.6107570125012655\n",
      "Accuracy: 0.6106147486331511\n",
      " \n",
      "------------------------------------------------------------------------------------------------------------------\n",
      "-------------------------------------------------- FOLD: 8 -------------------------------------------------------\n",
      "------------------------------------------------------------------------------------------------------------------"
     ]
    },
    {
     "name": "stdout",
     "output_type": "stream",
     "text": [
      "\n",
      " \n",
      "Metrics: \n",
      "Weighted sensivity: 0.6202480992396959\n",
      "Weighted specificity: 0.969694565194507\n",
      "Weighted precision: 0.6241149111909223\n",
      "Weighted F-score: 0.620620535104499\n",
      "Accuracy: 0.6202480992396959\n",
      " \n",
      "------------------------------------------------------------------------------------------------------------------\n",
      "-------------------------------------------------- FOLD: 9 -------------------------------------------------------\n",
      "------------------------------------------------------------------------------------------------------------------"
     ]
    },
    {
     "name": "stdout",
     "output_type": "stream",
     "text": [
      "\n",
      " \n",
      "Metrics: \n",
      "Weighted sensivity: 0.6313542361574382\n",
      "Weighted specificity: 0.9707807840398498\n",
      "Weighted precision: 0.6356658495121033\n",
      "Weighted F-score: 0.6317194098243976\n",
      "Accuracy: 0.6313542361574382\n",
      " \n",
      "------------------------------------------------------------------------------------------------------------------\n",
      "-------------------------------------------------- FOLD: 10 -------------------------------------------------------\n",
      "------------------------------------------------------------------------------------------------------------------"
     ]
    },
    {
     "name": "stdout",
     "output_type": "stream",
     "text": [
      "\n",
      " \n",
      "Metrics: \n",
      "Weighted sensivity: 0.6203629570322925\n",
      "Weighted specificity: 0.9696241708072024\n",
      "Weighted precision: 0.62364190561784\n",
      "Weighted F-score: 0.620695592768941\n",
      "Accuracy: 0.6203629570322925\n"
     ]
    }
   ],
   "source": [
    "##MODEL 2\n",
    "\n",
    "parameters_knn = Dict(\"n_neighbors\" => 5);\n",
    "\n",
    "modelCrossValidation(:kNN, parameters_knn, inputs, targets, index)\n",
    "\n",
    "#Tiempo inmediato, F-score = 0.633 Fold 8"
   ]
  },
  {
   "cell_type": "code",
   "execution_count": 8,
   "metadata": {},
   "outputs": [
    {
     "name": "stdout",
     "output_type": "stream",
     "text": [
      " \n",
      "------------------------------------------------------------------------------------------------------------------\n",
      "-------------------------------------------------- FOLD: 1 -------------------------------------------------------\n",
      "------------------------------------------------------------------------------------------------------------------"
     ]
    },
    {
     "name": "stdout",
     "output_type": "stream",
     "text": [
      "\n",
      " \n",
      "Metrics: \n",
      "Weighted sensivity: 0.45624084188091113\n",
      "Weighted specificity: 0.9566470615884675\n",
      "Weighted precision: 0.45930180580845825\n",
      "Weighted F-score: 0.4560450455446066\n",
      "Accuracy: 0.45624084188091113\n",
      " \n",
      "------------------------------------------------------------------------------------------------------------------\n",
      "-------------------------------------------------- FOLD: 2 -------------------------------------------------------\n",
      "------------------------------------------------------------------------------------------------------------------\n"
     ]
    },
    {
     "name": "stdout",
     "output_type": "stream",
     "text": [
      " \n",
      "Metrics: \n",
      "Weighted sensivity: 0.44596935376415725\n",
      "Weighted specificity: 0.955416562171529\n",
      "Weighted precision: 0.4495826192171958\n",
      "Weighted F-score: 0.44614779812059485\n",
      "Accuracy: 0.44596935376415725\n",
      " \n",
      "------------------------------------------------------------------------------------------------------------------\n",
      "-------------------------------------------------- FOLD: 3 -------------------------------------------------------\n",
      "------------------------------------------------------------------------------------------------------------------"
     ]
    },
    {
     "name": "stdout",
     "output_type": "stream",
     "text": [
      "\n",
      " \n",
      "Metrics: \n",
      "Weighted sensivity: 0.4413489736070381\n",
      "Weighted specificity: 0.9553617982837386\n",
      "Weighted precision: 0.4457452094851268\n",
      "Weighted F-score: 0.4414301550460955\n",
      "Accuracy: 0.4413489736070381\n",
      " \n",
      "------------------------------------------------------------------------------------------------------------------\n",
      "-------------------------------------------------- FOLD: 4 -------------------------------------------------------\n",
      "------------------------------------------------------------------------------------------------------------------"
     ]
    },
    {
     "name": "stdout",
     "output_type": "stream",
     "text": [
      "\n",
      " \n",
      "Metrics: \n",
      "Weighted sensivity: 0.4564724703372884\n",
      "Weighted specificity: 0.9564672059777368\n",
      "Weighted precision: 0.4594303517123525\n",
      "Weighted F-score: 0.4564912770222197\n",
      "Accuracy: 0.4564724703372884\n",
      " \n",
      "------------------------------------------------------------------------------------------------------------------\n",
      "-------------------------------------------------- FOLD: 5 -------------------------------------------------------\n",
      "------------------------------------------------------------------------------------------------------------------\n"
     ]
    },
    {
     "name": "stdout",
     "output_type": "stream",
     "text": [
      " \n",
      "Metrics: \n",
      "Weighted sensivity: 0.4328\n",
      "Weighted specificity: 0.9539653958165007\n",
      "Weighted precision: 0.4344307961695108\n",
      "Weighted F-score: 0.43227343222282216\n",
      "Accuracy: 0.4328\n",
      " \n",
      "------------------------------------------------------------------------------------------------------------------\n",
      "-------------------------------------------------- FOLD: 6 -------------------------------------------------------\n",
      "------------------------------------------------------------------------------------------------------------------\n"
     ]
    },
    {
     "name": "stdout",
     "output_type": "stream",
     "text": [
      " \n",
      "Metrics: \n",
      "Weighted sensivity: 0.4468\n",
      "Weighted specificity: 0.9556457596774786\n",
      "Weighted precision: 0.44927246204566296\n",
      "Weighted F-score: 0.4464592763884776\n",
      "Accuracy: 0.4468\n",
      " \n",
      "------------------------------------------------------------------------------------------------------------------\n",
      "-------------------------------------------------- FOLD: 7 -------------------------------------------------------\n",
      "------------------------------------------------------------------------------------------------------------------"
     ]
    },
    {
     "name": "stdout",
     "output_type": "stream",
     "text": [
      "\n",
      " \n",
      "Metrics: \n",
      "Weighted sensivity: 0.4449926656887585\n",
      "Weighted specificity: 0.9554828341564283\n",
      "Weighted precision: 0.44764723799357425\n",
      "Weighted F-score: 0.44504520090629157\n",
      "Accuracy: 0.4449926656887585\n",
      " \n",
      "------------------------------------------------------------------------------------------------------------------\n",
      "-------------------------------------------------- FOLD: 8 -------------------------------------------------------\n",
      "------------------------------------------------------------------------------------------------------------------\n"
     ]
    },
    {
     "name": "stdout",
     "output_type": "stream",
     "text": [
      " \n",
      "Metrics: \n",
      "Weighted sensivity: 0.4481792717086835\n",
      "Weighted specificity: 0.9555673701415526\n",
      "Weighted precision: 0.45061519879734235\n",
      "Weighted F-score: 0.44821446498023626\n",
      "Accuracy: 0.4481792717086835\n",
      " \n",
      "------------------------------------------------------------------------------------------------------------------\n",
      "-------------------------------------------------- FOLD: 9 -------------------------------------------------------\n",
      "------------------------------------------------------------------------------------------------------------------\n"
     ]
    },
    {
     "name": "stdout",
     "output_type": "stream",
     "text": [
      " \n",
      "Metrics: \n",
      "Weighted sensivity: 0.45577051367578386\n",
      "Weighted specificity: 0.9564869220602541\n",
      "Weighted precision: 0.4594854186157434\n",
      "Weighted F-score: 0.45595261217943556\n",
      "Accuracy: 0.45577051367578386\n",
      " \n",
      "------------------------------------------------------------------------------------------------------------------\n",
      "-------------------------------------------------- FOLD: 10 -------------------------------------------------------\n",
      "------------------------------------------------------------------------------------------------------------------\n"
     ]
    },
    {
     "name": "stdout",
     "output_type": "stream",
     "text": [
      " \n",
      "Metrics: \n",
      "Weighted sensivity: 0.44915932746196957\n",
      "Weighted specificity: 0.9557369599963289\n",
      "Weighted precision: 0.4532850995766088\n",
      "Weighted F-score: 0.4495912767965312\n",
      "Accuracy: 0.44915932746196957\n"
     ]
    }
   ],
   "source": [
    "##MODEL 3\n",
    "\n",
    "parameters_knn = Dict(\"n_neighbors\" => 10);\n",
    "\n",
    "modelCrossValidation(:kNN, parameters_knn, inputs, targets, index)\n",
    "\n",
    "#Tiempo inmediato, F-score 0.457, Fold 7"
   ]
  },
  {
   "cell_type": "code",
   "execution_count": 9,
   "metadata": {},
   "outputs": [
    {
     "name": "stdout",
     "output_type": "stream",
     "text": [
      " \n",
      "------------------------------------------------------------------------------------------------------------------\n",
      "-------------------------------------------------- FOLD: 1 -------------------------------------------------------\n",
      "------------------------------------------------------------------------------------------------------------------\n"
     ]
    },
    {
     "name": "stdout",
     "output_type": "stream",
     "text": [
      " \n",
      "Metrics: \n",
      "Weighted sensivity: 0.40282403090448915\n",
      "Weighted specificity: 0.9512084430031544\n",
      "Weighted precision: 0.4049745520797339\n",
      "Weighted F-score: 0.40263142722255263\n",
      "Accuracy: 0.40282403090448915\n",
      " \n",
      "------------------------------------------------------------------------------------------------------------------\n",
      "-------------------------------------------------- FOLD: 2 -------------------------------------------------------\n",
      "------------------------------------------------------------------------------------------------------------------\n"
     ]
    },
    {
     "name": "stdout",
     "output_type": "stream",
     "text": [
      " \n",
      "Metrics: \n",
      "Weighted sensivity: 0.38574283810792803\n",
      "Weighted specificity: 0.9501007402527051\n",
      "Weighted precision: 0.38881526161190133\n",
      "Weighted F-score: 0.38593194250304946\n",
      "Accuracy: 0.38574283810792803\n",
      " \n",
      "------------------------------------------------------------------------------------------------------------------\n",
      "-------------------------------------------------- FOLD: 3 -------------------------------------------------------\n",
      "------------------------------------------------------------------------------------------------------------------\n"
     ]
    },
    {
     "name": "stdout",
     "output_type": "stream",
     "text": [
      " \n",
      "Metrics: \n",
      "Weighted sensivity: 0.3930951746201013\n",
      "Weighted specificity: 0.9507741412030924\n",
      "Weighted precision: 0.3965486645382472\n",
      "Weighted F-score: 0.3931137035326665\n",
      "Accuracy: 0.3930951746201013\n",
      " \n",
      "------------------------------------------------------------------------------------------------------------------\n",
      "-------------------------------------------------- FOLD: 4 -------------------------------------------------------\n",
      "------------------------------------------------------------------------------------------------------------------\n"
     ]
    },
    {
     "name": "stdout",
     "output_type": "stream",
     "text": [
      " \n",
      "Metrics: \n",
      "Weighted sensivity: 0.39781362485002\n",
      "Weighted specificity: 0.9513157501271227\n",
      "Weighted precision: 0.3998428278656537\n",
      "Weighted F-score: 0.3974689531994323\n",
      "Accuracy: 0.39781362485002\n",
      " \n",
      "------------------------------------------------------------------------------------------------------------------\n",
      "-------------------------------------------------- FOLD: 5 -------------------------------------------------------\n",
      "------------------------------------------------------------------------------------------------------------------\n"
     ]
    },
    {
     "name": "stdout",
     "output_type": "stream",
     "text": [
      " \n",
      "Metrics: \n",
      "Weighted sensivity: 0.3828\n",
      "Weighted specificity: 0.9493346114583903\n",
      "Weighted precision: 0.38439532562526485\n",
      "Weighted F-score: 0.38259268469474983\n",
      "Accuracy: 0.3828\n",
      " \n",
      "------------------------------------------------------------------------------------------------------------------\n",
      "-------------------------------------------------- FOLD: 6 -------------------------------------------------------\n",
      "------------------------------------------------------------------------------------------------------------------\n"
     ]
    },
    {
     "name": "stdout",
     "output_type": "stream",
     "text": [
      " \n",
      "Metrics: \n",
      "Weighted sensivity: 0.3948\n",
      "Weighted specificity: 0.9510472515457705\n",
      "Weighted precision: 0.3985745188374906\n",
      "Weighted F-score: 0.39509018978572835\n",
      "Accuracy: 0.3948\n",
      " \n",
      "------------------------------------------------------------------------------------------------------------------\n",
      "-------------------------------------------------- FOLD: 7 -------------------------------------------------------\n",
      "------------------------------------------------------------------------------------------------------------------\n"
     ]
    },
    {
     "name": "stdout",
     "output_type": "stream",
     "text": [
      " \n",
      "Metrics: \n",
      "Weighted sensivity: 0.3919189225230031\n",
      "Weighted specificity: 0.9503926119978211\n",
      "Weighted precision: 0.39400710128385696\n",
      "Weighted F-score: 0.39207953220183056\n",
      "Accuracy: 0.3919189225230031\n",
      " \n",
      "------------------------------------------------------------------------------------------------------------------\n",
      "-------------------------------------------------- FOLD: 8 -------------------------------------------------------\n",
      "------------------------------------------------------------------------------------------------------------------"
     ]
    },
    {
     "name": "stdout",
     "output_type": "stream",
     "text": [
      "\n",
      " \n",
      "Metrics: \n",
      "Weighted sensivity: 0.39442443644124314\n",
      "Weighted specificity: 0.9507836987483379\n",
      "Weighted precision: 0.3968044319572754\n",
      "Weighted F-score: 0.39461359841050175\n",
      "Accuracy: 0.39442443644124314\n",
      " \n",
      "------------------------------------------------------------------------------------------------------------------\n",
      "-------------------------------------------------- FOLD: 9 -------------------------------------------------------\n",
      "------------------------------------------------------------------------------------------------------------------"
     ]
    },
    {
     "name": "stdout",
     "output_type": "stream",
     "text": [
      "\n",
      " \n",
      "Metrics: \n",
      "Weighted sensivity: 0.3949299533022015\n",
      "Weighted specificity: 0.9510498253676114\n",
      "Weighted precision: 0.39735062650637076\n",
      "Weighted F-score: 0.3950765393661975\n",
      "Accuracy: 0.3949299533022015\n",
      " \n",
      "------------------------------------------------------------------------------------------------------------------\n",
      "-------------------------------------------------- FOLD: 10 -------------------------------------------------------\n",
      "------------------------------------------------------------------------------------------------------------------"
     ]
    },
    {
     "name": "stdout",
     "output_type": "stream",
     "text": [
      "\n",
      " \n",
      "Metrics: \n",
      "Weighted sensivity: 0.38777688817720846\n",
      "Weighted specificity: 0.9500505342966833\n",
      "Weighted precision: 0.3907534815552779\n",
      "Weighted F-score: 0.3877907342814144\n",
      "Accuracy: 0.38777688817720846\n"
     ]
    }
   ],
   "source": [
    "##MODEL 4\n",
    "\n",
    "parameters_knn = Dict(\"n_neighbors\" => 15);\n",
    "\n",
    "modelCrossValidation(:kNN, parameters_knn, inputs, targets, index)\n",
    "\n",
    "#Fold 8: F-score 0.39, tiempo inmediato"
   ]
  },
  {
   "cell_type": "markdown",
   "metadata": {},
   "source": [
    "Claramente podemos observar que cuanto mayor sea el valor de k menos es el fscore, por lo tanto vamos a probar con k = 1 y k = 2"
   ]
  },
  {
   "cell_type": "code",
   "execution_count": 10,
   "metadata": {},
   "outputs": [
    {
     "name": "stdout",
     "output_type": "stream",
     "text": [
      " \n",
      "------------------------------------------------------------------------------------------------------------------\n",
      "-------------------------------------------------- FOLD: 1 -------------------------------------------------------\n",
      "------------------------------------------------------------------------------------------------------------------"
     ]
    },
    {
     "name": "stdout",
     "output_type": "stream",
     "text": [
      "\n",
      " \n",
      "Metrics: \n",
      "Weighted sensivity: 0.8083122419075529\n",
      "Weighted specificity: 0.9854663341193054\n",
      "Weighted precision: 0.8145029821029163\n",
      "Weighted F-score: 0.8080895865209939\n",
      "Accuracy: 0.8083122419075529\n",
      " \n",
      "------------------------------------------------------------------------------------------------------------------\n",
      "-------------------------------------------------- FOLD: 2 -------------------------------------------------------\n",
      "------------------------------------------------------------------------------------------------------------------\n"
     ]
    },
    {
     "name": "stdout",
     "output_type": "stream",
     "text": [
      " \n",
      "Metrics: \n",
      "Weighted sensivity: 0.8058627581612259\n",
      "Weighted specificity: 0.9853736076924019\n",
      "Weighted precision: 0.8141808842082898\n",
      "Weighted F-score: 0.8061857067689163\n",
      "Accuracy: 0.8058627581612259\n",
      " \n",
      "------------------------------------------------------------------------------------------------------------------\n",
      "-------------------------------------------------- FOLD: 3 -------------------------------------------------------\n",
      "------------------------------------------------------------------------------------------------------------------"
     ]
    },
    {
     "name": "stdout",
     "output_type": "stream",
     "text": [
      "\n",
      " \n",
      "Metrics: \n",
      "Weighted sensivity: 0.795921087709944\n",
      "Weighted specificity: 0.9846092494807863\n",
      "Weighted precision: 0.8038941056840949\n",
      "Weighted F-score: 0.7964259734534692\n",
      "Accuracy: 0.795921087709944\n",
      " \n",
      "------------------------------------------------------------------------------------------------------------------\n",
      "-------------------------------------------------- FOLD: 4 -------------------------------------------------------\n",
      "------------------------------------------------------------------------------------------------------------------"
     ]
    },
    {
     "name": "stdout",
     "output_type": "stream",
     "text": [
      "\n",
      " \n",
      "Metrics: \n",
      "Weighted sensivity: 0.8136248500199973\n",
      "Weighted specificity: 0.9858892372908332\n",
      "Weighted precision: 0.8200017480311984\n",
      "Weighted F-score: 0.8136572368829335\n",
      "Accuracy: 0.8136248500199973\n",
      " \n",
      "------------------------------------------------------------------------------------------------------------------\n",
      "-------------------------------------------------- FOLD: 5 -------------------------------------------------------\n",
      "------------------------------------------------------------------------------------------------------------------\n"
     ]
    },
    {
     "name": "stdout",
     "output_type": "stream",
     "text": [
      " \n",
      "Metrics: \n",
      "Weighted sensivity: 0.8069333333333333\n",
      "Weighted specificity: 0.9851397949592152\n",
      "Weighted precision: 0.8130766338261111\n",
      "Weighted F-score: 0.8065338510652887\n",
      "Accuracy: 0.8069333333333333\n",
      " \n",
      "------------------------------------------------------------------------------------------------------------------\n",
      "-------------------------------------------------- FOLD: 6 -------------------------------------------------------\n",
      "------------------------------------------------------------------------------------------------------------------\n"
     ]
    },
    {
     "name": "stdout",
     "output_type": "stream",
     "text": [
      " \n",
      "Metrics: \n",
      "Weighted sensivity: 0.8024\n",
      "Weighted specificity: 0.984968196769385\n",
      "Weighted precision: 0.8092135640207616\n",
      "Weighted F-score: 0.8027721956370522\n",
      "Accuracy: 0.8024\n",
      " \n",
      "------------------------------------------------------------------------------------------------------------------\n",
      "-------------------------------------------------- FOLD: 7 -------------------------------------------------------\n",
      "------------------------------------------------------------------------------------------------------------------"
     ]
    },
    {
     "name": "stdout",
     "output_type": "stream",
     "text": [
      "\n",
      " \n",
      "Metrics: \n",
      "Weighted sensivity: 0.8073076410188025\n",
      "Weighted specificity: 0.9853477379878794\n",
      "Weighted precision: 0.8137506395464774\n",
      "Weighted F-score: 0.80722514398684\n",
      "Accuracy: 0.8073076410188025\n",
      " \n",
      "------------------------------------------------------------------------------------------------------------------\n",
      "-------------------------------------------------- FOLD: 8 -------------------------------------------------------\n",
      "------------------------------------------------------------------------------------------------------------------\n"
     ]
    },
    {
     "name": "stdout",
     "output_type": "stream",
     "text": [
      " \n",
      "Metrics: \n",
      "Weighted sensivity: 0.8023209283713485\n",
      "Weighted specificity: 0.9847904299098342\n",
      "Weighted precision: 0.8104330445215275\n",
      "Weighted F-score: 0.8025655825797194\n",
      "Accuracy: 0.8023209283713485\n",
      " \n",
      "------------------------------------------------------------------------------------------------------------------\n",
      "-------------------------------------------------- FOLD: 9 -------------------------------------------------------\n",
      "------------------------------------------------------------------------------------------------------------------"
     ]
    },
    {
     "name": "stdout",
     "output_type": "stream",
     "text": [
      "\n",
      " \n",
      "Metrics: \n",
      "Weighted sensivity: 0.8126751167444963\n",
      "Weighted specificity: 0.9859133485936338\n",
      "Weighted precision: 0.8205024995370092\n",
      "Weighted F-score: 0.812916667084662\n",
      "Accuracy: 0.8126751167444963\n",
      " \n",
      "------------------------------------------------------------------------------------------------------------------\n",
      "-------------------------------------------------- FOLD: 10 -------------------------------------------------------\n",
      "------------------------------------------------------------------------------------------------------------------"
     ]
    },
    {
     "name": "stdout",
     "output_type": "stream",
     "text": [
      "\n",
      " \n",
      "Metrics: \n",
      "Weighted sensivity: 0.8069121964238057\n",
      "Weighted specificity: 0.9854818557912741\n",
      "Weighted precision: 0.8137651915385052\n",
      "Weighted F-score: 0.8070909310718509\n",
      "Accuracy: 0.8069121964238057\n"
     ]
    }
   ],
   "source": [
    "##MODEL 5\n",
    "\n",
    "parameters_knn = Dict(\"n_neighbors\" => 2);\n",
    "\n",
    "modelCrossValidation(:kNN, parameters_knn, inputs, targets, index)\n",
    "\n",
    "#Fold 8: tiempo inmediato, Fscore: 0.8125"
   ]
  },
  {
   "cell_type": "code",
   "execution_count": 11,
   "metadata": {},
   "outputs": [
    {
     "name": "stdout",
     "output_type": "stream",
     "text": [
      " \n",
      "------------------------------------------------------------------------------------------------------------------\n",
      "-------------------------------------------------- FOLD: 1 -------------------------------------------------------\n",
      "------------------------------------------------------------------------------------------------------------------"
     ]
    },
    {
     "name": "stdout",
     "output_type": "stream",
     "text": [
      "\n",
      " \n",
      "Metrics: \n",
      "Weighted sensivity: 0.8913014519781537\n",
      "Weighted specificity: 0.9911179286304825\n",
      "Weighted precision: 0.8914525948337454\n",
      "Weighted F-score: 0.8912493441957999\n",
      "Accuracy: 0.8913014519781537\n",
      " \n",
      "------------------------------------------------------------------------------------------------------------------\n",
      "-------------------------------------------------- FOLD: 2 -------------------------------------------------------\n",
      "------------------------------------------------------------------------------------------------------------------"
     ]
    },
    {
     "name": "stdout",
     "output_type": "stream",
     "text": [
      "\n",
      " \n",
      "Metrics: \n",
      "Weighted sensivity: 0.8896735509660226\n",
      "Weighted specificity: 0.9910571546679154\n",
      "Weighted precision: 0.889883318844948\n",
      "Weighted F-score: 0.889675187204717\n",
      "Accuracy: 0.8896735509660226\n",
      " \n",
      "------------------------------------------------------------------------------------------------------------------\n",
      "-------------------------------------------------- FOLD: 3 -------------------------------------------------------\n",
      "------------------------------------------------------------------------------------------------------------------"
     ]
    },
    {
     "name": "stdout",
     "output_type": "stream",
     "text": [
      "\n",
      " \n",
      "Metrics: \n",
      "Weighted sensivity: 0.8830978405758464\n",
      "Weighted specificity: 0.9905232706446396\n",
      "Weighted precision: 0.8834784964159162\n",
      "Weighted F-score: 0.8830850785624279\n",
      "Accuracy: 0.8830978405758464\n",
      " \n",
      "------------------------------------------------------------------------------------------------------------------\n",
      "-------------------------------------------------- FOLD: 4 -------------------------------------------------------\n",
      "------------------------------------------------------------------------------------------------------------------\n"
     ]
    },
    {
     "name": "stdout",
     "output_type": "stream",
     "text": [
      " \n",
      "Metrics: \n",
      "Weighted sensivity: 0.893347553659512\n",
      "Weighted specificity: 0.9912504427468967\n",
      "Weighted precision: 0.8934490044656641\n",
      "Weighted F-score: 0.8932995478816586\n",
      "Accuracy: 0.893347553659512\n",
      " \n",
      "------------------------------------------------------------------------------------------------------------------\n",
      "-------------------------------------------------- FOLD: 5 -------------------------------------------------------\n",
      "------------------------------------------------------------------------------------------------------------------"
     ]
    },
    {
     "name": "stdout",
     "output_type": "stream",
     "text": [
      "\n",
      " \n",
      "Metrics: \n",
      "Weighted sensivity: 0.8905333333333333\n",
      "Weighted specificity: 0.9908601561619641\n",
      "Weighted precision: 0.8908910195912108\n",
      "Weighted F-score: 0.8905480263669665\n",
      "Accuracy: 0.8905333333333333\n",
      " \n",
      "------------------------------------------------------------------------------------------------------------------\n",
      "-------------------------------------------------- FOLD: 6 -------------------------------------------------------\n",
      "------------------------------------------------------------------------------------------------------------------\n"
     ]
    },
    {
     "name": "stdout",
     "output_type": "stream",
     "text": [
      " \n",
      "Metrics: \n",
      "Weighted sensivity: 0.8837333333333334\n",
      "Weighted specificity: 0.9905063420305058\n",
      "Weighted precision: 0.8839592823893451\n",
      "Weighted F-score: 0.8837548326912179\n",
      "Accuracy: 0.8837333333333334\n",
      " \n",
      "------------------------------------------------------------------------------------------------------------------\n",
      "-------------------------------------------------- FOLD: 7 -------------------------------------------------------\n",
      "------------------------------------------------------------------------------------------------------------------\n"
     ]
    },
    {
     "name": "stdout",
     "output_type": "stream",
     "text": [
      " \n",
      "Metrics: \n",
      "Weighted sensivity: 0.8947859714628618\n",
      "Weighted specificity: 0.9913584724072789\n",
      "Weighted precision: 0.8950685888187103\n",
      "Weighted F-score: 0.8947869963715892\n",
      "Accuracy: 0.8947859714628618\n",
      " \n",
      "------------------------------------------------------------------------------------------------------------------\n",
      "-------------------------------------------------- FOLD: 8 -------------------------------------------------------\n",
      "------------------------------------------------------------------------------------------------------------------"
     ]
    },
    {
     "name": "stdout",
     "output_type": "stream",
     "text": [
      "\n",
      " \n",
      "Metrics: \n",
      "Weighted sensivity: 0.8831532613045218\n",
      "Weighted specificity: 0.9903373757101384\n",
      "Weighted precision: 0.8837509502029072\n",
      "Weighted F-score: 0.8831957503293356\n",
      "Accuracy: 0.8831532613045218\n",
      " \n",
      "------------------------------------------------------------------------------------------------------------------\n",
      "-------------------------------------------------- FOLD: 9 -------------------------------------------------------\n",
      "------------------------------------------------------------------------------------------------------------------\n"
     ]
    },
    {
     "name": "stdout",
     "output_type": "stream",
     "text": [
      " \n",
      "Metrics: \n",
      "Weighted sensivity: 0.8939292861907938\n",
      "Weighted specificity: 0.9913601044757324\n",
      "Weighted precision: 0.8941999985039184\n",
      "Weighted F-score: 0.8939214399857962\n",
      "Accuracy: 0.8939292861907938\n",
      " \n",
      "------------------------------------------------------------------------------------------------------------------\n",
      "-------------------------------------------------- FOLD: 10 -------------------------------------------------------\n"
     ]
    },
    {
     "name": "stdout",
     "output_type": "stream",
     "text": [
      "------------------------------------------------------------------------------------------------------------------\n",
      " \n",
      "Metrics: \n",
      "Weighted sensivity: 0.8905791299706431\n",
      "Weighted specificity: 0.9912130595172782\n",
      "Weighted precision: 0.8907240947285614\n",
      "Weighted F-score: 0.8905715408801587\n",
      "Accuracy: 0.8905791299706431\n"
     ]
    }
   ],
   "source": [
    "##MODEL 6\n",
    "\n",
    "parameters_knn = Dict(\"n_neighbors\" => 1);\n",
    "\n",
    "modelCrossValidation(:kNN, parameters_knn, inputs, targets, index)\n",
    "\n",
    "#Fold 7: Tiempo inmediato, Fscore: 0.8953"
   ]
  },
  {
   "cell_type": "code",
   "execution_count": 48,
   "metadata": {},
   "outputs": [
    {
     "data": {
      "text/plain": [
       "([1.0 0.0 … 0.0 0.0; 1.0 0.0 … 0.0 2.0; … ; 0.0 0.0 … 0.0 0.0; 0.0 0.0 … 0.0 0.0], 0.12962962962962962, 0.9387847079413819, 0.1503478411566647, 0.9301108315997617, 0.12583955909549305, 0.11254449254449253, 0.9378942891714009, 0.11528562940327647, 0.937931561851277, 0.10345042470429468, 0.8839506172839506, 0.11604938271604937)"
      ]
     },
     "metadata": {},
     "output_type": "display_data"
    }
   ],
   "source": [
    "#Como abrir los modelos (los outputs pq el modelo da error)\n",
    "\n",
    "folder_path = \"modelknn 3\"\n",
    "\n",
    "# File path to load the model from inside the folder\n",
    "model_file_path = joinpath(folder_path, \"targets_knnmodel1.jld2\")\n",
    "\n",
    "targets_model = nothing\n",
    "\n",
    "# Load the model from the JLD file\n",
    "loaded_model = JLD2.jldopen(model_file_path) do file\n",
    "     global targets_model\n",
    "     targets_model = read(file, \"targets_test\")\n",
    "end\n",
    "\n",
    "model2_file_path = joinpath(folder_path, \"outputs_knnmodel1.jld2\")\n",
    "\n",
    "outputs_model = nothing\n",
    "\n",
    "# Load the model from the JLD file\n",
    "loaded_model = JLD2.jldopen(model2_file_path) do file\n",
    "     global outputs_model\n",
    "     outputs_model = read(file, \"outputs_model\")\n",
    "end\n",
    "\n",
    "confusionMatrix(outputs_model, targets_model)\n"
   ]
  },
  {
   "cell_type": "markdown",
   "metadata": {},
   "source": [
    "### Decision Trees (6 modelos diferentes profundidades)"
   ]
  },
  {
   "cell_type": "code",
   "execution_count": 51,
   "metadata": {},
   "outputs": [
    {
     "name": "stderr",
     "output_type": "stream",
     "text": [
      "WARNING: redefinition of constant SVC. This may fail, cause incorrect answers, or produce other errors.\n",
      "WARNING: redefinition of constant DecisionTreeClassifier. This may fail, cause incorrect answers, or produce other errors.\n",
      "WARNING: redefinition of constant KNeighborsClassifier. This may fail, cause incorrect answers, or produce other errors.\n"
     ]
    },
    {
     "data": {
      "text/plain": [
       "trainClassEnsemble (generic function with 1 method)"
      ]
     },
     "metadata": {},
     "output_type": "display_data"
    }
   ],
   "source": [
    "include(\"functions_finalproject.jl\")"
   ]
  },
  {
   "cell_type": "code",
   "execution_count": 12,
   "metadata": {},
   "outputs": [
    {
     "name": "stdout",
     "output_type": "stream",
     "text": [
      " \n",
      "------------------------------------------------------------------------------------------------------------------\n",
      "-------------------------------------------------- FOLD: 1 -------------------------------------------------------\n",
      "------------------------------------------------------------------------------------------------------------------"
     ]
    },
    {
     "name": "stdout",
     "output_type": "stream",
     "text": [
      "\n"
     ]
    },
    {
     "name": "stdout",
     "output_type": "stream",
     "text": [
      " \n",
      "Metrics: \n",
      "Weighted sensivity: 0.1180231783668576\n",
      "Weighted specificity: 0.9062595599556816\n",
      "Weighted precision: 0.10602141264413399\n",
      "Weighted F-score: 0.07808112923005592\n",
      "Accuracy: 0.1180231783668576\n",
      " \n",
      "------------------------------------------------------------------------------------------------------------------\n",
      "-------------------------------------------------- FOLD: 2 -------------------------------------------------------\n",
      "------------------------------------------------------------------------------------------------------------------"
     ]
    },
    {
     "name": "stdout",
     "output_type": "stream",
     "text": [
      "\n",
      " \n",
      "Metrics: \n",
      "Weighted sensivity: 0.12111925383077948\n",
      "Weighted specificity: 0.9095504782249013\n",
      "Weighted precision: 0.13361971869769998\n",
      "Weighted F-score: 0.08902203468331761\n",
      "Accuracy: 0.12111925383077948\n",
      " \n",
      "------------------------------------------------------------------------------------------------------------------\n",
      "-------------------------------------------------- FOLD: 3 -------------------------------------------------------\n",
      "------------------------------------------------------------------------------------------------------------------"
     ]
    },
    {
     "name": "stdout",
     "output_type": "stream",
     "text": [
      "\n",
      " \n",
      "Metrics: \n",
      "Weighted sensivity: 0.11943481738203146\n",
      "Weighted specificity: 0.9084878830904489\n",
      "Weighted precision: 0.15063912127654955\n",
      "Weighted F-score: 0.08256020306196071\n",
      "Accuracy: 0.11943481738203146\n",
      " \n",
      "------------------------------------------------------------------------------------------------------------------\n",
      "-------------------------------------------------- FOLD: 4 -------------------------------------------------------\n",
      "------------------------------------------------------------------------------------------------------------------"
     ]
    },
    {
     "name": "stdout",
     "output_type": "stream",
     "text": [
      "\n",
      " \n",
      "Metrics: \n",
      "Weighted sensivity: 0.12584988668177577\n",
      "Weighted specificity: 0.9069837661320305\n",
      "Weighted precision: 0.16683965342195717\n",
      "Weighted F-score: 0.08156758821871461\n",
      "Accuracy: 0.12584988668177577\n",
      " \n",
      "------------------------------------------------------------------------------------------------------------------\n",
      "-------------------------------------------------- FOLD: 5 -------------------------------------------------------\n",
      "------------------------------------------------------------------------------------------------------------------"
     ]
    },
    {
     "name": "stdout",
     "output_type": "stream",
     "text": [
      "\n",
      " \n",
      "Metrics: \n",
      "Weighted sensivity: 0.1184\n",
      "Weighted specificity: 0.9084282992660028\n",
      "Weighted precision: 0.08222906537399824\n",
      "Weighted F-score: 0.08611161198931813\n",
      "Accuracy: 0.1184\n",
      " \n",
      "------------------------------------------------------------------------------------------------------------------\n",
      "-------------------------------------------------- FOLD: 6 -------------------------------------------------------\n",
      "------------------------------------------------------------------------------------------------------------------\n"
     ]
    },
    {
     "name": "stdout",
     "output_type": "stream",
     "text": [
      " \n",
      "Metrics: \n",
      "Weighted sensivity: 0.11933333333333333\n",
      "Weighted specificity: 0.9062044113982352\n",
      "Weighted precision: 0.09760293515267504\n",
      "Weighted F-score: 0.08420386679440868\n",
      "Accuracy: 0.11933333333333333\n",
      " \n",
      "------------------------------------------------------------------------------------------------------------------\n",
      "-------------------------------------------------- FOLD: 7 -------------------------------------------------------\n",
      "------------------------------------------------------------------------------------------------------------------"
     ]
    },
    {
     "name": "stdout",
     "output_type": "stream",
     "text": [
      "\n",
      " \n",
      "Metrics: \n",
      "Weighted sensivity: 0.12401653553807174\n",
      "Weighted specificity: 0.9080648442086207\n",
      "Weighted precision: 0.10884149873624648\n",
      "Weighted F-score: 0.0895225927857277\n",
      "Accuracy: 0.12401653553807174\n",
      " \n",
      "------------------------------------------------------------------------------------------------------------------\n",
      "-------------------------------------------------- FOLD: 8 -------------------------------------------------------\n",
      "------------------------------------------------------------------------------------------------------------------"
     ]
    },
    {
     "name": "stdout",
     "output_type": "stream",
     "text": [
      "\n",
      " \n",
      "Metrics: \n",
      "Weighted sensivity: 0.1237828464719221\n",
      "Weighted specificity: 0.9089834737285413\n",
      "Weighted precision: 0.15799378577974074\n",
      "Weighted F-score: 0.08443223098812865\n",
      "Accuracy: 0.1237828464719221\n",
      " \n",
      "------------------------------------------------------------------------------------------------------------------\n",
      "-------------------------------------------------- FOLD: 9 -------------------------------------------------------\n",
      "------------------------------------------------------------------------------------------------------------------\n"
     ]
    },
    {
     "name": "stdout",
     "output_type": "stream",
     "text": [
      " \n",
      "Metrics: \n",
      "Weighted sensivity: 0.12354903268845897\n",
      "Weighted specificity: 0.9063596944132355\n",
      "Weighted precision: 0.13405332961442684\n",
      "Weighted F-score: 0.08520440149188112\n",
      "Accuracy: 0.12354903268845897\n",
      " \n",
      "------------------------------------------------------------------------------------------------------------------\n",
      "-------------------------------------------------- FOLD: 10 -------------------------------------------------------\n",
      "------------------------------------------------------------------------------------------------------------------\n"
     ]
    },
    {
     "name": "stdout",
     "output_type": "stream",
     "text": [
      " \n",
      "Metrics: \n",
      "Weighted sensivity: 0.12583400053376034\n",
      "Weighted specificity: 0.9086462619505608\n",
      "Weighted precision: 0.11757343098624852\n",
      "Weighted F-score: 0.08748350626606931\n",
      "Accuracy: 0.12583400053376034\n"
     ]
    }
   ],
   "source": [
    "##MODEL 1\n",
    "\n",
    "parameters_dt = Dict(\"max_depth\" => 5, \"random_state\" => 1);\n",
    "\n",
    "modelCrossValidation(:DecisionTree, parameters_dt, inputs, targets, index)\n",
    "\n",
    "#Inmediato, cualquier fold con F-score<0.1"
   ]
  },
  {
   "cell_type": "code",
   "execution_count": 13,
   "metadata": {},
   "outputs": [
    {
     "name": "stdout",
     "output_type": "stream",
     "text": [
      " \n",
      "------------------------------------------------------------------------------------------------------------------\n",
      "-------------------------------------------------- FOLD: 1 -------------------------------------------------------\n",
      "------------------------------------------------------------------------------------------------------------------\n"
     ]
    },
    {
     "name": "stdout",
     "output_type": "stream",
     "text": [
      " \n",
      "Metrics: \n",
      "Weighted sensivity: 0.5588117756760357\n",
      "Weighted specificity: 0.9611885060421936\n",
      "Weighted precision: 0.5732803895155415\n",
      "Weighted F-score: 0.560496681836396\n",
      "Accuracy: 0.5588117756760357\n",
      " \n",
      "------------------------------------------------------------------------------------------------------------------\n",
      "-------------------------------------------------- FOLD: 2 -------------------------------------------------------\n",
      "------------------------------------------------------------------------------------------------------------------"
     ]
    },
    {
     "name": "stdout",
     "output_type": "stream",
     "text": [
      "\n",
      " \n",
      "Metrics: \n",
      "Weighted sensivity: 0.5726848767488341\n",
      "Weighted specificity: 0.9621313369462363\n",
      "Weighted precision: 0.5859267290315655\n",
      "Weighted F-score: 0.5736624429055643\n",
      "Accuracy: 0.5726848767488341\n",
      " \n",
      "------------------------------------------------------------------------------------------------------------------\n",
      "-------------------------------------------------- FOLD: 3 -------------------------------------------------------\n",
      "------------------------------------------------------------------------------------------------------------------"
     ]
    },
    {
     "name": "stdout",
     "output_type": "stream",
     "text": [
      "\n",
      " \n",
      "Metrics: \n",
      "Weighted sensivity: 0.5539856038389763\n",
      "Weighted specificity: 0.9627631519967287\n",
      "Weighted precision: 0.5590586029995326\n",
      "Weighted F-score: 0.5542298608342673\n",
      "Accuracy: 0.5539856038389763\n",
      " \n",
      "------------------------------------------------------------------------------------------------------------------\n",
      "-------------------------------------------------- FOLD: 4 -------------------------------------------------------\n",
      "------------------------------------------------------------------------------------------------------------------"
     ]
    },
    {
     "name": "stdout",
     "output_type": "stream",
     "text": [
      "\n",
      " \n",
      "Metrics: \n",
      "Weighted sensivity: 0.5539261431809092\n",
      "Weighted specificity: 0.9611448395285936\n",
      "Weighted precision: 0.568119653643795\n",
      "Weighted F-score: 0.554437273465316\n",
      "Accuracy: 0.5539261431809092\n",
      " \n",
      "------------------------------------------------------------------------------------------------------------------\n",
      "-------------------------------------------------- FOLD: 5 -------------------------------------------------------\n",
      "------------------------------------------------------------------------------------------------------------------"
     ]
    },
    {
     "name": "stdout",
     "output_type": "stream",
     "text": [
      "\n",
      " \n",
      "Metrics: \n",
      "Weighted sensivity: 0.5666666666666667\n",
      "Weighted specificity: 0.9614076427498038\n",
      "Weighted precision: 0.5785985925487821\n",
      "Weighted F-score: 0.5661632019403314\n",
      "Accuracy: 0.5666666666666667\n",
      " \n",
      "------------------------------------------------------------------------------------------------------------------\n"
     ]
    },
    {
     "name": "stdout",
     "output_type": "stream",
     "text": [
      "-------------------------------------------------- FOLD: 6 -------------------------------------------------------\n",
      "------------------------------------------------------------------------------------------------------------------\n",
      " \n",
      "Metrics: \n",
      "Weighted sensivity: 0.5830666666666666\n",
      "Weighted specificity: 0.9649401135031184\n",
      "Weighted precision: 0.5970709185709374\n",
      "Weighted F-score: 0.5843085239642822\n",
      "Accuracy: 0.5830666666666666\n",
      " \n",
      "------------------------------------------------------------------------------------------------------------------\n",
      "-------------------------------------------------- FOLD: 7 -------------------------------------------------------\n",
      "------------------------------------------------------------------------------------------------------------------\n"
     ]
    },
    {
     "name": "stdout",
     "output_type": "stream",
     "text": [
      " \n",
      "Metrics: \n",
      "Weighted sensivity: 0.5666088811841579\n",
      "Weighted specificity: 0.9635985284425922\n",
      "Weighted precision: 0.5764236550559977\n",
      "Weighted F-score: 0.5671063195531529\n",
      "Accuracy: 0.5666088811841579\n",
      " \n",
      "------------------------------------------------------------------------------------------------------------------\n",
      "-------------------------------------------------- FOLD: 8 -------------------------------------------------------\n",
      "------------------------------------------------------------------------------------------------------------------\n"
     ]
    },
    {
     "name": "stdout",
     "output_type": "stream",
     "text": [
      " \n",
      "Metrics: \n",
      "Weighted sensivity: 0.58796852074163\n",
      "Weighted specificity: 0.9654797719752228\n",
      "Weighted precision: 0.5991553790648809\n",
      "Weighted F-score: 0.5899846953615965\n",
      "Accuracy: 0.58796852074163\n",
      " \n",
      "------------------------------------------------------------------------------------------------------------------\n",
      "-------------------------------------------------- FOLD: 9 -------------------------------------------------------\n",
      "------------------------------------------------------------------------------------------------------------------\n"
     ]
    },
    {
     "name": "stdout",
     "output_type": "stream",
     "text": [
      " \n",
      "Metrics: \n",
      "Weighted sensivity: 0.5533022014676451\n",
      "Weighted specificity: 0.9629405517984316\n",
      "Weighted precision: 0.5617165809017716\n",
      "Weighted F-score: 0.553758428084975\n",
      "Accuracy: 0.5533022014676451\n",
      " \n",
      "------------------------------------------------------------------------------------------------------------------\n",
      "-------------------------------------------------- FOLD: 10 -------------------------------------------------------\n",
      "------------------------------------------------------------------------------------------------------------------\n"
     ]
    },
    {
     "name": "stdout",
     "output_type": "stream",
     "text": [
      " \n",
      "Metrics: \n",
      "Weighted sensivity: 0.5641846810781959\n",
      "Weighted specificity: 0.962225039927877\n",
      "Weighted precision: 0.5810084550932865\n",
      "Weighted F-score: 0.5663897898131172\n",
      "Accuracy: 0.5641846810781959\n"
     ]
    }
   ],
   "source": [
    "##MODEL 2\n",
    "\n",
    "parameters_dt = Dict(\"max_depth\" => 20, \"random_state\" => 1);\n",
    "\n",
    "modelCrossValidation(:DecisionTree, parameters_dt, inputs, targets, index)\n",
    "\n",
    "#Fold 8 : Tiempo 1-2 min, f-score: 0.62"
   ]
  },
  {
   "cell_type": "code",
   "execution_count": 14,
   "metadata": {},
   "outputs": [
    {
     "name": "stdout",
     "output_type": "stream",
     "text": [
      " \n",
      "------------------------------------------------------------------------------------------------------------------\n",
      "-------------------------------------------------- FOLD: 1 -------------------------------------------------------\n",
      "------------------------------------------------------------------------------------------------------------------\n"
     ]
    },
    {
     "name": "stdout",
     "output_type": "stream",
     "text": [
      " \n",
      "Metrics: \n",
      "Weighted sensivity: 0.8725189822832023\n",
      "Weighted specificity: 0.989504117674875\n",
      "Weighted precision: 0.8727545540060898\n",
      "Weighted F-score: 0.8724725246033049\n",
      "Accuracy: 0.8725189822832023\n",
      " \n",
      "------------------------------------------------------------------------------------------------------------------\n",
      "-------------------------------------------------- FOLD: 2 -------------------------------------------------------\n",
      "------------------------------------------------------------------------------------------------------------------"
     ]
    },
    {
     "name": "stdout",
     "output_type": "stream",
     "text": [
      "\n",
      " \n",
      "Metrics: \n",
      "Weighted sensivity: 0.8706195869420387\n",
      "Weighted specificity: 0.9893755172265103\n",
      "Weighted precision: 0.8708677460796386\n",
      "Weighted F-score: 0.870618004933345\n",
      "Accuracy: 0.8706195869420387\n",
      " \n",
      "------------------------------------------------------------------------------------------------------------------\n",
      "-------------------------------------------------- FOLD: 3 -------------------------------------------------------\n",
      "------------------------------------------------------------------------------------------------------------------\n"
     ]
    },
    {
     "name": "stdout",
     "output_type": "stream",
     "text": [
      " \n",
      "Metrics: \n",
      "Weighted sensivity: 0.8675019994668088\n",
      "Weighted specificity: 0.9890604263023425\n",
      "Weighted precision: 0.867795077349217\n",
      "Weighted F-score: 0.8674996931707731\n",
      "Accuracy: 0.8675019994668088\n",
      " \n",
      "------------------------------------------------------------------------------------------------------------------\n",
      "-------------------------------------------------- FOLD: 4 -------------------------------------------------------\n",
      "------------------------------------------------------------------------------------------------------------------\n"
     ]
    },
    {
     "name": "stdout",
     "output_type": "stream",
     "text": [
      " \n",
      "Metrics: \n",
      "Weighted sensivity: 0.8725503266231169\n",
      "Weighted specificity: 0.989595985499961\n",
      "Weighted precision: 0.8728212794270879\n",
      "Weighted F-score: 0.8725665327582136\n",
      "Accuracy: 0.8725503266231169\n",
      " \n",
      "------------------------------------------------------------------------------------------------------------------\n",
      "-------------------------------------------------- FOLD: 5 -------------------------------------------------------\n",
      "------------------------------------------------------------------------------------------------------------------\n"
     ]
    },
    {
     "name": "stdout",
     "output_type": "stream",
     "text": [
      " \n",
      "Metrics: \n",
      "Weighted sensivity: 0.8686666666666667\n",
      "Weighted specificity: 0.9895133408436674\n",
      "Weighted precision: 0.8689443819120873\n",
      "Weighted F-score: 0.8686439526863403\n",
      "Accuracy: 0.8686666666666667\n",
      " \n",
      "------------------------------------------------------------------------------------------------------------------\n",
      "-------------------------------------------------- FOLD: 6 -------------------------------------------------------\n",
      "------------------------------------------------------------------------------------------------------------------"
     ]
    },
    {
     "name": "stdout",
     "output_type": "stream",
     "text": [
      "\n",
      " \n",
      "Metrics: \n",
      "Weighted sensivity: 0.8653333333333333\n",
      "Weighted specificity: 0.9889773553571104\n",
      "Weighted precision: 0.8653825351579709\n",
      "Weighted F-score: 0.865300305288304\n",
      "Accuracy: 0.8653333333333333\n",
      " \n",
      "------------------------------------------------------------------------------------------------------------------\n",
      "-------------------------------------------------- FOLD: 7 -------------------------------------------------------\n",
      "------------------------------------------------------------------------------------------------------------------"
     ]
    },
    {
     "name": "stdout",
     "output_type": "stream",
     "text": [
      "\n",
      " \n",
      "Metrics: \n",
      "Weighted sensivity: 0.8733164421922923\n",
      "Weighted specificity: 0.9893619153384083\n",
      "Weighted precision: 0.8736272018061924\n",
      "Weighted F-score: 0.8732656516122579\n",
      "Accuracy: 0.8733164421922923\n",
      " \n",
      "------------------------------------------------------------------------------------------------------------------\n",
      "-------------------------------------------------- FOLD: 8 -------------------------------------------------------\n",
      "------------------------------------------------------------------------------------------------------------------\n"
     ]
    },
    {
     "name": "stdout",
     "output_type": "stream",
     "text": [
      " \n",
      "Metrics: \n",
      "Weighted sensivity: 0.8647458983593438\n",
      "Weighted specificity: 0.9888891461837117\n",
      "Weighted precision: 0.865029725035095\n",
      "Weighted F-score: 0.8647289669586778\n",
      "Accuracy: 0.8647458983593438\n",
      " \n",
      "------------------------------------------------------------------------------------------------------------------\n",
      "-------------------------------------------------- FOLD: 9 -------------------------------------------------------\n",
      "------------------------------------------------------------------------------------------------------------------\n"
     ]
    },
    {
     "name": "stdout",
     "output_type": "stream",
     "text": [
      " \n",
      "Metrics: \n",
      "Weighted sensivity: 0.8737825216811207\n",
      "Weighted specificity: 0.9896132876812728\n",
      "Weighted precision: 0.8740970763190727\n",
      "Weighted F-score: 0.8738342692251049\n",
      "Accuracy: 0.8737825216811207\n",
      " \n",
      "------------------------------------------------------------------------------------------------------------------\n",
      "-------------------------------------------------- FOLD: 10 -------------------------------------------------------\n",
      "------------------------------------------------------------------------------------------------------------------"
     ]
    },
    {
     "name": "stdout",
     "output_type": "stream",
     "text": [
      "\n",
      " \n",
      "Metrics: \n",
      "Weighted sensivity: 0.8709634374166\n",
      "Weighted specificity: 0.989265399937045\n",
      "Weighted precision: 0.8711088951329221\n",
      "Weighted F-score: 0.8709073425631794\n",
      "Accuracy: 0.8709634374166\n"
     ]
    }
   ],
   "source": [
    "##MODEL 3\n",
    "\n",
    "parameters_dt = Dict(\"max_depth\" => 50, \"random_state\" => 1);\n",
    "\n",
    "modelCrossValidation(:DecisionTree, parameters_dt, inputs, targets, index)\n",
    "\n",
    "#Fold 8: tiempo 1-2 min, f-score: 0.875"
   ]
  },
  {
   "cell_type": "code",
   "execution_count": 15,
   "metadata": {},
   "outputs": [
    {
     "name": "stdout",
     "output_type": "stream",
     "text": [
      " \n",
      "------------------------------------------------------------------------------------------------------------------\n",
      "-------------------------------------------------- FOLD: 1 -------------------------------------------------------\n",
      "------------------------------------------------------------------------------------------------------------------\n"
     ]
    },
    {
     "name": "stdout",
     "output_type": "stream",
     "text": [
      " \n",
      "Metrics: \n",
      "Weighted sensivity: 0.8725189822832023\n",
      "Weighted specificity: 0.989504117674875\n",
      "Weighted precision: 0.8727545540060898\n",
      "Weighted F-score: 0.8724725246033049\n",
      "Accuracy: 0.8725189822832023\n",
      " \n",
      "------------------------------------------------------------------------------------------------------------------\n",
      "-------------------------------------------------- FOLD: 2 -------------------------------------------------------\n",
      "------------------------------------------------------------------------------------------------------------------"
     ]
    },
    {
     "name": "stdout",
     "output_type": "stream",
     "text": [
      "\n",
      " \n",
      "Metrics: \n",
      "Weighted sensivity: 0.8706195869420387\n",
      "Weighted specificity: 0.9893755172265103\n",
      "Weighted precision: 0.8708677460796386\n",
      "Weighted F-score: 0.870618004933345\n",
      "Accuracy: 0.8706195869420387\n",
      " \n",
      "------------------------------------------------------------------------------------------------------------------\n",
      "-------------------------------------------------- FOLD: 3 -------------------------------------------------------\n"
     ]
    },
    {
     "name": "stdout",
     "output_type": "stream",
     "text": [
      "------------------------------------------------------------------------------------------------------------------\n",
      " \n",
      "Metrics: \n",
      "Weighted sensivity: 0.8680351906158358\n",
      "Weighted specificity: 0.9890413490592279\n",
      "Weighted precision: 0.8682426462564926\n",
      "Weighted F-score: 0.8680012430945722\n",
      "Accuracy: 0.8680351906158358\n",
      " \n",
      "------------------------------------------------------------------------------------------------------------------\n",
      "-------------------------------------------------- FOLD: 4 -------------------------------------------------------\n",
      "------------------------------------------------------------------------------------------------------------------"
     ]
    },
    {
     "name": "stdout",
     "output_type": "stream",
     "text": [
      "\n",
      " \n",
      "Metrics: \n",
      "Weighted sensivity: 0.8725503266231169\n",
      "Weighted specificity: 0.989595985499961\n",
      "Weighted precision: 0.8728212794270879\n",
      "Weighted F-score: 0.8725665327582136\n",
      "Accuracy: 0.8725503266231169\n",
      " \n",
      "------------------------------------------------------------------------------------------------------------------\n",
      "-------------------------------------------------- FOLD: 5 -------------------------------------------------------\n",
      "------------------------------------------------------------------------------------------------------------------"
     ]
    },
    {
     "name": "stdout",
     "output_type": "stream",
     "text": [
      "\n",
      " \n",
      "Metrics: \n",
      "Weighted sensivity: 0.8686666666666667\n",
      "Weighted specificity: 0.9895133408436674\n",
      "Weighted precision: 0.8689443819120873\n",
      "Weighted F-score: 0.8686439526863403\n",
      "Accuracy: 0.8686666666666667\n"
     ]
    },
    {
     "name": "stdout",
     "output_type": "stream",
     "text": [
      " \n",
      "------------------------------------------------------------------------------------------------------------------\n",
      "-------------------------------------------------- FOLD: 6 -------------------------------------------------------\n",
      "------------------------------------------------------------------------------------------------------------------\n"
     ]
    },
    {
     "name": "stdout",
     "output_type": "stream",
     "text": [
      " \n",
      "Metrics: \n",
      "Weighted sensivity: 0.8653333333333333\n",
      "Weighted specificity: 0.9889773553571104\n",
      "Weighted precision: 0.8653825351579709\n",
      "Weighted F-score: 0.865300305288304\n",
      "Accuracy: 0.8653333333333333\n",
      " \n",
      "------------------------------------------------------------------------------------------------------------------\n",
      "-------------------------------------------------- FOLD: 7 -------------------------------------------------------\n",
      "------------------------------------------------------------------------------------------------------------------\n"
     ]
    },
    {
     "name": "stdout",
     "output_type": "stream",
     "text": [
      " \n",
      "Metrics: \n",
      "Weighted sensivity: 0.8733164421922923\n",
      "Weighted specificity: 0.9893619153384083\n",
      "Weighted precision: 0.8736272018061924\n",
      "Weighted F-score: 0.8732656516122579\n",
      "Accuracy: 0.8733164421922923\n",
      " \n",
      "------------------------------------------------------------------------------------------------------------------\n",
      "-------------------------------------------------- FOLD: 8 -------------------------------------------------------\n",
      "------------------------------------------------------------------------------------------------------------------"
     ]
    },
    {
     "name": "stdout",
     "output_type": "stream",
     "text": [
      "\n",
      " \n",
      "Metrics: \n",
      "Weighted sensivity: 0.8647458983593438\n",
      "Weighted specificity: 0.9888891461837117\n",
      "Weighted precision: 0.865029725035095\n",
      "Weighted F-score: 0.8647289669586778\n",
      "Accuracy: 0.8647458983593438\n",
      " \n",
      "------------------------------------------------------------------------------------------------------------------\n",
      "-------------------------------------------------- FOLD: 9 -------------------------------------------------------\n",
      "------------------------------------------------------------------------------------------------------------------"
     ]
    },
    {
     "name": "stdout",
     "output_type": "stream",
     "text": [
      "\n",
      " \n",
      "Metrics: \n",
      "Weighted sensivity: 0.8737825216811207\n",
      "Weighted specificity: 0.9896132876812728\n",
      "Weighted precision: 0.8740970763190727\n",
      "Weighted F-score: 0.8738342692251049\n",
      "Accuracy: 0.8737825216811207\n",
      " \n",
      "------------------------------------------------------------------------------------------------------------------\n",
      "-------------------------------------------------- FOLD: 10 -------------------------------------------------------\n",
      "------------------------------------------------------------------------------------------------------------------"
     ]
    },
    {
     "name": "stdout",
     "output_type": "stream",
     "text": [
      "\n",
      " \n",
      "Metrics: \n",
      "Weighted sensivity: 0.8698959167333867\n",
      "Weighted specificity: 0.9892260357794278\n",
      "Weighted precision: 0.8699895792400253\n",
      "Weighted F-score: 0.8698475367635538\n",
      "Accuracy: 0.8698959167333867\n"
     ]
    }
   ],
   "source": [
    "##MODEL 4\n",
    "\n",
    "parameters_dt = Dict(\"max_depth\" => 100, \"random_state\" => 1);\n",
    "\n",
    "modelCrossValidation(:DecisionTree, parameters_dt, inputs, targets, index)\n",
    "\n",
    "#Fold : Tiempo 1-2 min, F-score: 0.875"
   ]
  },
  {
   "cell_type": "code",
   "execution_count": 16,
   "metadata": {},
   "outputs": [
    {
     "name": "stdout",
     "output_type": "stream",
     "text": [
      " \n",
      "------------------------------------------------------------------------------------------------------------------\n",
      "-------------------------------------------------- FOLD: 1 -------------------------------------------------------\n",
      "------------------------------------------------------------------------------------------------------------------"
     ]
    },
    {
     "name": "stdout",
     "output_type": "stream",
     "text": [
      "\n",
      " \n",
      "Metrics: \n",
      "Weighted sensivity: 0.8678566671106966\n",
      "Weighted specificity: 0.9892051026255978\n",
      "Weighted precision: 0.8679711009227422\n",
      "Weighted F-score: 0.8677837341144881\n",
      "Accuracy: 0.8678566671106966\n",
      " \n",
      "------------------------------------------------------------------------------------------------------------------\n",
      "-------------------------------------------------- FOLD: 2 -------------------------------------------------------\n",
      "------------------------------------------------------------------------------------------------------------------\n"
     ]
    },
    {
     "name": "stdout",
     "output_type": "stream",
     "text": [
      " \n",
      "Metrics: \n",
      "Weighted sensivity: 0.8663557628247834\n",
      "Weighted specificity: 0.9891572718661824\n",
      "Weighted precision: 0.8665734676135721\n",
      "Weighted F-score: 0.8663530990477606\n",
      "Accuracy: 0.8663557628247834\n",
      " \n",
      "------------------------------------------------------------------------------------------------------------------\n",
      "-------------------------------------------------- FOLD: 3 -------------------------------------------------------\n",
      "------------------------------------------------------------------------------------------------------------------\n"
     ]
    },
    {
     "name": "stdout",
     "output_type": "stream",
     "text": [
      " \n",
      "Metrics: \n",
      "Weighted sensivity: 0.8624366835510531\n",
      "Weighted specificity: 0.988734993151925\n",
      "Weighted precision: 0.8625350966886839\n",
      "Weighted F-score: 0.8623570896434081\n",
      "Accuracy: 0.8624366835510531\n",
      " \n",
      "------------------------------------------------------------------------------------------------------------------\n",
      "-------------------------------------------------- FOLD: 4 -------------------------------------------------------\n",
      "------------------------------------------------------------------------------------------------------------------"
     ]
    },
    {
     "name": "stdout",
     "output_type": "stream",
     "text": [
      "\n",
      " \n",
      "Metrics: \n",
      "Weighted sensivity: 0.8702839621383816\n",
      "Weighted specificity: 0.9895238020384078\n",
      "Weighted precision: 0.8704971972948673\n",
      "Weighted F-score: 0.8702884108634712\n",
      "Accuracy: 0.8702839621383816\n",
      " \n",
      "------------------------------------------------------------------------------------------------------------------\n",
      "-------------------------------------------------- FOLD: 5 -------------------------------------------------------\n",
      "------------------------------------------------------------------------------------------------------------------\n"
     ]
    },
    {
     "name": "stdout",
     "output_type": "stream",
     "text": [
      " \n",
      "Metrics: \n",
      "Weighted sensivity: 0.8652\n",
      "Weighted specificity: 0.9891848229047346\n",
      "Weighted precision: 0.8654923323289709\n",
      "Weighted F-score: 0.8651907181323039\n",
      "Accuracy: 0.8652\n",
      " \n",
      "------------------------------------------------------------------------------------------------------------------\n",
      "-------------------------------------------------- FOLD: 6 -------------------------------------------------------\n",
      "------------------------------------------------------------------------------------------------------------------"
     ]
    },
    {
     "name": "stdout",
     "output_type": "stream",
     "text": [
      "\n",
      " \n",
      "Metrics: \n",
      "Weighted sensivity: 0.8650666666666667\n",
      "Weighted specificity: 0.9889601845402493\n",
      "Weighted precision: 0.865042809360752\n",
      "Weighted F-score: 0.8649978446007014\n",
      "Accuracy: 0.8650666666666667\n",
      " \n",
      "------------------------------------------------------------------------------------------------------------------\n",
      "-------------------------------------------------- FOLD: 7 -------------------------------------------------------\n",
      "------------------------------------------------------------------------------------------------------------------\n"
     ]
    },
    {
     "name": "stdout",
     "output_type": "stream",
     "text": [
      " \n",
      "Metrics: \n",
      "Weighted sensivity: 0.8713161754900653\n",
      "Weighted specificity: 0.989331374988748\n",
      "Weighted precision: 0.8714163547113647\n",
      "Weighted F-score: 0.8712602547604763\n",
      "Accuracy: 0.8713161754900653\n",
      " \n",
      "------------------------------------------------------------------------------------------------------------------\n",
      "-------------------------------------------------- FOLD: 8 -------------------------------------------------------\n",
      "------------------------------------------------------------------------------------------------------------------"
     ]
    },
    {
     "name": "stdout",
     "output_type": "stream",
     "text": [
      "\n",
      " \n",
      "Metrics: \n",
      "Weighted sensivity: 0.8632786447912498\n",
      "Weighted specificity: 0.9888393997996423\n",
      "Weighted precision: 0.8635077872569882\n",
      "Weighted F-score: 0.863262224076503\n",
      "Accuracy: 0.8632786447912498\n",
      " \n",
      "------------------------------------------------------------------------------------------------------------------\n",
      "-------------------------------------------------- FOLD: 9 -------------------------------------------------------\n",
      "------------------------------------------------------------------------------------------------------------------\n"
     ]
    },
    {
     "name": "stdout",
     "output_type": "stream",
     "text": [
      " \n",
      "Metrics: \n",
      "Weighted sensivity: 0.8740493662441627\n",
      "Weighted specificity: 0.9898419522525731\n",
      "Weighted precision: 0.8744660071547131\n",
      "Weighted F-score: 0.8741046586151371\n",
      "Accuracy: 0.8740493662441627\n",
      " \n",
      "------------------------------------------------------------------------------------------------------------------\n",
      "-------------------------------------------------- FOLD: 10 -------------------------------------------------------\n",
      "------------------------------------------------------------------------------------------------------------------"
     ]
    },
    {
     "name": "stdout",
     "output_type": "stream",
     "text": [
      "\n",
      " \n",
      "Metrics: \n",
      "Weighted sensivity: 0.8656258340005337\n",
      "Weighted specificity: 0.9889446448746039\n",
      "Weighted precision: 0.865887611518176\n",
      "Weighted F-score: 0.8655908100919506\n",
      "Accuracy: 0.8656258340005337\n"
     ]
    }
   ],
   "source": [
    "##MODEL 5\n",
    "\n",
    "parameters_dt = Dict(\"max_depth\" => 40, \"random_state\" => 1);\n",
    "\n",
    "modelCrossValidation(:DecisionTree, parameters_dt, inputs, targets, index)\n",
    "\n",
    "#Fold 8: Tiempo 1-2 min, F-score: 0.874"
   ]
  },
  {
   "cell_type": "code",
   "execution_count": 17,
   "metadata": {},
   "outputs": [
    {
     "name": "stdout",
     "output_type": "stream",
     "text": [
      " \n",
      "------------------------------------------------------------------------------------------------------------------\n",
      "-------------------------------------------------- FOLD: 1 -------------------------------------------------------\n",
      "------------------------------------------------------------------------------------------------------------------\n"
     ]
    },
    {
     "name": "stdout",
     "output_type": "stream",
     "text": [
      " \n",
      "Metrics: \n",
      "Weighted sensivity: 0.8096443319568403\n",
      "Weighted specificity: 0.984386282278957\n",
      "Weighted precision: 0.8105375860048398\n",
      "Weighted F-score: 0.8097346579607162\n",
      "Accuracy: 0.8096443319568403\n",
      " \n",
      "------------------------------------------------------------------------------------------------------------------\n",
      "-------------------------------------------------- FOLD: 2 -------------------------------------------------------\n",
      "------------------------------------------------------------------------------------------------------------------\n"
     ]
    },
    {
     "name": "stdout",
     "output_type": "stream",
     "text": [
      " \n",
      "Metrics: \n",
      "Weighted sensivity: 0.8154563624250499\n",
      "Weighted specificity: 0.984703553599974\n",
      "Weighted precision: 0.8169291969156448\n",
      "Weighted F-score: 0.8155528529524467\n",
      "Accuracy: 0.8154563624250499\n",
      " \n",
      "------------------------------------------------------------------------------------------------------------------\n",
      "-------------------------------------------------- FOLD: 3 -------------------------------------------------------\n",
      "------------------------------------------------------------------------------------------------------------------\n"
     ]
    },
    {
     "name": "stdout",
     "output_type": "stream",
     "text": [
      " \n",
      "Metrics: \n",
      "Weighted sensivity: 0.8261796854172221\n",
      "Weighted specificity: 0.9854338844235112\n",
      "Weighted precision: 0.8271984651812826\n",
      "Weighted F-score: 0.8262316746572361\n",
      "Accuracy: 0.8261796854172221\n",
      " \n",
      "------------------------------------------------------------------------------------------------------------------\n",
      "-------------------------------------------------- FOLD: 4 -------------------------------------------------------\n",
      "------------------------------------------------------------------------------------------------------------------\n"
     ]
    },
    {
     "name": "stdout",
     "output_type": "stream",
     "text": [
      " \n",
      "Metrics: \n",
      "Weighted sensivity: 0.8305559258765498\n",
      "Weighted specificity: 0.9865211250498355\n",
      "Weighted precision: 0.8314144278233432\n",
      "Weighted F-score: 0.8306486383820569\n",
      "Accuracy: 0.8305559258765498\n",
      " \n",
      "------------------------------------------------------------------------------------------------------------------\n",
      "-------------------------------------------------- FOLD: 5 -------------------------------------------------------\n",
      "------------------------------------------------------------------------------------------------------------------"
     ]
    },
    {
     "name": "stdout",
     "output_type": "stream",
     "text": [
      "\n",
      " \n",
      "Metrics: \n",
      "Weighted sensivity: 0.8141333333333334\n",
      "Weighted specificity: 0.9843763168370749\n",
      "Weighted precision: 0.8151898042131693\n",
      "Weighted F-score: 0.814137821607802\n",
      "Accuracy: 0.8141333333333334\n",
      " \n",
      "------------------------------------------------------------------------------------------------------------------\n",
      "-------------------------------------------------- FOLD: 6 -------------------------------------------------------\n",
      "------------------------------------------------------------------------------------------------------------------"
     ]
    },
    {
     "name": "stdout",
     "output_type": "stream",
     "text": [
      "\n",
      " \n",
      "Metrics: \n",
      "Weighted sensivity: 0.8398666666666667\n",
      "Weighted specificity: 0.9870965566405642\n",
      "Weighted precision: 0.8400496238386062\n",
      "Weighted F-score: 0.8398874416353911\n",
      "Accuracy: 0.8398666666666667\n",
      " \n",
      "------------------------------------------------------------------------------------------------------------------\n",
      "-------------------------------------------------- FOLD: 7 -------------------------------------------------------\n",
      "------------------------------------------------------------------------------------------------------------------"
     ]
    },
    {
     "name": "stdout",
     "output_type": "stream",
     "text": [
      "\n",
      " \n",
      "Metrics: \n",
      "Weighted sensivity: 0.8337111614881985\n",
      "Weighted specificity: 0.986718806349077\n",
      "Weighted precision: 0.834904146898819\n",
      "Weighted F-score: 0.8338633028803389\n",
      "Accuracy: 0.8337111614881985\n",
      " \n",
      "------------------------------------------------------------------------------------------------------------------\n",
      "-------------------------------------------------- FOLD: 8 -------------------------------------------------------\n",
      "------------------------------------------------------------------------------------------------------------------\n"
     ]
    },
    {
     "name": "stdout",
     "output_type": "stream",
     "text": [
      " \n",
      "Metrics: \n",
      "Weighted sensivity: 0.8225957049486461\n",
      "Weighted specificity: 0.9851205620290491\n",
      "Weighted precision: 0.8239226705870787\n",
      "Weighted F-score: 0.8227426771653313\n",
      "Accuracy: 0.8225957049486461\n",
      " \n",
      "------------------------------------------------------------------------------------------------------------------\n",
      "-------------------------------------------------- FOLD: 9 -------------------------------------------------------\n",
      "------------------------------------------------------------------------------------------------------------------\n"
     ]
    },
    {
     "name": "stdout",
     "output_type": "stream",
     "text": [
      " \n",
      "Metrics: \n",
      "Weighted sensivity: 0.8392261507671781\n",
      "Weighted specificity: 0.9872717261974869\n",
      "Weighted precision: 0.8404737472751049\n",
      "Weighted F-score: 0.839568230769047\n",
      "Accuracy: 0.8392261507671781\n",
      " \n",
      "------------------------------------------------------------------------------------------------------------------\n",
      "-------------------------------------------------- FOLD: 10 -------------------------------------------------------\n",
      "------------------------------------------------------------------------------------------------------------------"
     ]
    },
    {
     "name": "stdout",
     "output_type": "stream",
     "text": [
      "\n",
      " \n",
      "Metrics: \n",
      "Weighted sensivity: 0.828796370429677\n",
      "Weighted specificity: 0.9857786636299714\n",
      "Weighted precision: 0.830100138920832\n",
      "Weighted F-score: 0.8288695207803307\n",
      "Accuracy: 0.828796370429677\n"
     ]
    }
   ],
   "source": [
    "##MODEL 6\n",
    "\n",
    "parameters_dt = Dict(\"max_depth\" => 30, \"random_state\" => 1);\n",
    "\n",
    "modelCrossValidation(:DecisionTree, parameters_dt, inputs, targets, index)\n",
    "\n",
    "#Fold 8: Tiempo 1-2 min, F-score: 0.842"
   ]
  },
  {
   "cell_type": "code",
   "execution_count": 56,
   "metadata": {},
   "outputs": [
    {
     "data": {
      "text/plain": [
       "([0.0 0.0 … 0.0 0.0; 0.0 0.0 … 0.0 0.0; … ; 0.0 0.0 … 0.0 0.0; 0.0 0.0 … 0.0 0.0], 0.14814814814814814, 0.9035574606808254, 0.049457994579945805, 0.9348584167430324, 0.06634806849860614, 0.09393939393939395, 0.9367803739219317, 0.03035230352303523, 0.9400832289295309, 0.04100358422939068, 0.8864197530864197, 0.11358024691358026)"
      ]
     },
     "metadata": {},
     "output_type": "display_data"
    }
   ],
   "source": [
    "#Como abrir los modelos (los outputs pq el modelo da error)\n",
    "\n",
    "folder_path = \"modeldt 5\"\n",
    "\n",
    "# File path to load the model from inside the folder\n",
    "model_file_path = joinpath(folder_path, \"targets_dtmodel1.jld2\")\n",
    "\n",
    "targets_model = nothing\n",
    "\n",
    "# Load the model from the JLD file\n",
    "loaded_model = JLD2.jldopen(model_file_path) do file\n",
    "     global targets_model\n",
    "     targets_model = read(file, \"targets_test\")\n",
    "end\n",
    "\n",
    "model2_file_path = joinpath(folder_path, \"outputs_dtmodel1.jld2\")\n",
    "\n",
    "outputs_model = nothing\n",
    "\n",
    "# Load the model from the JLD file\n",
    "loaded_model = JLD2.jldopen(model2_file_path) do file\n",
    "     global outputs_model\n",
    "     outputs_model = read(file, \"outputs_model\")\n",
    "end\n",
    "\n",
    "confusionMatrix(outputs_model, targets_model)\n"
   ]
  },
  {
   "cell_type": "markdown",
   "metadata": {},
   "source": [
    "Al aumentar la profundidad conseguimos resultados mejores, llegando a un punto donde se estanca (usa una determinada profundidad simplemente) en nuestro caso a partir de una profundidad de 30 los resultados que se consiguen son simmilares (mejores con 40). Así, pese a que computacionalmente en este caso no es muy caro, el mejor modelo es el de profundidad 40 consiguiendo resultados similares a los de profundidades mayores pero al tener menor profundidad con un coste computacional menor. "
   ]
  },
  {
   "cell_type": "markdown",
   "metadata": {},
   "source": [
    "### Ensemble models"
   ]
  },
  {
   "cell_type": "markdown",
   "metadata": {},
   "source": [
    "Viendo los modelos claramente conseguimos los mejores resultados en las SVM, kNN y decision trees. Probaremos a hacer un ensemble model con todos ellos. "
   ]
  },
  {
   "cell_type": "code",
   "execution_count": 29,
   "metadata": {},
   "outputs": [
    {
     "name": "stderr",
     "output_type": "stream",
     "text": [
      "WARNING: redefinition of constant SVC. This may fail, cause incorrect answers, or produce other errors.\n",
      "WARNING: redefinition of constant DecisionTreeClassifier. This may fail, cause incorrect answers, or produce other errors.\n",
      "WARNING: redefinition of constant KNeighborsClassifier. This may fail, cause incorrect answers, or produce other errors.\n"
     ]
    }
   ],
   "source": [
    "include(\"functions_finalproject.jl\")\n",
    "parameters = [\n",
    "    Dict(\"model\" => \"kNN\", \"n_neighbors\" => 1);\n",
    "    Dict(\"model\" => \"DecisionTree\", \"max_depth\" => 30, \"random_state\" => 1);\n",
    "    Dict(\"model\" => \"DecisionTree\", \"max_depth\" => 30, \"random_state\" => 1);\n",
    "    ];\n",
    "\n",
    "parameters = Vector{Dict}(parameters);\n",
    "estimators = [:SVM, :kNN,];"
   ]
  },
  {
   "cell_type": "code",
   "execution_count": 30,
   "metadata": {},
   "outputs": [
    {
     "name": "stderr",
     "output_type": "stream",
     "text": [
      "WARNING: redefinition of constant KNeighborsClassifier. This may fail, cause incorrect answers, or produce other errors.\n",
      "WARNING: redefinition of constant SVC. This may fail, cause incorrect answers, or produce other errors.\n",
      "WARNING: redefinition of constant SVC. This may fail, cause incorrect answers, or produce other errors.\n",
      "WARNING: redefinition of constant DecisionTreeClassifier. This may fail, cause incorrect answers, or produce other errors.\n"
     ]
    },
    {
     "data": {
      "text/plain": [
       "PyObject <class 'sklearn.naive_bayes.GaussianNB'>"
      ]
     },
     "metadata": {},
     "output_type": "display_data"
    }
   ],
   "source": [
    "@sk_import neighbors: KNeighborsClassifier;\n",
    "@sk_import ensemble:(AdaBoostClassifier, GradientBoostingClassifier)\n",
    "@sk_import svm:SVC\n",
    "@sk_import ensemble:BaggingClassifier\n",
    "@sk_import ensemble:StackingClassifier\n",
    "@sk_import ensemble:VotingClassifier\n",
    "@sk_import svm:SVC\n",
    "@sk_import tree:DecisionTreeClassifier\n",
    "@sk_import linear_model:LogisticRegression\n",
    "@sk_import naive_bayes:GaussianNB "
   ]
  },
  {
   "cell_type": "code",
   "execution_count": 31,
   "metadata": {},
   "outputs": [],
   "source": [
    "trainClassEnsemble(estimators, parameters, (inputs, targets), index);\n",
    "\n",
    "#Ordenador cristian 53 mins. Accuracy 88% (pilla mal la media pq usa un vector vacio y al hacer un fold solo lo calcula mal) consigue un f1-score de 0.8859"
   ]
  },
  {
   "cell_type": "code",
   "execution_count": 60,
   "metadata": {},
   "outputs": [
    {
     "data": {
      "text/plain": [
       "([0.0 0.0 … 0.0 0.0; 0.0 0.0 … 0.0 0.0; … ; 0.0 0.0 … 0.0 0.0; 0.0 0.0 … 0.0 0.0], 0.14814814814814814, 0.9035574606808254, 0.049457994579945805, 0.9348584167430324, 0.06634806849860614, 0.09393939393939395, 0.9367803739219317, 0.03035230352303523, 0.9400832289295309, 0.04100358422939068, 0.8864197530864197, 0.11358024691358026)"
      ]
     },
     "metadata": {},
     "output_type": "display_data"
    }
   ],
   "source": [
    "#Como abrir los modelos (los outputs pq el modelo da error)\n",
    "\n",
    "folder_path = \"modelensemble\"\n",
    "\n",
    "# File path to load the model from inside the folder\n",
    "model_file_path = joinpath(folder_path, \"targets_ensemblemodel1.jld2\")\n",
    "\n",
    "targets_model = nothing\n",
    "\n",
    "# Load the model from the JLD file\n",
    "loaded_model = JLD2.jldopen(model_file_path) do file\n",
    "     global targets_model\n",
    "     targets_model = read(file, \"targets_test\")\n",
    "end\n",
    "\n",
    "model2_file_path = joinpath(folder_path, \"outputs_ensemblemodel1.jld2\")\n",
    "\n",
    "outputs_model = nothing\n",
    "\n",
    "# Load the model from the JLD file\n",
    "loaded_model = JLD2.jldopen(model2_file_path) do file\n",
    "     global outputs_model\n",
    "     outputs_model = read(file, \"outputs_model\")\n",
    "end\n",
    "\n",
    "confusionMatrix(outputs_model, targets_model)\n"
   ]
  }
 ],
 "metadata": {
  "kernelspec": {
   "display_name": "Julia 1.9.3",
   "language": "julia",
   "name": "julia-1.9"
  },
  "language_info": {
   "file_extension": ".jl",
   "mimetype": "application/julia",
   "name": "julia",
   "version": "1.9.3"
  }
 },
 "nbformat": 4,
 "nbformat_minor": 2
}
